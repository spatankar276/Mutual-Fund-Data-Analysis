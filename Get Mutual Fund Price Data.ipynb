{
 "cells": [
  {
   "cell_type": "code",
   "execution_count": 1,
   "metadata": {},
   "outputs": [],
   "source": [
    "import pandas as pd\n",
    "import numpy as np\n",
    "import requests\n",
    "import json\n",
    "import re\n",
    "import seaborn as sns\n",
    "import time\n",
    "import random\n",
    "import datetime\n",
    "from fund_analysis import *\n",
    "\n",
    "\n",
    "\n",
    "\n"
   ]
  },
  {
   "cell_type": "markdown",
   "metadata": {},
   "source": [
    "# Choose Sample Size"
   ]
  },
  {
   "cell_type": "code",
   "execution_count": 2,
   "metadata": {},
   "outputs": [],
   "source": [
    "sample_size = 20"
   ]
  },
  {
   "cell_type": "code",
   "execution_count": 3,
   "metadata": {},
   "outputs": [
    {
     "name": "stderr",
     "output_type": "stream",
     "text": [
      "/anaconda3/lib/python3.6/site-packages/IPython/core/interactiveshell.py:2728: DtypeWarning: Columns (5,12,49,50,51,62,65,66) have mixed types. Specify dtype option on import or set low_memory=False.\n",
      "  interactivity=interactivity, compiler=compiler, result=result)\n",
      "/anaconda3/lib/python3.6/site-packages/IPython/core/interactiveshell.py:2728: DtypeWarning: Columns (5,12,49,50,51,62,65,66) have mixed types. Specify dtype option on import or set low_memory=False.\n",
      "  interactivity=interactivity, compiler=compiler, result=result)\n"
     ]
    }
   ],
   "source": [
    "data = pd.read_csv('CRSP.csv')"
   ]
  },
  {
   "cell_type": "code",
   "execution_count": 4,
   "metadata": {},
   "outputs": [],
   "source": [
    "start = pd.to_datetime('01/01/1988')\n",
    "end = pd.to_datetime('04/16/2018')\n"
   ]
  },
  {
   "cell_type": "code",
   "execution_count": 5,
   "metadata": {},
   "outputs": [],
   "source": [
    "df = pd.DataFrame({'Fund Name' : data['fund_name'], 'Fund Ticker' : data['ticker'], \n",
    "                   'Open to Investors' : data['open_to_inv'], 'Expense Ratio' : data['exp_ratio'],\n",
    "                  'Management Fee' : data['mgmt_fee'], 'Turnover Ratio' : data['turn_ratio']})"
   ]
  },
  {
   "cell_type": "code",
   "execution_count": 6,
   "metadata": {},
   "outputs": [],
   "source": [
    "df.dropna(inplace = True)"
   ]
  },
  {
   "cell_type": "code",
   "execution_count": 7,
   "metadata": {},
   "outputs": [],
   "source": [
    "df['Active or Passive'] = df['Expense Ratio'].apply(managed)\n",
    "df['Active or Passive'] = df['Turnover Ratio'].apply(managed_turn)"
   ]
  },
  {
   "cell_type": "code",
   "execution_count": 8,
   "metadata": {},
   "outputs": [],
   "source": [
    "df = df[df['Open to Investors'] == 'Y']"
   ]
  },
  {
   "cell_type": "code",
   "execution_count": 9,
   "metadata": {},
   "outputs": [],
   "source": [
    "df = df[df['Management Fee'] > 0]"
   ]
  },
  {
   "cell_type": "code",
   "execution_count": 10,
   "metadata": {},
   "outputs": [],
   "source": [
    "df = df[df['Expense Ratio'] > 0]"
   ]
  },
  {
   "cell_type": "code",
   "execution_count": 11,
   "metadata": {},
   "outputs": [],
   "source": [
    "df.drop_duplicates(subset = ['Fund Ticker'], inplace = True)"
   ]
  },
  {
   "cell_type": "code",
   "execution_count": 12,
   "metadata": {
    "scrolled": true
   },
   "outputs": [],
   "source": [
    "df_active = df[df['Active or Passive'] == 'active']\n",
    "df_passive = df[df['Active or Passive'] != 'active']"
   ]
  },
  {
   "cell_type": "code",
   "execution_count": 13,
   "metadata": {},
   "outputs": [],
   "source": [
    "df_active_sample = df_active.sample(sample_size)\n",
    "df_passive_sample = df_passive.sample(sample_size)"
   ]
  },
  {
   "cell_type": "code",
   "execution_count": 14,
   "metadata": {},
   "outputs": [],
   "source": [
    "active_price_data = {}\n",
    "passive_price_data = {}"
   ]
  },
  {
   "cell_type": "code",
   "execution_count": 15,
   "metadata": {},
   "outputs": [
    {
     "name": "stdout",
     "output_type": "stream",
     "text": [
      "Progress:\n",
      "\n",
      "Progress:\n",
      "\n",
      "1\n",
      "1\n",
      "2\n",
      "2\n",
      "3\n",
      "3\n",
      "4\n",
      "4\n",
      "5\n",
      "5\n",
      "6\n",
      "6\n",
      "7\n",
      "7\n",
      "8\n",
      "8\n",
      "9\n",
      "9\n",
      "10\n",
      "10\n",
      "11\n",
      "11\n",
      "12\n",
      "12\n",
      "13\n",
      "13\n",
      "14\n",
      "14\n",
      "15\n",
      "15\n",
      "16\n",
      "16\n",
      "17\n",
      "17\n",
      "18\n",
      "18\n",
      "19\n",
      "19\n",
      "20\n",
      "20\n",
      "21\n",
      "21\n",
      "22\n",
      "22\n",
      "23\n",
      "23\n",
      "24\n",
      "24\n",
      "25\n",
      "25\n",
      "26\n",
      "26\n",
      "27\n",
      "27\n",
      "28\n",
      "28\n",
      "29\n",
      "29\n",
      "30\n",
      "30\n",
      "31\n",
      "31\n",
      "32\n",
      "32\n",
      "33\n",
      "33\n",
      "34\n",
      "34\n",
      "35\n",
      "35\n",
      "36\n",
      "36\n",
      "37\n",
      "37\n",
      "38\n",
      "38\n",
      "39\n",
      "39\n",
      "40\n",
      "40\n"
     ]
    }
   ],
   "source": [
    "counter = 0\n",
    "\n",
    "\n",
    "print('Progress:')\n",
    "print('')\n",
    "for fund in df_active_sample['Fund Ticker']:\n",
    "    # don't want to get blocked by yahoo\n",
    "    sleeps = random.randint(4,17)\n",
    "    time.sleep(sleeps)\n",
    "    try:\n",
    "        active_price_data[fund] = get_yahoo_prices(fund, start, end).reset_index()[['date','close']]\n",
    "        counter += 1\n",
    "        print(counter)\n",
    "\n",
    "\n",
    "    except:\n",
    "        counter += 1\n",
    "        print(counter)\n",
    "        pass\n",
    "        \n",
    "for fund in df_passive_sample['Fund Ticker']:\n",
    "    # don't want to get blocked by yahoo\n",
    "    sleeps = random.randint(4,17)\n",
    "    time.sleep(sleeps)\n",
    "    try:\n",
    "        passive_price_data[fund] = get_yahoo_prices(fund, start, end).reset_index()[['date','close']]\n",
    "        counter += 1\n",
    "        print(counter)\n",
    "    except:\n",
    "        counter += 1\n",
    "        print(counter)\n",
    "        pass\n"
   ]
  },
  {
   "cell_type": "code",
   "execution_count": 16,
   "metadata": {},
   "outputs": [],
   "source": [
    "active_dated = pd.DataFrame({'date' : pd.date_range('1/1/1980', '4/19/2018')})\n",
    "passive_dated = pd.DataFrame({'date' : pd.date_range('1/1/1980', '4/19/2018')})"
   ]
  },
  {
   "cell_type": "code",
   "execution_count": 17,
   "metadata": {},
   "outputs": [],
   "source": [
    "active_price = merged(active_dated, active_price_data)\n",
    "passive_price = merged(passive_dated, passive_price_data)"
   ]
  },
  {
   "cell_type": "code",
   "execution_count": 18,
   "metadata": {},
   "outputs": [],
   "source": [
    "# let's make the dataframes the same size\n",
    "\n",
    "if len(active_price.columns) != len(passive_price.columns):\n",
    "        if len(active_price.columns) > len(passive_price.columns):\n",
    "            num = len(active_price.columns) - (len(active_price.columns) - len(passive_price.columns))\n",
    "            active_price = active_price.iloc[:,:num]\n",
    "        else:\n",
    "            num = len(passive_price.columns) - (len(passive_price.columns) - len(active_price.columns))\n",
    "            passive_price = passive_price.iloc[:,:num]"
   ]
  },
  {
   "cell_type": "code",
   "execution_count": 19,
   "metadata": {},
   "outputs": [],
   "source": [
    "passive_price.to_csv('passive_price_data.csv')\n",
    "active_price.to_csv('active_price_data.csv')"
   ]
  }
 ],
 "metadata": {
  "kernelspec": {
   "display_name": "Python 3",
   "language": "python",
   "name": "python3"
  },
  "language_info": {
   "codemirror_mode": {
    "name": "ipython",
    "version": 3
   },
   "file_extension": ".py",
   "mimetype": "text/x-python",
   "name": "python",
   "nbconvert_exporter": "python",
   "pygments_lexer": "ipython3",
   "version": "3.6.4"
  }
 },
 "nbformat": 4,
 "nbformat_minor": 2
}
