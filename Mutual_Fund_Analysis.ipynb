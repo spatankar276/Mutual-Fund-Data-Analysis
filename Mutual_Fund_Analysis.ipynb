{
 "cells": [
  {
   "cell_type": "raw",
   "metadata": {},
   "source": [
    "Question: Are actively managed mutual funds a better investment than passively managed mutual funds?"
   ]
  },
  {
   "cell_type": "raw",
   "metadata": {},
   "source": [
    "Plan:\n",
    " - analyze mutual funds\n",
    " - select only actively managed mutual funds\n",
    " - the market portfolio is made up of all the stocks in our universe\n",
    " - our universe consists of every stock which appears in our data\n",
    " - look at the weights of the stocks relative to the market\n",
    " - compare returns between actively and passively managed mutual funds\n",
    "     - use cosign similiarity?\n",
    "     - Kth nearest?\n",
    "     - bollinger band\n",
    "  \n",
    "\n",
    "\n",
    "\n",
    "GET DATA - TURNOVER RATIO"
   ]
  },
  {
   "cell_type": "raw",
   "metadata": {},
   "source": [
    "Important Links:\n",
    "\n",
    "CRSP Data Definitions\n",
    "http://www.crsp.com/products/documentation/data-definitions-2\n",
    "\n",
    "\n",
    "JP Morgan - Active vs Passive Funds\n",
    "https://www.morganstanley.com/spc/knowledge/managing-wealth/wealth-management-for-stock-plan-participants/active-vs--passive-funds--its-more-than-just-fees.html\n",
    "\n",
    "https://web.stanford.edu/~wfsharpe/art/mfpm/mfpm.htm"
   ]
  },
  {
   "cell_type": "raw",
   "metadata": {},
   "source": [
    "Research: \n",
    "\n",
    " - https://ideas.darden.virginia.edu/2017/03/active-vs-passive-funds-the-mutual-fund-shell-game/\n",
    " - https://www.morganstanley.com/spc/knowledge/managing-wealth/wealth-management-for-stock-plan-participants/active-   vs--passive-funds--its-more-than-just-fees.html\n",
    " - https://pdfs.semanticscholar.org/9361/aea3512a1df204a4840bf7a53f7cf0f58634.pdf\n",
    " - http://econ.berkeley.edu/sites/default/files/Kremnitzer.pdf\n",
    " - https://www.onefpa.org/journal/Pages/NOV14-New-Perspectives-on-the-Active-versus-Passive-Debate.aspx\n",
    " - https://www.pimco.com/handlers/displaydocument.ashx?id=zdVcShqiEMNUg7uf5lz9gz%2FfdtpZAxKCLsuDGmVqEEL9K6VxjAwuETyKmVNZSF6m%2BcwmMMY724kVAjVehk1ya6fz3ELNCiDJbrNwMbtWtozAkjCDLNE6JnGRN4SvPkXrkfMXXWZ%2FG9JbK0YT7CTnR%2FcjuIae6UxSAOryZ9paMv43z9Pw8Gj%2BLuiecPrLww1GSf9Bg8QJS6U2TKYW3hVWzNnBiL8bJqdyQdpq1Iq9DaHVgZrBy9mDO9%2BdvQPj92C%2Bl0MhLO5N5cPnVMJS%2Bb0wu6v9BG3xxstLvA97HCuTXcABp7JfFBOYW7d9P3Z%2BWJ%2BNmEKPHJ6a8ri4nTG1ukQhicswFHs683rZDuzVByjO%2FMaHb%2BQ6ykbSDrbQcvmuGIpnjaqg87DnYvSwLpsNdprDf1vLp0nQrAUHIFgRToi1oWiYwJeSRfuyH%2BoQLgSBhAygQttwHxVgS4Q8nxGwbdB8ncEAFvliV%2FOCjmF8XjmEUtAiuUdSXuiNE4arje83nOPeBrkBxtk%2FlhFOeU9OPHg5qQ%3D%3D"
   ]
  },
  {
   "cell_type": "raw",
   "metadata": {},
   "source": [
    "Modules"
   ]
  },
  {
   "cell_type": "code",
   "execution_count": 204,
   "metadata": {},
   "outputs": [],
   "source": [
    "import pandas as pd\n",
    "import numpy as np\n",
    "import requests\n",
    "import json\n",
    "import re\n",
    "import seaborn as sns\n",
    "import time\n",
    "from scipy.stats import norm\n",
    "import matplotlib.pyplot as plt\n",
    "from matplotlib import pyplot"
   ]
  },
  {
   "cell_type": "raw",
   "metadata": {},
   "source": [
    "Functions"
   ]
  },
  {
   "cell_type": "code",
   "execution_count": 164,
   "metadata": {},
   "outputs": [],
   "source": [
    "# distinguish between actively managed and passively managed mutual funds\n",
    "\n",
    "def managed(expense_ratio):\n",
    "    if expense_ratio < 0.007:\n",
    "        return 'passive'\n",
    "    else:\n",
    "        return 'active'\n",
    "\n",
    "# get all historical price data from yahoo finance\n",
    "\n",
    "def get_price(ticker):\n",
    "\n",
    "    url = 'https://finance.yahoo.com/quote/{}/history?'.format(ticker)\n",
    "    params = {'interval':'1d', \n",
    "              'filter':'history', \n",
    "              'frequency':'1d'}\n",
    "    \n",
    "    r = requests.get(url, params=params)\n",
    "\n",
    "    try:\n",
    "        txt = re.search(r'root\\.App\\.main = (.*?);\\n}\\(this\\)\\);', r.text, re.DOTALL).group(1)\n",
    "        jsn = json.loads(txt)\n",
    "        prcs = pd.DataFrame(jsn['context']['dispatcher']['stores']['HistoricalPriceStore']['prices'])\n",
    "        prcs['date'] = pd.to_datetime(prcs['date'], unit='s')\n",
    "        prcs['date'] = pd.DatetimeIndex(prcs['date']).normalize()\n",
    "        prcs = prcs[['open', 'high', 'low', 'close', 'adjclose', 'volume']]\n",
    "        prcs = prcs.dropna(how='all').sort_index()\n",
    "    except:\n",
    "        prcs = pd.DataFrame(columns=['open', 'high', 'low', 'close', \n",
    "                                     'adjclose', 'volume'])\n",
    "    \n",
    "    return prcs\n",
    "\n",
    "# takes in dictionary where key = Fund Ticker and value is a dataframe with price data\n",
    "\n",
    "def df_date_range(pricing_data):\n",
    "    start = '01/01/2015'\n",
    "    end = '01/01/2015'\n",
    "\n",
    "    for k in pricing_data:\n",
    "        dfs = pricing_data.get(k)\n",
    "        if dfs['date'].min() < start: start = dfs['date'].min() \n",
    "        if dfs['date'].max() > end: end = dfs['date'].max() \n",
    "        index = pd.date_range(start, end)\n",
    "        return pd.DataFrame(index)\n",
    "\n"
   ]
  },
  {
   "cell_type": "raw",
   "metadata": {},
   "source": [
    "Import Data"
   ]
  },
  {
   "cell_type": "code",
   "execution_count": 165,
   "metadata": {},
   "outputs": [
    {
     "name": "stderr",
     "output_type": "stream",
     "text": [
      "/anaconda3/lib/python3.6/site-packages/IPython/core/interactiveshell.py:2728: DtypeWarning: Columns (45,47,59) have mixed types. Specify dtype option on import or set low_memory=False.\n",
      "  interactivity=interactivity, compiler=compiler, result=result)\n"
     ]
    }
   ],
   "source": [
    "data = pd.read_csv('crsp.csv')"
   ]
  },
  {
   "cell_type": "raw",
   "metadata": {},
   "source": [
    "Cleaning/Preparation"
   ]
  },
  {
   "cell_type": "code",
   "execution_count": 166,
   "metadata": {},
   "outputs": [
    {
     "data": {
      "text/plain": [
       "(458503, 70)"
      ]
     },
     "execution_count": 166,
     "metadata": {},
     "output_type": "execute_result"
    }
   ],
   "source": [
    "data.shape"
   ]
  },
  {
   "cell_type": "code",
   "execution_count": 167,
   "metadata": {},
   "outputs": [
    {
     "data": {
      "text/plain": [
       "Index(['summary_period2', 'crsp_fundno', 'caldt', 'nav_latest',\n",
       "       'nav_latest_dt', 'tna_latest', 'tna_latest_dt', 'yield', 'div_ytd',\n",
       "       'cap_gains_ytd', 'nav_52w_h', 'nav_52w_h_dt', 'nav_52w_l',\n",
       "       'nav_52w_l_dt', 'unrealized_app_dep', 'unrealized_app_dt', 'asset_dt',\n",
       "       'per_com', 'per_pref', 'per_conv', 'per_corp', 'per_muni', 'per_govt',\n",
       "       'per_oth', 'per_cash', 'per_bond', 'per_abs', 'per_mbs', 'per_eq_oth',\n",
       "       'per_fi_oth', 'maturity', 'maturity_dt', 'cusip8', 'crsp_portno',\n",
       "       'crsp_cl_grp', 'fund_name', 'ticker', 'ncusip', 'mgmt_name', 'mgmt_cd',\n",
       "       'mgr_name', 'open_to_inv', 'retail_fund', 'inst_fund', 'm_fund',\n",
       "       'index_fund_flag', 'vau_fund', 'et_flag', 'delist_cd', 'end_dt',\n",
       "       'dead_flag', 'merge_fundno', 'actual_12b1', 'max_12b1', 'exp_ratio',\n",
       "       'mgmt_fee', 'turn_ratio', 'fiscal_yearend', 'crsp_obj_cd', 'si_obj_cd',\n",
       "       'accrual_fund', 'sales_restrict', 'wbrger_obj_cd', 'policy',\n",
       "       'lipper_class', 'lipper_class_name', 'lipper_obj_cd', 'lipper_obj_name',\n",
       "       'lipper_asset_cd', 'lipper_tax_cd'],\n",
       "      dtype='object')"
      ]
     },
     "execution_count": 167,
     "metadata": {},
     "output_type": "execute_result"
    }
   ],
   "source": [
    "data.columns"
   ]
  },
  {
   "cell_type": "code",
   "execution_count": 168,
   "metadata": {},
   "outputs": [],
   "source": [
    "df = pd.DataFrame({'Fund Name' : data['fund_name'], 'Fund Ticker' : data['ticker'], \n",
    "                   'Open to Investors' : data['open_to_inv'], 'Expense Ratio' : data['exp_ratio'],\n",
    "                  'Management Fee' : data['mgmt_fee']})"
   ]
  },
  {
   "cell_type": "code",
   "execution_count": 169,
   "metadata": {},
   "outputs": [
    {
     "data": {
      "text/plain": [
       "Expense Ratio        73112\n",
       "Fund Name             4731\n",
       "Fund Ticker          60938\n",
       "Management Fee       73220\n",
       "Open to Investors     6101\n",
       "dtype: int64"
      ]
     },
     "execution_count": 169,
     "metadata": {},
     "output_type": "execute_result"
    }
   ],
   "source": [
    "df.isnull().sum()"
   ]
  },
  {
   "cell_type": "code",
   "execution_count": 170,
   "metadata": {},
   "outputs": [],
   "source": [
    "df.dropna(inplace = True)"
   ]
  },
  {
   "cell_type": "code",
   "execution_count": 171,
   "metadata": {},
   "outputs": [],
   "source": [
    "df['Active or Passive'] = df['Expense Ratio'].apply(managed)"
   ]
  },
  {
   "cell_type": "code",
   "execution_count": 172,
   "metadata": {},
   "outputs": [],
   "source": [
    "df = df[df['Open to Investors'] == 'Y']"
   ]
  },
  {
   "cell_type": "code",
   "execution_count": 173,
   "metadata": {},
   "outputs": [],
   "source": [
    "df = df[df['Management Fee'] > 0]"
   ]
  },
  {
   "cell_type": "code",
   "execution_count": 174,
   "metadata": {},
   "outputs": [],
   "source": [
    "df = df[df['Expense Ratio'] > 0]"
   ]
  },
  {
   "cell_type": "code",
   "execution_count": 175,
   "metadata": {},
   "outputs": [],
   "source": [
    "df.drop_duplicates(subset = ['Fund Ticker'], inplace = True)"
   ]
  },
  {
   "cell_type": "code",
   "execution_count": 176,
   "metadata": {},
   "outputs": [
    {
     "data": {
      "text/plain": [
       "(39305, 6)"
      ]
     },
     "execution_count": 176,
     "metadata": {},
     "output_type": "execute_result"
    }
   ],
   "source": [
    "df.shape"
   ]
  },
  {
   "cell_type": "code",
   "execution_count": 177,
   "metadata": {},
   "outputs": [
    {
     "data": {
      "text/html": [
       "<div>\n",
       "<style scoped>\n",
       "    .dataframe tbody tr th:only-of-type {\n",
       "        vertical-align: middle;\n",
       "    }\n",
       "\n",
       "    .dataframe tbody tr th {\n",
       "        vertical-align: top;\n",
       "    }\n",
       "\n",
       "    .dataframe thead th {\n",
       "        text-align: right;\n",
       "    }\n",
       "</style>\n",
       "<table border=\"1\" class=\"dataframe\">\n",
       "  <thead>\n",
       "    <tr style=\"text-align: right;\">\n",
       "      <th></th>\n",
       "      <th>Expense Ratio</th>\n",
       "      <th>Fund Name</th>\n",
       "      <th>Fund Ticker</th>\n",
       "      <th>Management Fee</th>\n",
       "      <th>Open to Investors</th>\n",
       "      <th>Active or Passive</th>\n",
       "    </tr>\n",
       "  </thead>\n",
       "  <tbody>\n",
       "    <tr>\n",
       "      <th>7</th>\n",
       "      <td>0.0242</td>\n",
       "      <td>American Pension Investors Trust: Growth Fund</td>\n",
       "      <td>APITX</td>\n",
       "      <td>0.863</td>\n",
       "      <td>Y</td>\n",
       "      <td>active</td>\n",
       "    </tr>\n",
       "    <tr>\n",
       "      <th>44</th>\n",
       "      <td>0.0185</td>\n",
       "      <td>UAM Funds Trust: BHM&amp;S Total Return Bond Portf...</td>\n",
       "      <td>BHMSX</td>\n",
       "      <td>1.223</td>\n",
       "      <td>Y</td>\n",
       "      <td>active</td>\n",
       "    </tr>\n",
       "    <tr>\n",
       "      <th>46</th>\n",
       "      <td>0.0081</td>\n",
       "      <td>UAM Funds Trust: Chicago Asset Management Inte...</td>\n",
       "      <td>CAMBX</td>\n",
       "      <td>0.220</td>\n",
       "      <td>Y</td>\n",
       "      <td>active</td>\n",
       "    </tr>\n",
       "    <tr>\n",
       "      <th>58</th>\n",
       "      <td>0.0090</td>\n",
       "      <td>The DLB Fund Group: DLB Enterprise III Fund</td>\n",
       "      <td>DLBCX</td>\n",
       "      <td>0.503</td>\n",
       "      <td>Y</td>\n",
       "      <td>active</td>\n",
       "    </tr>\n",
       "    <tr>\n",
       "      <th>61</th>\n",
       "      <td>0.0162</td>\n",
       "      <td>UAM Funds, Inc.: DSI Balanced Portfolio; Insti...</td>\n",
       "      <td>DSIZX</td>\n",
       "      <td>1.138</td>\n",
       "      <td>Y</td>\n",
       "      <td>active</td>\n",
       "    </tr>\n",
       "  </tbody>\n",
       "</table>\n",
       "</div>"
      ],
      "text/plain": [
       "    Expense Ratio                                          Fund Name  \\\n",
       "7          0.0242      American Pension Investors Trust: Growth Fund   \n",
       "44         0.0185  UAM Funds Trust: BHM&S Total Return Bond Portf...   \n",
       "46         0.0081  UAM Funds Trust: Chicago Asset Management Inte...   \n",
       "58         0.0090        The DLB Fund Group: DLB Enterprise III Fund   \n",
       "61         0.0162  UAM Funds, Inc.: DSI Balanced Portfolio; Insti...   \n",
       "\n",
       "   Fund Ticker  Management Fee Open to Investors Active or Passive  \n",
       "7        APITX           0.863                 Y            active  \n",
       "44       BHMSX           1.223                 Y            active  \n",
       "46       CAMBX           0.220                 Y            active  \n",
       "58       DLBCX           0.503                 Y            active  \n",
       "61       DSIZX           1.138                 Y            active  "
      ]
     },
     "execution_count": 177,
     "metadata": {},
     "output_type": "execute_result"
    }
   ],
   "source": [
    "df.head(5)"
   ]
  },
  {
   "cell_type": "code",
   "execution_count": 178,
   "metadata": {},
   "outputs": [
    {
     "data": {
      "text/plain": [
       "active     30711\n",
       "passive     8594\n",
       "Name: Active or Passive, dtype: int64"
      ]
     },
     "execution_count": 178,
     "metadata": {},
     "output_type": "execute_result"
    }
   ],
   "source": [
    "df['Active or Passive'].value_counts()"
   ]
  },
  {
   "cell_type": "code",
   "execution_count": null,
   "metadata": {},
   "outputs": [],
   "source": []
  },
  {
   "cell_type": "code",
   "execution_count": 179,
   "metadata": {
    "scrolled": true
   },
   "outputs": [
    {
     "data": {
      "text/html": [
       "<div>\n",
       "<style scoped>\n",
       "    .dataframe tbody tr th:only-of-type {\n",
       "        vertical-align: middle;\n",
       "    }\n",
       "\n",
       "    .dataframe tbody tr th {\n",
       "        vertical-align: top;\n",
       "    }\n",
       "\n",
       "    .dataframe thead th {\n",
       "        text-align: right;\n",
       "    }\n",
       "</style>\n",
       "<table border=\"1\" class=\"dataframe\">\n",
       "  <thead>\n",
       "    <tr style=\"text-align: right;\">\n",
       "      <th></th>\n",
       "      <th>Expense Ratio</th>\n",
       "      <th>Fund Name</th>\n",
       "      <th>Fund Ticker</th>\n",
       "      <th>Management Fee</th>\n",
       "      <th>Open to Investors</th>\n",
       "      <th>Active or Passive</th>\n",
       "    </tr>\n",
       "  </thead>\n",
       "  <tbody>\n",
       "    <tr>\n",
       "      <th>7</th>\n",
       "      <td>0.0242</td>\n",
       "      <td>American Pension Investors Trust: Growth Fund</td>\n",
       "      <td>APITX</td>\n",
       "      <td>0.863</td>\n",
       "      <td>Y</td>\n",
       "      <td>active</td>\n",
       "    </tr>\n",
       "    <tr>\n",
       "      <th>44</th>\n",
       "      <td>0.0185</td>\n",
       "      <td>UAM Funds Trust: BHM&amp;S Total Return Bond Portf...</td>\n",
       "      <td>BHMSX</td>\n",
       "      <td>1.223</td>\n",
       "      <td>Y</td>\n",
       "      <td>active</td>\n",
       "    </tr>\n",
       "    <tr>\n",
       "      <th>46</th>\n",
       "      <td>0.0081</td>\n",
       "      <td>UAM Funds Trust: Chicago Asset Management Inte...</td>\n",
       "      <td>CAMBX</td>\n",
       "      <td>0.220</td>\n",
       "      <td>Y</td>\n",
       "      <td>active</td>\n",
       "    </tr>\n",
       "    <tr>\n",
       "      <th>58</th>\n",
       "      <td>0.0090</td>\n",
       "      <td>The DLB Fund Group: DLB Enterprise III Fund</td>\n",
       "      <td>DLBCX</td>\n",
       "      <td>0.503</td>\n",
       "      <td>Y</td>\n",
       "      <td>active</td>\n",
       "    </tr>\n",
       "    <tr>\n",
       "      <th>61</th>\n",
       "      <td>0.0162</td>\n",
       "      <td>UAM Funds, Inc.: DSI Balanced Portfolio; Insti...</td>\n",
       "      <td>DSIZX</td>\n",
       "      <td>1.138</td>\n",
       "      <td>Y</td>\n",
       "      <td>active</td>\n",
       "    </tr>\n",
       "  </tbody>\n",
       "</table>\n",
       "</div>"
      ],
      "text/plain": [
       "    Expense Ratio                                          Fund Name  \\\n",
       "7          0.0242      American Pension Investors Trust: Growth Fund   \n",
       "44         0.0185  UAM Funds Trust: BHM&S Total Return Bond Portf...   \n",
       "46         0.0081  UAM Funds Trust: Chicago Asset Management Inte...   \n",
       "58         0.0090        The DLB Fund Group: DLB Enterprise III Fund   \n",
       "61         0.0162  UAM Funds, Inc.: DSI Balanced Portfolio; Insti...   \n",
       "\n",
       "   Fund Ticker  Management Fee Open to Investors Active or Passive  \n",
       "7        APITX           0.863                 Y            active  \n",
       "44       BHMSX           1.223                 Y            active  \n",
       "46       CAMBX           0.220                 Y            active  \n",
       "58       DLBCX           0.503                 Y            active  \n",
       "61       DSIZX           1.138                 Y            active  "
      ]
     },
     "execution_count": 179,
     "metadata": {},
     "output_type": "execute_result"
    }
   ],
   "source": [
    "df.head()"
   ]
  },
  {
   "cell_type": "code",
   "execution_count": null,
   "metadata": {},
   "outputs": [],
   "source": [
    "pricing_data = {}\n",
    "\n",
    "for fund in df['Fund Ticker']:\n",
    "    try:\n",
    "        pricing_data[fund] = get_price(fund)\n",
    "        time.sleep(10)\n",
    "    except:\n",
    "        print('Failed to get data for: ' + fund)\n",
    "        time.sleep(10)"
   ]
  },
  {
   "cell_type": "code",
   "execution_count": null,
   "metadata": {},
   "outputs": [],
   "source": [
    "pricing_data.to_csv('Pricing_Data.csv')"
   ]
  },
  {
   "cell_type": "code",
   "execution_count": null,
   "metadata": {},
   "outputs": [],
   "source": [
    "returns = df_date_range(pricing_data)"
   ]
  },
  {
   "cell_type": "code",
   "execution_count": null,
   "metadata": {},
   "outputs": [],
   "source": [
    "for k in pricing_data:\n",
    "    dfs = pricing_data.get(k)\n",
    "    returns[k] = np.where(returns['date'] == dfs['date'], dfs['close'], 0)"
   ]
  },
  {
   "cell_type": "code",
   "execution_count": null,
   "metadata": {},
   "outputs": [],
   "source": []
  },
  {
   "cell_type": "code",
   "execution_count": null,
   "metadata": {},
   "outputs": [],
   "source": [
    "returns"
   ]
  },
  {
   "cell_type": "code",
   "execution_count": null,
   "metadata": {},
   "outputs": [],
   "source": [
    "#sent['f6mret'] = sent['sp500'].shift(-26) / sent['sp500'] -1\n",
    "#sent['f1yret'] = sent['sp500'].shift(-52) / sent['sp500'] -1\n",
    "#sent['l6mret'] = sent['sp500'] / sent['sp500'].shift(26) -1\n",
    "#sent['l1yret'] = sent['sp500'] / sent['sp500'].shift(52) -1"
   ]
  },
  {
   "cell_type": "code",
   "execution_count": null,
   "metadata": {},
   "outputs": [],
   "source": []
  },
  {
   "cell_type": "code",
   "execution_count": null,
   "metadata": {},
   "outputs": [],
   "source": []
  },
  {
   "cell_type": "code",
   "execution_count": null,
   "metadata": {},
   "outputs": [],
   "source": []
  },
  {
   "cell_type": "code",
   "execution_count": null,
   "metadata": {},
   "outputs": [],
   "source": []
  },
  {
   "cell_type": "raw",
   "metadata": {},
   "source": [
    "Analysis"
   ]
  },
  {
   "cell_type": "code",
   "execution_count": 251,
   "metadata": {},
   "outputs": [
    {
     "data": {
      "text/html": [
       "<div>\n",
       "<style scoped>\n",
       "    .dataframe tbody tr th:only-of-type {\n",
       "        vertical-align: middle;\n",
       "    }\n",
       "\n",
       "    .dataframe tbody tr th {\n",
       "        vertical-align: top;\n",
       "    }\n",
       "\n",
       "    .dataframe thead th {\n",
       "        text-align: right;\n",
       "    }\n",
       "</style>\n",
       "<table border=\"1\" class=\"dataframe\">\n",
       "  <thead>\n",
       "    <tr style=\"text-align: right;\">\n",
       "      <th></th>\n",
       "      <th>Expense Ratio</th>\n",
       "      <th>Fund Name</th>\n",
       "      <th>Fund Ticker</th>\n",
       "      <th>Management Fee</th>\n",
       "      <th>Open to Investors</th>\n",
       "      <th>Active or Passive</th>\n",
       "    </tr>\n",
       "  </thead>\n",
       "  <tbody>\n",
       "    <tr>\n",
       "      <th>7</th>\n",
       "      <td>0.0242</td>\n",
       "      <td>American Pension Investors Trust: Growth Fund</td>\n",
       "      <td>APITX</td>\n",
       "      <td>0.863</td>\n",
       "      <td>Y</td>\n",
       "      <td>active</td>\n",
       "    </tr>\n",
       "    <tr>\n",
       "      <th>44</th>\n",
       "      <td>0.0185</td>\n",
       "      <td>UAM Funds Trust: BHM&amp;S Total Return Bond Portf...</td>\n",
       "      <td>BHMSX</td>\n",
       "      <td>1.223</td>\n",
       "      <td>Y</td>\n",
       "      <td>active</td>\n",
       "    </tr>\n",
       "    <tr>\n",
       "      <th>46</th>\n",
       "      <td>0.0081</td>\n",
       "      <td>UAM Funds Trust: Chicago Asset Management Inte...</td>\n",
       "      <td>CAMBX</td>\n",
       "      <td>0.220</td>\n",
       "      <td>Y</td>\n",
       "      <td>active</td>\n",
       "    </tr>\n",
       "    <tr>\n",
       "      <th>58</th>\n",
       "      <td>0.0090</td>\n",
       "      <td>The DLB Fund Group: DLB Enterprise III Fund</td>\n",
       "      <td>DLBCX</td>\n",
       "      <td>0.503</td>\n",
       "      <td>Y</td>\n",
       "      <td>active</td>\n",
       "    </tr>\n",
       "    <tr>\n",
       "      <th>61</th>\n",
       "      <td>0.0162</td>\n",
       "      <td>UAM Funds, Inc.: DSI Balanced Portfolio; Insti...</td>\n",
       "      <td>DSIZX</td>\n",
       "      <td>1.138</td>\n",
       "      <td>Y</td>\n",
       "      <td>active</td>\n",
       "    </tr>\n",
       "  </tbody>\n",
       "</table>\n",
       "</div>"
      ],
      "text/plain": [
       "    Expense Ratio                                          Fund Name  \\\n",
       "7          0.0242      American Pension Investors Trust: Growth Fund   \n",
       "44         0.0185  UAM Funds Trust: BHM&S Total Return Bond Portf...   \n",
       "46         0.0081  UAM Funds Trust: Chicago Asset Management Inte...   \n",
       "58         0.0090        The DLB Fund Group: DLB Enterprise III Fund   \n",
       "61         0.0162  UAM Funds, Inc.: DSI Balanced Portfolio; Insti...   \n",
       "\n",
       "   Fund Ticker  Management Fee Open to Investors Active or Passive  \n",
       "7        APITX           0.863                 Y            active  \n",
       "44       BHMSX           1.223                 Y            active  \n",
       "46       CAMBX           0.220                 Y            active  \n",
       "58       DLBCX           0.503                 Y            active  \n",
       "61       DSIZX           1.138                 Y            active  "
      ]
     },
     "execution_count": 251,
     "metadata": {},
     "output_type": "execute_result"
    }
   ],
   "source": [
    "df.head()"
   ]
  },
  {
   "cell_type": "code",
   "execution_count": 252,
   "metadata": {},
   "outputs": [
    {
     "data": {
      "text/html": [
       "<div>\n",
       "<style scoped>\n",
       "    .dataframe tbody tr th:only-of-type {\n",
       "        vertical-align: middle;\n",
       "    }\n",
       "\n",
       "    .dataframe tbody tr th {\n",
       "        vertical-align: top;\n",
       "    }\n",
       "\n",
       "    .dataframe thead th {\n",
       "        text-align: right;\n",
       "    }\n",
       "</style>\n",
       "<table border=\"1\" class=\"dataframe\">\n",
       "  <thead>\n",
       "    <tr style=\"text-align: right;\">\n",
       "      <th></th>\n",
       "      <th>Expense Ratio</th>\n",
       "      <th>Management Fee</th>\n",
       "    </tr>\n",
       "  </thead>\n",
       "  <tbody>\n",
       "    <tr>\n",
       "      <th>count</th>\n",
       "      <td>39305.000000</td>\n",
       "      <td>39305.000000</td>\n",
       "    </tr>\n",
       "    <tr>\n",
       "      <th>mean</th>\n",
       "      <td>0.012422</td>\n",
       "      <td>0.567159</td>\n",
       "    </tr>\n",
       "    <tr>\n",
       "      <th>std</th>\n",
       "      <td>0.007399</td>\n",
       "      <td>0.464915</td>\n",
       "    </tr>\n",
       "    <tr>\n",
       "      <th>min</th>\n",
       "      <td>0.000100</td>\n",
       "      <td>0.001000</td>\n",
       "    </tr>\n",
       "    <tr>\n",
       "      <th>25%</th>\n",
       "      <td>0.007500</td>\n",
       "      <td>0.305000</td>\n",
       "    </tr>\n",
       "    <tr>\n",
       "      <th>50%</th>\n",
       "      <td>0.011600</td>\n",
       "      <td>0.550000</td>\n",
       "    </tr>\n",
       "    <tr>\n",
       "      <th>75%</th>\n",
       "      <td>0.016700</td>\n",
       "      <td>0.769000</td>\n",
       "    </tr>\n",
       "    <tr>\n",
       "      <th>max</th>\n",
       "      <td>0.531200</td>\n",
       "      <td>36.108000</td>\n",
       "    </tr>\n",
       "  </tbody>\n",
       "</table>\n",
       "</div>"
      ],
      "text/plain": [
       "       Expense Ratio  Management Fee\n",
       "count   39305.000000    39305.000000\n",
       "mean        0.012422        0.567159\n",
       "std         0.007399        0.464915\n",
       "min         0.000100        0.001000\n",
       "25%         0.007500        0.305000\n",
       "50%         0.011600        0.550000\n",
       "75%         0.016700        0.769000\n",
       "max         0.531200       36.108000"
      ]
     },
     "execution_count": 252,
     "metadata": {},
     "output_type": "execute_result"
    }
   ],
   "source": [
    "df.describe()"
   ]
  },
  {
   "cell_type": "raw",
   "metadata": {},
   "source": [
    "Number of Active vs Passive Funds"
   ]
  },
  {
   "cell_type": "code",
   "execution_count": 181,
   "metadata": {},
   "outputs": [
    {
     "name": "stdout",
     "output_type": "stream",
     "text": [
      "There are 30711 (78.14%) actively managed mutual funds\n",
      "There are 8594 (21.86%) passively managed mutual funds\n"
     ]
    }
   ],
   "source": [
    "active = df['Active or Passive'].value_counts()[0]\n",
    "passive = df['Active or Passive'].value_counts()[1]\n",
    "\n",
    "total = active + passive\n",
    "act = round(100*(active/total),2)\n",
    "pas = round(100*(passive/total),2)\n",
    "\n",
    "\n",
    "print('There are {} ({}%) actively managed mutual funds'.format(active, act))\n",
    "print('There are {} ({}%) passively managed mutual funds'.format(passive, pas))\n",
    "\n",
    "\n",
    "\n"
   ]
  },
  {
   "cell_type": "raw",
   "metadata": {},
   "source": [
    "Management fees - Active vs Passive"
   ]
  },
  {
   "cell_type": "code",
   "execution_count": 182,
   "metadata": {},
   "outputs": [
    {
     "data": {
      "text/plain": [
       "0.001"
      ]
     },
     "execution_count": 182,
     "metadata": {},
     "output_type": "execute_result"
    }
   ],
   "source": [
    "df['Management Fee'].min()"
   ]
  },
  {
   "cell_type": "code",
   "execution_count": 183,
   "metadata": {},
   "outputs": [
    {
     "data": {
      "text/plain": [
       "36.108"
      ]
     },
     "execution_count": 183,
     "metadata": {},
     "output_type": "execute_result"
    }
   ],
   "source": [
    "df['Management Fee'].max()"
   ]
  },
  {
   "cell_type": "code",
   "execution_count": 184,
   "metadata": {},
   "outputs": [
    {
     "data": {
      "text/plain": [
       "0.567158911080022"
      ]
     },
     "execution_count": 184,
     "metadata": {},
     "output_type": "execute_result"
    }
   ],
   "source": [
    "df['Management Fee'].mean()"
   ]
  },
  {
   "cell_type": "code",
   "execution_count": null,
   "metadata": {
    "scrolled": true
   },
   "outputs": [],
   "source": []
  },
  {
   "cell_type": "code",
   "execution_count": 185,
   "metadata": {},
   "outputs": [],
   "source": [
    "total_active = []\n",
    "total_passive = []\n",
    "row = 0\n",
    "for act in df['Active or Passive']:\n",
    "    if act == 'active':\n",
    "        total_active.append(df['Management Fee'].iloc[row])\n",
    "    else:\n",
    "        total_passive.append(df['Management Fee'].iloc[row])\n",
    "    row += 1\n",
    "\n"
   ]
  },
  {
   "cell_type": "code",
   "execution_count": 186,
   "metadata": {},
   "outputs": [],
   "source": [
    "sum_active = sum(total_active)\n",
    "sum_passive = sum(total_passive)\n"
   ]
  },
  {
   "cell_type": "code",
   "execution_count": 187,
   "metadata": {
    "scrolled": true
   },
   "outputs": [],
   "source": [
    "avg_active = round(sum_active/active,2)\n",
    "avg_passive = round(sum_passive/passive,2)"
   ]
  },
  {
   "cell_type": "code",
   "execution_count": 188,
   "metadata": {},
   "outputs": [
    {
     "name": "stdout",
     "output_type": "stream",
     "text": [
      "Average management fee for actively managed funds: 0.65%\n",
      "Average management fee for passively managed funds: 0.28%\n"
     ]
    }
   ],
   "source": [
    "print('Average management fee for actively managed funds: {}%'.format(avg_active))\n",
    "print('Average management fee for passively managed funds: {}%'.format(avg_passive))"
   ]
  },
  {
   "cell_type": "code",
   "execution_count": null,
   "metadata": {},
   "outputs": [],
   "source": []
  },
  {
   "cell_type": "code",
   "execution_count": null,
   "metadata": {},
   "outputs": [],
   "source": []
  },
  {
   "cell_type": "code",
   "execution_count": null,
   "metadata": {},
   "outputs": [],
   "source": []
  },
  {
   "cell_type": "raw",
   "metadata": {},
   "source": [
    "Visualization"
   ]
  },
  {
   "cell_type": "code",
   "execution_count": 250,
   "metadata": {},
   "outputs": [
    {
     "data": {
      "image/png": "[encoded data removed]",
      "text/plain": [
       "<matplotlib.figure.Figure at 0x1a247cc630>"
      ]
     },
     "metadata": {},
     "output_type": "display_data"
    }
   ],
   "source": [
    "pyplot.hist(active_mgmt, bins = 500, label='active')\n",
    "pyplot.hist(pass_mgmt, bins = 500, label='passive')\n",
    "pyplot.xlabel('Management Fee')\n",
    "pyplot.ylabel('Number of Funds')\n",
    "pyplot.legend(loc='upper right')\n",
    "pyplot.xlim(0,3)\n",
    "pyplot.show()"
   ]
  },
  {
   "cell_type": "code",
   "execution_count": 243,
   "metadata": {
    "scrolled": true
   },
   "outputs": [
    {
     "data": {
      "image/png": "[encoded data removed]",
      "text/plain": [
       "<matplotlib.figure.Figure at 0x1a1825c550>"
      ]
     },
     "metadata": {},
     "output_type": "display_data"
    }
   ],
   "source": [
    "pyplot.hist(active_exp, bins = 700, label='active')\n",
    "pyplot.hist(pass_exp, bins = 50, label='passive')\n",
    "pyplot.xlabel('Expense Ratio')\n",
    "pyplot.ylabel('Number of Funds')\n",
    "pyplot.legend(loc='upper right')\n",
    "pyplot.xlim(0,3)\n",
    "pyplot.show()"
   ]
  },
  {
   "cell_type": "code",
   "execution_count": null,
   "metadata": {},
   "outputs": [],
   "source": []
  },
  {
   "cell_type": "code",
   "execution_count": null,
   "metadata": {},
   "outputs": [],
   "source": []
  }
 ],
 "metadata": {
  "kernelspec": {
   "display_name": "Python 3",
   "language": "python",
   "name": "python3"
  },
  "language_info": {
   "codemirror_mode": {
    "name": "ipython",
    "version": 3
   },
   "file_extension": ".py",
   "mimetype": "text/x-python",
   "name": "python",
   "nbconvert_exporter": "python",
   "pygments_lexer": "ipython3",
   "version": "3.6.4"
  }
 },
 "nbformat": 4,
 "nbformat_minor": 2
}
