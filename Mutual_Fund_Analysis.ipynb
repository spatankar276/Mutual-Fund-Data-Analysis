{
 "cells": [
  {
   "cell_type": "raw",
   "metadata": {},
   "source": [
    "Objective: "
   ]
  },
  {
   "cell_type": "raw",
   "metadata": {},
   "source": [
    "Plan:\n",
    " - analyze U.S. equity mutual funds\n",
    " - select only actively managed mutual funds\n",
    " - the market portfolio is made up of all the stocks in our universe\n",
    " - our universe consists of every stock which appears in our data\n",
    " - look at the weights of the stocks relative to the market\n",
    " - compare returns between actively and passively managed mutual funds\n",
    "     - use cosign similiarity?\n",
    "     - Kth nearest?\n",
    "\n",
    "\n",
    "\n"
   ]
  },
  {
   "cell_type": "raw",
   "metadata": {},
   "source": [
    "Important Links:\n",
    "\n",
    "CRSP Data Definitions\n",
    "http://www.crsp.com/products/documentation/data-definitions-2\n",
    "\n",
    "\n",
    "JP Morgan - Active vs Passive Funds\n",
    "https://www.morganstanley.com/spc/knowledge/managing-wealth/wealth-management-for-stock-plan-participants/active-vs--passive-funds--its-more-than-just-fees.html"
   ]
  },
  {
   "cell_type": "raw",
   "metadata": {},
   "source": [
    "Modules"
   ]
  },
  {
   "cell_type": "code",
   "execution_count": 1,
   "metadata": {},
   "outputs": [],
   "source": [
    "import pandas as pd\n",
    "import numpy as np\n",
    "import requests\n",
    "import json\n",
    "import re\n",
    "\n"
   ]
  },
  {
   "cell_type": "raw",
   "metadata": {},
   "source": [
    "Functions"
   ]
  },
  {
   "cell_type": "code",
   "execution_count": 19,
   "metadata": {},
   "outputs": [],
   "source": [
    "def managed(expense_ratio):\n",
    "    if expense_ratio < 0.007:\n",
    "        return 'passive'\n",
    "    else:\n",
    "        return 'active'\n",
    "\n",
    "    \n",
    "def get_price(ticker):\n",
    "\n",
    "    url = 'https://finance.yahoo.com/quote/{}/history?'.format(ticker)\n",
    "    params = {'interval':'1d', \n",
    "              'filter':'history', \n",
    "              'frequency':'1d'}\n",
    "    \n",
    "    r = requests.get(url, params=params)\n",
    "\n",
    "    try:\n",
    "        txt = re.search(r'root\\.App\\.main = (.*?);\\n}\\(this\\)\\);', r.text, re.DOTALL).group(1)\n",
    "        jsn = json.loads(txt)\n",
    "        prcs = pd.DataFrame(jsn['context']['dispatcher']['stores']['HistoricalPriceStore']['prices'])\n",
    "        prcs['date'] = pd.to_datetime(prcs['date'], unit='s')\n",
    "        prcs['date'] = pd.DatetimeIndex(prcs['date']).normalize()\n",
    "        prcs = prcs[['open', 'high', 'low', 'close', 'adjclose', 'volume']]\n",
    "        prcs = prcs.dropna(how='all').sort_index()\n",
    "    except:\n",
    "        prcs = pd.DataFrame(columns=['open', 'high', 'low', 'close', \n",
    "                                     'adjclose', 'volume'])\n",
    "    \n",
    "    return prcs\n",
    "\n",
    "# takes in dictionary where key = Fund Ticker and value is a dataframe with price data\n",
    "\n",
    "def df_date_range(pricing_data):\n",
    "    start = '01/01/2015'\n",
    "    end = '01/01/2015'\n",
    "\n",
    "    for k in pricing_data:\n",
    "        dfs = pricing_data.get(k)\n",
    "        if dfs['date'].min() < start: start = dfs['date'].min() \n",
    "        if dfs['date'].max() > end: end = dfs['date'].max() \n",
    "        index = pd.date_range(start, end)\n",
    "        return pd.DataFrame(index)\n",
    "\n"
   ]
  },
  {
   "cell_type": "raw",
   "metadata": {},
   "source": [
    "Import Data"
   ]
  },
  {
   "cell_type": "code",
   "execution_count": 3,
   "metadata": {},
   "outputs": [
    {
     "name": "stderr",
     "output_type": "stream",
     "text": [
      "/anaconda3/lib/python3.6/site-packages/IPython/core/interactiveshell.py:2728: DtypeWarning: Columns (45,47,59) have mixed types. Specify dtype option on import or set low_memory=False.\n",
      "  interactivity=interactivity, compiler=compiler, result=result)\n",
      "/anaconda3/lib/python3.6/site-packages/IPython/core/interactiveshell.py:2728: DtypeWarning: Columns (45,47,59) have mixed types. Specify dtype option on import or set low_memory=False.\n",
      "  interactivity=interactivity, compiler=compiler, result=result)\n"
     ]
    }
   ],
   "source": [
    "data = pd.read_csv('crsp.csv')"
   ]
  },
  {
   "cell_type": "raw",
   "metadata": {},
   "source": [
    "Cleaning/Preparation"
   ]
  },
  {
   "cell_type": "code",
   "execution_count": 4,
   "metadata": {},
   "outputs": [
    {
     "data": {
      "text/plain": [
       "(458503, 70)"
      ]
     },
     "execution_count": 4,
     "metadata": {},
     "output_type": "execute_result"
    },
    {
     "data": {
      "text/plain": [
       "(458503, 70)"
      ]
     },
     "execution_count": 4,
     "metadata": {},
     "output_type": "execute_result"
    }
   ],
   "source": [
    "data.shape"
   ]
  },
  {
   "cell_type": "code",
   "execution_count": 5,
   "metadata": {},
   "outputs": [
    {
     "data": {
      "text/plain": [
       "Index(['summary_period2', 'crsp_fundno', 'caldt', 'nav_latest',\n",
       "       'nav_latest_dt', 'tna_latest', 'tna_latest_dt', 'yield', 'div_ytd',\n",
       "       'cap_gains_ytd', 'nav_52w_h', 'nav_52w_h_dt', 'nav_52w_l',\n",
       "       'nav_52w_l_dt', 'unrealized_app_dep', 'unrealized_app_dt', 'asset_dt',\n",
       "       'per_com', 'per_pref', 'per_conv', 'per_corp', 'per_muni', 'per_govt',\n",
       "       'per_oth', 'per_cash', 'per_bond', 'per_abs', 'per_mbs', 'per_eq_oth',\n",
       "       'per_fi_oth', 'maturity', 'maturity_dt', 'cusip8', 'crsp_portno',\n",
       "       'crsp_cl_grp', 'fund_name', 'ticker', 'ncusip', 'mgmt_name', 'mgmt_cd',\n",
       "       'mgr_name', 'open_to_inv', 'retail_fund', 'inst_fund', 'm_fund',\n",
       "       'index_fund_flag', 'vau_fund', 'et_flag', 'delist_cd', 'end_dt',\n",
       "       'dead_flag', 'merge_fundno', 'actual_12b1', 'max_12b1', 'exp_ratio',\n",
       "       'mgmt_fee', 'turn_ratio', 'fiscal_yearend', 'crsp_obj_cd', 'si_obj_cd',\n",
       "       'accrual_fund', 'sales_restrict', 'wbrger_obj_cd', 'policy',\n",
       "       'lipper_class', 'lipper_class_name', 'lipper_obj_cd', 'lipper_obj_name',\n",
       "       'lipper_asset_cd', 'lipper_tax_cd'],\n",
       "      dtype='object')"
      ]
     },
     "execution_count": 5,
     "metadata": {},
     "output_type": "execute_result"
    },
    {
     "data": {
      "text/plain": [
       "Index(['summary_period2', 'crsp_fundno', 'caldt', 'nav_latest',\n",
       "       'nav_latest_dt', 'tna_latest', 'tna_latest_dt', 'yield', 'div_ytd',\n",
       "       'cap_gains_ytd', 'nav_52w_h', 'nav_52w_h_dt', 'nav_52w_l',\n",
       "       'nav_52w_l_dt', 'unrealized_app_dep', 'unrealized_app_dt', 'asset_dt',\n",
       "       'per_com', 'per_pref', 'per_conv', 'per_corp', 'per_muni', 'per_govt',\n",
       "       'per_oth', 'per_cash', 'per_bond', 'per_abs', 'per_mbs', 'per_eq_oth',\n",
       "       'per_fi_oth', 'maturity', 'maturity_dt', 'cusip8', 'crsp_portno',\n",
       "       'crsp_cl_grp', 'fund_name', 'ticker', 'ncusip', 'mgmt_name', 'mgmt_cd',\n",
       "       'mgr_name', 'open_to_inv', 'retail_fund', 'inst_fund', 'm_fund',\n",
       "       'index_fund_flag', 'vau_fund', 'et_flag', 'delist_cd', 'end_dt',\n",
       "       'dead_flag', 'merge_fundno', 'actual_12b1', 'max_12b1', 'exp_ratio',\n",
       "       'mgmt_fee', 'turn_ratio', 'fiscal_yearend', 'crsp_obj_cd', 'si_obj_cd',\n",
       "       'accrual_fund', 'sales_restrict', 'wbrger_obj_cd', 'policy',\n",
       "       'lipper_class', 'lipper_class_name', 'lipper_obj_cd', 'lipper_obj_name',\n",
       "       'lipper_asset_cd', 'lipper_tax_cd'],\n",
       "      dtype='object')"
      ]
     },
     "execution_count": 5,
     "metadata": {},
     "output_type": "execute_result"
    }
   ],
   "source": [
    "data.columns"
   ]
  },
  {
   "cell_type": "code",
   "execution_count": 6,
   "metadata": {},
   "outputs": [],
   "source": [
    "df = pd.DataFrame({'Fund Name' : data['fund_name'], 'Fund Ticker' : data['ticker'], \n",
    "                   'Open to Investors' : data['open_to_inv'], 'Expense Ratio' : data['exp_ratio']})"
   ]
  },
  {
   "cell_type": "code",
   "execution_count": 7,
   "metadata": {},
   "outputs": [
    {
     "data": {
      "text/plain": [
       "Expense Ratio        73112\n",
       "Fund Name             4731\n",
       "Fund Ticker          60938\n",
       "Open to Investors     6101\n",
       "dtype: int64"
      ]
     },
     "execution_count": 7,
     "metadata": {},
     "output_type": "execute_result"
    },
    {
     "data": {
      "text/plain": [
       "Expense Ratio        73112\n",
       "Fund Name             4731\n",
       "Fund Ticker          60938\n",
       "Open to Investors     6101\n",
       "dtype: int64"
      ]
     },
     "execution_count": 7,
     "metadata": {},
     "output_type": "execute_result"
    }
   ],
   "source": [
    "df.isnull().sum()"
   ]
  },
  {
   "cell_type": "code",
   "execution_count": 8,
   "metadata": {},
   "outputs": [],
   "source": [
    "df.dropna(inplace = True)"
   ]
  },
  {
   "cell_type": "code",
   "execution_count": 9,
   "metadata": {},
   "outputs": [],
   "source": [
    "df['Active or Passive'] = df['Expense Ratio'].apply(managed)"
   ]
  },
  {
   "cell_type": "code",
   "execution_count": 10,
   "metadata": {},
   "outputs": [],
   "source": [
    "df = df[df['Open to Investors'] == 'Y']"
   ]
  },
  {
   "cell_type": "code",
   "execution_count": 11,
   "metadata": {},
   "outputs": [],
   "source": [
    "df.drop_duplicates(subset = ['Fund Ticker'], inplace = True)"
   ]
  },
  {
   "cell_type": "code",
   "execution_count": 12,
   "metadata": {},
   "outputs": [
    {
     "data": {
      "text/plain": [
       "(45690, 5)"
      ]
     },
     "execution_count": 12,
     "metadata": {},
     "output_type": "execute_result"
    },
    {
     "data": {
      "text/plain": [
       "(45690, 5)"
      ]
     },
     "execution_count": 12,
     "metadata": {},
     "output_type": "execute_result"
    }
   ],
   "source": [
    "df.shape"
   ]
  },
  {
   "cell_type": "code",
   "execution_count": 13,
   "metadata": {},
   "outputs": [
    {
     "data": {
      "text/html": [
       "<div>\n",
       "<style scoped>\n",
       "    .dataframe tbody tr th:only-of-type {\n",
       "        vertical-align: middle;\n",
       "    }\n",
       "\n",
       "    .dataframe tbody tr th {\n",
       "        vertical-align: top;\n",
       "    }\n",
       "\n",
       "    .dataframe thead th {\n",
       "        text-align: right;\n",
       "    }\n",
       "</style>\n",
       "<table border=\"1\" class=\"dataframe\">\n",
       "  <thead>\n",
       "    <tr style=\"text-align: right;\">\n",
       "      <th></th>\n",
       "      <th>Expense Ratio</th>\n",
       "      <th>Fund Name</th>\n",
       "      <th>Fund Ticker</th>\n",
       "      <th>Open to Investors</th>\n",
       "      <th>Active or Passive</th>\n",
       "    </tr>\n",
       "  </thead>\n",
       "  <tbody>\n",
       "    <tr>\n",
       "      <th>7</th>\n",
       "      <td>0.0242</td>\n",
       "      <td>American Pension Investors Trust: Growth Fund</td>\n",
       "      <td>APITX</td>\n",
       "      <td>Y</td>\n",
       "      <td>active</td>\n",
       "    </tr>\n",
       "    <tr>\n",
       "      <th>44</th>\n",
       "      <td>0.0185</td>\n",
       "      <td>UAM Funds Trust: BHM&amp;S Total Return Bond Portf...</td>\n",
       "      <td>BHMSX</td>\n",
       "      <td>Y</td>\n",
       "      <td>active</td>\n",
       "    </tr>\n",
       "    <tr>\n",
       "      <th>46</th>\n",
       "      <td>0.0081</td>\n",
       "      <td>UAM Funds Trust: Chicago Asset Management Inte...</td>\n",
       "      <td>CAMBX</td>\n",
       "      <td>Y</td>\n",
       "      <td>active</td>\n",
       "    </tr>\n",
       "    <tr>\n",
       "      <th>55</th>\n",
       "      <td>0.0205</td>\n",
       "      <td>Deutsche Investors Funds, Inc: Growth Opportun...</td>\n",
       "      <td>DBGPX</td>\n",
       "      <td>Y</td>\n",
       "      <td>active</td>\n",
       "    </tr>\n",
       "    <tr>\n",
       "      <th>58</th>\n",
       "      <td>0.0090</td>\n",
       "      <td>The DLB Fund Group: DLB Enterprise III Fund</td>\n",
       "      <td>DLBCX</td>\n",
       "      <td>Y</td>\n",
       "      <td>active</td>\n",
       "    </tr>\n",
       "  </tbody>\n",
       "</table>\n",
       "</div>"
      ],
      "text/plain": [
       "    Expense Ratio                                          Fund Name  \\\n",
       "7          0.0242      American Pension Investors Trust: Growth Fund   \n",
       "44         0.0185  UAM Funds Trust: BHM&S Total Return Bond Portf...   \n",
       "46         0.0081  UAM Funds Trust: Chicago Asset Management Inte...   \n",
       "55         0.0205  Deutsche Investors Funds, Inc: Growth Opportun...   \n",
       "58         0.0090        The DLB Fund Group: DLB Enterprise III Fund   \n",
       "\n",
       "   Fund Ticker Open to Investors Active or Passive  \n",
       "7        APITX                 Y            active  \n",
       "44       BHMSX                 Y            active  \n",
       "46       CAMBX                 Y            active  \n",
       "55       DBGPX                 Y            active  \n",
       "58       DLBCX                 Y            active  "
      ]
     },
     "execution_count": 13,
     "metadata": {},
     "output_type": "execute_result"
    },
    {
     "data": {
      "text/html": [
       "<div>\n",
       "<style scoped>\n",
       "    .dataframe tbody tr th:only-of-type {\n",
       "        vertical-align: middle;\n",
       "    }\n",
       "\n",
       "    .dataframe tbody tr th {\n",
       "        vertical-align: top;\n",
       "    }\n",
       "\n",
       "    .dataframe thead th {\n",
       "        text-align: right;\n",
       "    }\n",
       "</style>\n",
       "<table border=\"1\" class=\"dataframe\">\n",
       "  <thead>\n",
       "    <tr style=\"text-align: right;\">\n",
       "      <th></th>\n",
       "      <th>Expense Ratio</th>\n",
       "      <th>Fund Name</th>\n",
       "      <th>Fund Ticker</th>\n",
       "      <th>Open to Investors</th>\n",
       "      <th>Active or Passive</th>\n",
       "    </tr>\n",
       "  </thead>\n",
       "  <tbody>\n",
       "    <tr>\n",
       "      <th>7</th>\n",
       "      <td>0.0242</td>\n",
       "      <td>American Pension Investors Trust: Growth Fund</td>\n",
       "      <td>APITX</td>\n",
       "      <td>Y</td>\n",
       "      <td>active</td>\n",
       "    </tr>\n",
       "    <tr>\n",
       "      <th>44</th>\n",
       "      <td>0.0185</td>\n",
       "      <td>UAM Funds Trust: BHM&amp;S Total Return Bond Portf...</td>\n",
       "      <td>BHMSX</td>\n",
       "      <td>Y</td>\n",
       "      <td>active</td>\n",
       "    </tr>\n",
       "    <tr>\n",
       "      <th>46</th>\n",
       "      <td>0.0081</td>\n",
       "      <td>UAM Funds Trust: Chicago Asset Management Inte...</td>\n",
       "      <td>CAMBX</td>\n",
       "      <td>Y</td>\n",
       "      <td>active</td>\n",
       "    </tr>\n",
       "    <tr>\n",
       "      <th>55</th>\n",
       "      <td>0.0205</td>\n",
       "      <td>Deutsche Investors Funds, Inc: Growth Opportun...</td>\n",
       "      <td>DBGPX</td>\n",
       "      <td>Y</td>\n",
       "      <td>active</td>\n",
       "    </tr>\n",
       "    <tr>\n",
       "      <th>58</th>\n",
       "      <td>0.0090</td>\n",
       "      <td>The DLB Fund Group: DLB Enterprise III Fund</td>\n",
       "      <td>DLBCX</td>\n",
       "      <td>Y</td>\n",
       "      <td>active</td>\n",
       "    </tr>\n",
       "  </tbody>\n",
       "</table>\n",
       "</div>"
      ],
      "text/plain": [
       "    Expense Ratio                                          Fund Name  \\\n",
       "7          0.0242      American Pension Investors Trust: Growth Fund   \n",
       "44         0.0185  UAM Funds Trust: BHM&S Total Return Bond Portf...   \n",
       "46         0.0081  UAM Funds Trust: Chicago Asset Management Inte...   \n",
       "55         0.0205  Deutsche Investors Funds, Inc: Growth Opportun...   \n",
       "58         0.0090        The DLB Fund Group: DLB Enterprise III Fund   \n",
       "\n",
       "   Fund Ticker Open to Investors Active or Passive  \n",
       "7        APITX                 Y            active  \n",
       "44       BHMSX                 Y            active  \n",
       "46       CAMBX                 Y            active  \n",
       "55       DBGPX                 Y            active  \n",
       "58       DLBCX                 Y            active  "
      ]
     },
     "execution_count": 13,
     "metadata": {},
     "output_type": "execute_result"
    }
   ],
   "source": [
    "df.head(5)"
   ]
  },
  {
   "cell_type": "code",
   "execution_count": 14,
   "metadata": {},
   "outputs": [
    {
     "data": {
      "text/plain": [
       "active     34336\n",
       "passive    11354\n",
       "Name: Active or Passive, dtype: int64"
      ]
     },
     "execution_count": 14,
     "metadata": {},
     "output_type": "execute_result"
    },
    {
     "data": {
      "text/plain": [
       "active     34336\n",
       "passive    11354\n",
       "Name: Active or Passive, dtype: int64"
      ]
     },
     "execution_count": 14,
     "metadata": {},
     "output_type": "execute_result"
    }
   ],
   "source": [
    "df['Active or Passive'].value_counts()"
   ]
  },
  {
   "cell_type": "code",
   "execution_count": 15,
   "metadata": {},
   "outputs": [],
   "source": [
    "df.drop(['Expense Ratio', 'Open to Investors'], axis = 1, inplace = True)"
   ]
  },
  {
   "cell_type": "code",
   "execution_count": 16,
   "metadata": {
    "scrolled": true
   },
   "outputs": [
    {
     "data": {
      "text/html": [
       "<div>\n",
       "<style scoped>\n",
       "    .dataframe tbody tr th:only-of-type {\n",
       "        vertical-align: middle;\n",
       "    }\n",
       "\n",
       "    .dataframe tbody tr th {\n",
       "        vertical-align: top;\n",
       "    }\n",
       "\n",
       "    .dataframe thead th {\n",
       "        text-align: right;\n",
       "    }\n",
       "</style>\n",
       "<table border=\"1\" class=\"dataframe\">\n",
       "  <thead>\n",
       "    <tr style=\"text-align: right;\">\n",
       "      <th></th>\n",
       "      <th>Fund Name</th>\n",
       "      <th>Fund Ticker</th>\n",
       "      <th>Active or Passive</th>\n",
       "    </tr>\n",
       "  </thead>\n",
       "  <tbody>\n",
       "    <tr>\n",
       "      <th>7</th>\n",
       "      <td>American Pension Investors Trust: Growth Fund</td>\n",
       "      <td>APITX</td>\n",
       "      <td>active</td>\n",
       "    </tr>\n",
       "    <tr>\n",
       "      <th>44</th>\n",
       "      <td>UAM Funds Trust: BHM&amp;S Total Return Bond Portf...</td>\n",
       "      <td>BHMSX</td>\n",
       "      <td>active</td>\n",
       "    </tr>\n",
       "    <tr>\n",
       "      <th>46</th>\n",
       "      <td>UAM Funds Trust: Chicago Asset Management Inte...</td>\n",
       "      <td>CAMBX</td>\n",
       "      <td>active</td>\n",
       "    </tr>\n",
       "    <tr>\n",
       "      <th>55</th>\n",
       "      <td>Deutsche Investors Funds, Inc: Growth Opportun...</td>\n",
       "      <td>DBGPX</td>\n",
       "      <td>active</td>\n",
       "    </tr>\n",
       "    <tr>\n",
       "      <th>58</th>\n",
       "      <td>The DLB Fund Group: DLB Enterprise III Fund</td>\n",
       "      <td>DLBCX</td>\n",
       "      <td>active</td>\n",
       "    </tr>\n",
       "  </tbody>\n",
       "</table>\n",
       "</div>"
      ],
      "text/plain": [
       "                                            Fund Name Fund Ticker  \\\n",
       "7       American Pension Investors Trust: Growth Fund       APITX   \n",
       "44  UAM Funds Trust: BHM&S Total Return Bond Portf...       BHMSX   \n",
       "46  UAM Funds Trust: Chicago Asset Management Inte...       CAMBX   \n",
       "55  Deutsche Investors Funds, Inc: Growth Opportun...       DBGPX   \n",
       "58        The DLB Fund Group: DLB Enterprise III Fund       DLBCX   \n",
       "\n",
       "   Active or Passive  \n",
       "7             active  \n",
       "44            active  \n",
       "46            active  \n",
       "55            active  \n",
       "58            active  "
      ]
     },
     "execution_count": 16,
     "metadata": {},
     "output_type": "execute_result"
    },
    {
     "data": {
      "text/html": [
       "<div>\n",
       "<style scoped>\n",
       "    .dataframe tbody tr th:only-of-type {\n",
       "        vertical-align: middle;\n",
       "    }\n",
       "\n",
       "    .dataframe tbody tr th {\n",
       "        vertical-align: top;\n",
       "    }\n",
       "\n",
       "    .dataframe thead th {\n",
       "        text-align: right;\n",
       "    }\n",
       "</style>\n",
       "<table border=\"1\" class=\"dataframe\">\n",
       "  <thead>\n",
       "    <tr style=\"text-align: right;\">\n",
       "      <th></th>\n",
       "      <th>Fund Name</th>\n",
       "      <th>Fund Ticker</th>\n",
       "      <th>Active or Passive</th>\n",
       "    </tr>\n",
       "  </thead>\n",
       "  <tbody>\n",
       "    <tr>\n",
       "      <th>7</th>\n",
       "      <td>American Pension Investors Trust: Growth Fund</td>\n",
       "      <td>APITX</td>\n",
       "      <td>active</td>\n",
       "    </tr>\n",
       "    <tr>\n",
       "      <th>44</th>\n",
       "      <td>UAM Funds Trust: BHM&amp;S Total Return Bond Portf...</td>\n",
       "      <td>BHMSX</td>\n",
       "      <td>active</td>\n",
       "    </tr>\n",
       "    <tr>\n",
       "      <th>46</th>\n",
       "      <td>UAM Funds Trust: Chicago Asset Management Inte...</td>\n",
       "      <td>CAMBX</td>\n",
       "      <td>active</td>\n",
       "    </tr>\n",
       "    <tr>\n",
       "      <th>55</th>\n",
       "      <td>Deutsche Investors Funds, Inc: Growth Opportun...</td>\n",
       "      <td>DBGPX</td>\n",
       "      <td>active</td>\n",
       "    </tr>\n",
       "    <tr>\n",
       "      <th>58</th>\n",
       "      <td>The DLB Fund Group: DLB Enterprise III Fund</td>\n",
       "      <td>DLBCX</td>\n",
       "      <td>active</td>\n",
       "    </tr>\n",
       "  </tbody>\n",
       "</table>\n",
       "</div>"
      ],
      "text/plain": [
       "                                            Fund Name Fund Ticker  \\\n",
       "7       American Pension Investors Trust: Growth Fund       APITX   \n",
       "44  UAM Funds Trust: BHM&S Total Return Bond Portf...       BHMSX   \n",
       "46  UAM Funds Trust: Chicago Asset Management Inte...       CAMBX   \n",
       "55  Deutsche Investors Funds, Inc: Growth Opportun...       DBGPX   \n",
       "58        The DLB Fund Group: DLB Enterprise III Fund       DLBCX   \n",
       "\n",
       "   Active or Passive  \n",
       "7             active  \n",
       "44            active  \n",
       "46            active  \n",
       "55            active  \n",
       "58            active  "
      ]
     },
     "execution_count": 16,
     "metadata": {},
     "output_type": "execute_result"
    }
   ],
   "source": [
    "df.head()"
   ]
  },
  {
   "cell_type": "code",
   "execution_count": null,
   "metadata": {},
   "outputs": [
    {
     "name": "stdout",
     "output_type": "stream",
     "text": [
      "Failed to get data for: AADRX\n",
      "Failed to get data for: AADRX\n",
      "Failed to get data for: CLSAX\n",
      "Failed to get data for: CLSAX\n",
      "Failed to get data for: CBBCX\n",
      "Failed to get data for: CBBCX\n"
     ]
    }
   ],
   "source": [
    "%%timeit\n",
    "\n",
    "pricing_data = {}\n",
    "\n",
    "for fund in df['Fund Ticker']:\n",
    "    try:\n",
    "        pricing_data[fund] = get_price(fund)\n",
    "    except:\n",
    "        print('Failed to get data for: ' + fund)"
   ]
  },
  {
   "cell_type": "code",
   "execution_count": null,
   "metadata": {},
   "outputs": [],
   "source": [
    "returns = df_date_range(pricing_data)"
   ]
  },
  {
   "cell_type": "code",
   "execution_count": null,
   "metadata": {},
   "outputs": [],
   "source": [
    "for k in pricing_data:\n",
    "    dfs = pricing_data.get(k)\n",
    "    returns[k] = np.where(returns['date'] == dfs['date'], dfs['close'], 0)"
   ]
  },
  {
   "cell_type": "code",
   "execution_count": null,
   "metadata": {},
   "outputs": [],
   "source": [
    "returns"
   ]
  },
  {
   "cell_type": "code",
   "execution_count": null,
   "metadata": {},
   "outputs": [],
   "source": []
  },
  {
   "cell_type": "code",
   "execution_count": null,
   "metadata": {},
   "outputs": [],
   "source": [
    "sent['f6mret'] = sent['sp500'].shift(-26) / sent['sp500'] -1\n",
    "sent['f1yret'] = sent['sp500'].shift(-52) / sent['sp500'] -1\n",
    "sent['l6mret'] = sent['sp500'] / sent['sp500'].shift(26) -1\n",
    "sent['l1yret'] = sent['sp500'] / sent['sp500'].shift(52) -1"
   ]
  },
  {
   "cell_type": "code",
   "execution_count": null,
   "metadata": {},
   "outputs": [],
   "source": []
  },
  {
   "cell_type": "code",
   "execution_count": null,
   "metadata": {},
   "outputs": [],
   "source": []
  },
  {
   "cell_type": "code",
   "execution_count": null,
   "metadata": {},
   "outputs": [],
   "source": []
  },
  {
   "cell_type": "code",
   "execution_count": null,
   "metadata": {},
   "outputs": [],
   "source": []
  },
  {
   "cell_type": "raw",
   "metadata": {},
   "source": [
    "Analysis"
   ]
  },
  {
   "cell_type": "raw",
   "metadata": {},
   "source": [
    "Visualization"
   ]
  }
 ],
 "metadata": {
  "kernelspec": {
   "display_name": "Python 3",
   "language": "python",
   "name": "python3"
  },
  "language_info": {
   "codemirror_mode": {
    "name": "ipython",
    "version": 3
   },
   "file_extension": ".py",
   "mimetype": "text/x-python",
   "name": "python",
   "nbconvert_exporter": "python",
   "pygments_lexer": "ipython3",
   "version": "3.6.4"
  }
 },
 "nbformat": 4,
 "nbformat_minor": 2
}
