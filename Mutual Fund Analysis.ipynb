{
 "cells": [
  {
   "cell_type": "raw",
   "metadata": {},
   "source": [
    "Question: Are actively managed mutual funds a better investment than passively managed mutual funds?"
   ]
  },
  {
   "cell_type": "raw",
   "metadata": {},
   "source": [
    "Project Outline\n",
    "\n",
    "    - Pull Data\n",
    "     - Describe Data"
   ]
  },
  {
   "cell_type": "raw",
   "metadata": {},
   "source": [
    "Important Links:\n",
    "\n",
    "CRSP Data Definitions\n",
    "http://www.crsp.com/products/documentation/data-definitions-2\n",
    "\n",
    "\n",
    "JP Morgan - Active vs Passive Funds\n",
    "https://www.morganstanley.com/spc/knowledge/managing-wealth/wealth-management-for-stock-plan-participants/active-vs--passive-funds--its-more-than-just-fees.html\n",
    "\n",
    "Mutual Fund Performance Measures\n",
    "https://web.stanford.edu/~wfsharpe/art/mfpm/mfpm.htm"
   ]
  },
  {
   "cell_type": "markdown",
   "metadata": {},
   "source": [
    "# Import Modules"
   ]
  },
  {
   "cell_type": "code",
   "execution_count": 1,
   "metadata": {},
   "outputs": [],
   "source": [
    "import pandas as pd\n",
    "import numpy as np\n",
    "import requests\n",
    "import json\n",
    "import re\n",
    "import seaborn as sns\n",
    "import time\n",
    "from scipy.stats import norm\n",
    "from matplotlib import pyplot as plt\n",
    "import random\n",
    "import datetime\n",
    "from fund_analysis import *\n",
    "\n",
    "\n",
    "\n",
    "\n"
   ]
  },
  {
   "cell_type": "markdown",
   "metadata": {},
   "source": [
    "# Import Data"
   ]
  },
  {
   "cell_type": "code",
   "execution_count": 2,
   "metadata": {},
   "outputs": [],
   "source": [
    "start = pd.to_datetime('01/01/1988')\n",
    "end = pd.to_datetime('04/16/2018')"
   ]
  },
  {
   "cell_type": "code",
   "execution_count": 3,
   "metadata": {},
   "outputs": [
    {
     "name": "stderr",
     "output_type": "stream",
     "text": [
      "/anaconda3/lib/python3.6/site-packages/IPython/core/interactiveshell.py:2728: DtypeWarning: Columns (5,12,49,50,51,62,65,66) have mixed types. Specify dtype option on import or set low_memory=False.\n",
      "  interactivity=interactivity, compiler=compiler, result=result)\n",
      "/anaconda3/lib/python3.6/site-packages/IPython/core/interactiveshell.py:2728: DtypeWarning: Columns (5,12,49,50,51,62,65,66) have mixed types. Specify dtype option on import or set low_memory=False.\n",
      "  interactivity=interactivity, compiler=compiler, result=result)\n"
     ]
    }
   ],
   "source": [
    "data = pd.read_csv('CRSP.csv')"
   ]
  },
  {
   "cell_type": "code",
   "execution_count": 4,
   "metadata": {},
   "outputs": [],
   "source": [
    "sp_data = get_yahoo_prices('^GSPC', start, end)"
   ]
  },
  {
   "cell_type": "code",
   "execution_count": 5,
   "metadata": {},
   "outputs": [],
   "source": [
    "sp_data = sp_data.reset_index()"
   ]
  },
  {
   "cell_type": "code",
   "execution_count": 6,
   "metadata": {},
   "outputs": [],
   "source": [
    "sp_data = sp_data[['date', 'adjclose']]"
   ]
  },
  {
   "cell_type": "code",
   "execution_count": 7,
   "metadata": {},
   "outputs": [],
   "source": [
    "active_price = pd.read_csv('active_price_data.csv')\n",
    "passive_price = pd.read_csv('passive_price_data.csv')"
   ]
  },
  {
   "cell_type": "markdown",
   "metadata": {},
   "source": [
    "# Cleaning/Preparation"
   ]
  },
  {
   "cell_type": "markdown",
   "metadata": {},
   "source": [
    "### CRSP Data"
   ]
  },
  {
   "cell_type": "code",
   "execution_count": 8,
   "metadata": {},
   "outputs": [
    {
     "data": {
      "text/plain": [
       "(550596, 73)"
      ]
     },
     "execution_count": 8,
     "metadata": {},
     "output_type": "execute_result"
    },
    {
     "data": {
      "text/plain": [
       "(550596, 73)"
      ]
     },
     "execution_count": 8,
     "metadata": {},
     "output_type": "execute_result"
    }
   ],
   "source": [
    "data.shape"
   ]
  },
  {
   "cell_type": "code",
   "execution_count": 9,
   "metadata": {},
   "outputs": [
    {
     "data": {
      "text/plain": [
       "Index(['summary_period2', 'crsp_fundno', 'caldt', 'nav_latest',\n",
       "       'nav_latest_dt', 'tna_latest', 'tna_latest_dt', 'yield', 'div_ytd',\n",
       "       'cap_gains_ytd', 'nav_52w_h', 'nav_52w_h_dt', 'nav_52w_l',\n",
       "       'nav_52w_l_dt', 'unrealized_app_dep', 'unrealized_app_dt', 'asset_dt',\n",
       "       'per_com', 'per_pref', 'per_conv', 'per_corp', 'per_muni', 'per_govt',\n",
       "       'per_oth', 'per_cash', 'per_bond', 'per_abs', 'per_mbs', 'per_eq_oth',\n",
       "       'per_fi_oth', 'maturity', 'maturity_dt', 'cusip8', 'crsp_portno',\n",
       "       'crsp_cl_grp', 'fund_name', 'ticker', 'ncusip', 'mgmt_name', 'mgmt_cd',\n",
       "       'mgr_name', 'mgr_dt', 'adv_name', 'open_to_inv', 'retail_fund',\n",
       "       'inst_fund', 'm_fund', 'index_fund_flag', 'vau_fund', 'et_flag',\n",
       "       'delist_cd', 'first_offer_dt', 'end_dt', 'dead_flag', 'merge_fundno',\n",
       "       'actual_12b1', 'max_12b1', 'exp_ratio', 'mgmt_fee', 'turn_ratio',\n",
       "       'fiscal_yearend', 'crsp_obj_cd', 'si_obj_cd', 'accrual_fund',\n",
       "       'sales_restrict', 'wbrger_obj_cd', 'policy', 'lipper_class',\n",
       "       'lipper_class_name', 'lipper_obj_cd', 'lipper_obj_name',\n",
       "       'lipper_asset_cd', 'lipper_tax_cd'],\n",
       "      dtype='object')"
      ]
     },
     "execution_count": 9,
     "metadata": {},
     "output_type": "execute_result"
    },
    {
     "data": {
      "text/plain": [
       "Index(['summary_period2', 'crsp_fundno', 'caldt', 'nav_latest',\n",
       "       'nav_latest_dt', 'tna_latest', 'tna_latest_dt', 'yield', 'div_ytd',\n",
       "       'cap_gains_ytd', 'nav_52w_h', 'nav_52w_h_dt', 'nav_52w_l',\n",
       "       'nav_52w_l_dt', 'unrealized_app_dep', 'unrealized_app_dt', 'asset_dt',\n",
       "       'per_com', 'per_pref', 'per_conv', 'per_corp', 'per_muni', 'per_govt',\n",
       "       'per_oth', 'per_cash', 'per_bond', 'per_abs', 'per_mbs', 'per_eq_oth',\n",
       "       'per_fi_oth', 'maturity', 'maturity_dt', 'cusip8', 'crsp_portno',\n",
       "       'crsp_cl_grp', 'fund_name', 'ticker', 'ncusip', 'mgmt_name', 'mgmt_cd',\n",
       "       'mgr_name', 'mgr_dt', 'adv_name', 'open_to_inv', 'retail_fund',\n",
       "       'inst_fund', 'm_fund', 'index_fund_flag', 'vau_fund', 'et_flag',\n",
       "       'delist_cd', 'first_offer_dt', 'end_dt', 'dead_flag', 'merge_fundno',\n",
       "       'actual_12b1', 'max_12b1', 'exp_ratio', 'mgmt_fee', 'turn_ratio',\n",
       "       'fiscal_yearend', 'crsp_obj_cd', 'si_obj_cd', 'accrual_fund',\n",
       "       'sales_restrict', 'wbrger_obj_cd', 'policy', 'lipper_class',\n",
       "       'lipper_class_name', 'lipper_obj_cd', 'lipper_obj_name',\n",
       "       'lipper_asset_cd', 'lipper_tax_cd'],\n",
       "      dtype='object')"
      ]
     },
     "execution_count": 9,
     "metadata": {},
     "output_type": "execute_result"
    }
   ],
   "source": [
    "data.columns"
   ]
  },
  {
   "cell_type": "code",
   "execution_count": 10,
   "metadata": {},
   "outputs": [],
   "source": [
    "df = pd.DataFrame({'Fund Name' : data['fund_name'], 'Fund Ticker' : data['ticker'], \n",
    "                   'Open to Investors' : data['open_to_inv'], 'Expense Ratio' : data['exp_ratio'],\n",
    "                  'Management Fee' : data['mgmt_fee'], 'Turnover Ratio' : data['turn_ratio']})"
   ]
  },
  {
   "cell_type": "code",
   "execution_count": 11,
   "metadata": {},
   "outputs": [
    {
     "data": {
      "text/plain": [
       "Expense Ratio         77314\n",
       "Fund Name              7823\n",
       "Fund Ticker           86503\n",
       "Management Fee       144968\n",
       "Open to Investors     81168\n",
       "Turnover Ratio        77314\n",
       "dtype: int64"
      ]
     },
     "execution_count": 11,
     "metadata": {},
     "output_type": "execute_result"
    },
    {
     "data": {
      "text/plain": [
       "Expense Ratio         77314\n",
       "Fund Name              7823\n",
       "Fund Ticker           86503\n",
       "Management Fee       144968\n",
       "Open to Investors     81168\n",
       "Turnover Ratio        77314\n",
       "dtype: int64"
      ]
     },
     "execution_count": 11,
     "metadata": {},
     "output_type": "execute_result"
    }
   ],
   "source": [
    "df.isnull().sum()"
   ]
  },
  {
   "cell_type": "code",
   "execution_count": 12,
   "metadata": {},
   "outputs": [],
   "source": [
    "df.dropna(inplace = True)"
   ]
  },
  {
   "cell_type": "code",
   "execution_count": 13,
   "metadata": {},
   "outputs": [
    {
     "data": {
      "text/plain": [
       "count    371785.000000\n",
       "mean         -5.379646\n",
       "std         182.354466\n",
       "min         -99.000000\n",
       "25%           0.210000\n",
       "50%           0.490000\n",
       "75%           0.990000\n",
       "max      110120.080000\n",
       "Name: Turnover Ratio, dtype: float64"
      ]
     },
     "execution_count": 13,
     "metadata": {},
     "output_type": "execute_result"
    },
    {
     "data": {
      "text/plain": [
       "count    371785.000000\n",
       "mean         -5.379646\n",
       "std         182.354466\n",
       "min         -99.000000\n",
       "25%           0.210000\n",
       "50%           0.490000\n",
       "75%           0.990000\n",
       "max      110120.080000\n",
       "Name: Turnover Ratio, dtype: float64"
      ]
     },
     "execution_count": 13,
     "metadata": {},
     "output_type": "execute_result"
    }
   ],
   "source": [
    "df['Turnover Ratio'].describe()"
   ]
  },
  {
   "cell_type": "code",
   "execution_count": 14,
   "metadata": {},
   "outputs": [],
   "source": [
    "df['Active or Passive'] = df['Expense Ratio'].apply(managed)\n",
    "df['Active or Passive'] = df['Turnover Ratio'].apply(managed_turn)"
   ]
  },
  {
   "cell_type": "code",
   "execution_count": 15,
   "metadata": {},
   "outputs": [],
   "source": [
    "df = df[df['Open to Investors'] == 'Y']"
   ]
  },
  {
   "cell_type": "code",
   "execution_count": 16,
   "metadata": {},
   "outputs": [],
   "source": [
    "df = df[df['Management Fee'] > 0]"
   ]
  },
  {
   "cell_type": "code",
   "execution_count": 17,
   "metadata": {},
   "outputs": [],
   "source": [
    "df = df[df['Expense Ratio'] > 0]"
   ]
  },
  {
   "cell_type": "code",
   "execution_count": 18,
   "metadata": {},
   "outputs": [],
   "source": [
    "df.drop_duplicates(subset = ['Fund Ticker'], inplace = True)"
   ]
  },
  {
   "cell_type": "code",
   "execution_count": 19,
   "metadata": {},
   "outputs": [
    {
     "data": {
      "text/plain": [
       "(39653, 7)"
      ]
     },
     "execution_count": 19,
     "metadata": {},
     "output_type": "execute_result"
    },
    {
     "data": {
      "text/plain": [
       "(39653, 7)"
      ]
     },
     "execution_count": 19,
     "metadata": {},
     "output_type": "execute_result"
    }
   ],
   "source": [
    "df.shape"
   ]
  },
  {
   "cell_type": "code",
   "execution_count": 20,
   "metadata": {},
   "outputs": [
    {
     "data": {
      "text/html": [
       "<div>\n",
       "<style scoped>\n",
       "    .dataframe tbody tr th:only-of-type {\n",
       "        vertical-align: middle;\n",
       "    }\n",
       "\n",
       "    .dataframe tbody tr th {\n",
       "        vertical-align: top;\n",
       "    }\n",
       "\n",
       "    .dataframe thead th {\n",
       "        text-align: right;\n",
       "    }\n",
       "</style>\n",
       "<table border=\"1\" class=\"dataframe\">\n",
       "  <thead>\n",
       "    <tr style=\"text-align: right;\">\n",
       "      <th></th>\n",
       "      <th>Expense Ratio</th>\n",
       "      <th>Fund Name</th>\n",
       "      <th>Fund Ticker</th>\n",
       "      <th>Management Fee</th>\n",
       "      <th>Open to Investors</th>\n",
       "      <th>Turnover Ratio</th>\n",
       "      <th>Active or Passive</th>\n",
       "    </tr>\n",
       "  </thead>\n",
       "  <tbody>\n",
       "    <tr>\n",
       "      <th>2</th>\n",
       "      <td>0.0042</td>\n",
       "      <td>AARP Income Trust: AARP Bond Fund for Income</td>\n",
       "      <td>AABIX</td>\n",
       "      <td>0.084</td>\n",
       "      <td>Y</td>\n",
       "      <td>0.64</td>\n",
       "      <td>active</td>\n",
       "    </tr>\n",
       "    <tr>\n",
       "      <th>12</th>\n",
       "      <td>0.0200</td>\n",
       "      <td>ABN AMRO Funds: International Fixed Income Fun...</td>\n",
       "      <td>AAIFX</td>\n",
       "      <td>1.175</td>\n",
       "      <td>Y</td>\n",
       "      <td>0.40</td>\n",
       "      <td>active</td>\n",
       "    </tr>\n",
       "    <tr>\n",
       "      <th>15</th>\n",
       "      <td>0.0175</td>\n",
       "      <td>AARP Growth Trust: AARP International Stock Fund</td>\n",
       "      <td>AAISX</td>\n",
       "      <td>0.228</td>\n",
       "      <td>Y</td>\n",
       "      <td>2.14</td>\n",
       "      <td>active</td>\n",
       "    </tr>\n",
       "    <tr>\n",
       "      <th>61</th>\n",
       "      <td>0.0088</td>\n",
       "      <td>AARP Growth Trust: AARP Balanced Stock and Bon...</td>\n",
       "      <td>ABSBX</td>\n",
       "      <td>0.470</td>\n",
       "      <td>Y</td>\n",
       "      <td>0.48</td>\n",
       "      <td>active</td>\n",
       "    </tr>\n",
       "    <tr>\n",
       "      <th>245</th>\n",
       "      <td>0.0085</td>\n",
       "      <td>Mercantile Mutual Funds, Inc.: Equity Index Po...</td>\n",
       "      <td>AEPAX</td>\n",
       "      <td>0.400</td>\n",
       "      <td>Y</td>\n",
       "      <td>0.28</td>\n",
       "      <td>active</td>\n",
       "    </tr>\n",
       "  </tbody>\n",
       "</table>\n",
       "</div>"
      ],
      "text/plain": [
       "     Expense Ratio                                          Fund Name  \\\n",
       "2           0.0042       AARP Income Trust: AARP Bond Fund for Income   \n",
       "12          0.0200  ABN AMRO Funds: International Fixed Income Fun...   \n",
       "15          0.0175   AARP Growth Trust: AARP International Stock Fund   \n",
       "61          0.0088  AARP Growth Trust: AARP Balanced Stock and Bon...   \n",
       "245         0.0085  Mercantile Mutual Funds, Inc.: Equity Index Po...   \n",
       "\n",
       "    Fund Ticker  Management Fee Open to Investors  Turnover Ratio  \\\n",
       "2         AABIX           0.084                 Y            0.64   \n",
       "12        AAIFX           1.175                 Y            0.40   \n",
       "15        AAISX           0.228                 Y            2.14   \n",
       "61        ABSBX           0.470                 Y            0.48   \n",
       "245       AEPAX           0.400                 Y            0.28   \n",
       "\n",
       "    Active or Passive  \n",
       "2              active  \n",
       "12             active  \n",
       "15             active  \n",
       "61             active  \n",
       "245            active  "
      ]
     },
     "execution_count": 20,
     "metadata": {},
     "output_type": "execute_result"
    },
    {
     "data": {
      "text/html": [
       "<div>\n",
       "<style scoped>\n",
       "    .dataframe tbody tr th:only-of-type {\n",
       "        vertical-align: middle;\n",
       "    }\n",
       "\n",
       "    .dataframe tbody tr th {\n",
       "        vertical-align: top;\n",
       "    }\n",
       "\n",
       "    .dataframe thead th {\n",
       "        text-align: right;\n",
       "    }\n",
       "</style>\n",
       "<table border=\"1\" class=\"dataframe\">\n",
       "  <thead>\n",
       "    <tr style=\"text-align: right;\">\n",
       "      <th></th>\n",
       "      <th>Expense Ratio</th>\n",
       "      <th>Fund Name</th>\n",
       "      <th>Fund Ticker</th>\n",
       "      <th>Management Fee</th>\n",
       "      <th>Open to Investors</th>\n",
       "      <th>Turnover Ratio</th>\n",
       "      <th>Active or Passive</th>\n",
       "    </tr>\n",
       "  </thead>\n",
       "  <tbody>\n",
       "    <tr>\n",
       "      <th>2</th>\n",
       "      <td>0.0042</td>\n",
       "      <td>AARP Income Trust: AARP Bond Fund for Income</td>\n",
       "      <td>AABIX</td>\n",
       "      <td>0.084</td>\n",
       "      <td>Y</td>\n",
       "      <td>0.64</td>\n",
       "      <td>active</td>\n",
       "    </tr>\n",
       "    <tr>\n",
       "      <th>12</th>\n",
       "      <td>0.0200</td>\n",
       "      <td>ABN AMRO Funds: International Fixed Income Fun...</td>\n",
       "      <td>AAIFX</td>\n",
       "      <td>1.175</td>\n",
       "      <td>Y</td>\n",
       "      <td>0.40</td>\n",
       "      <td>active</td>\n",
       "    </tr>\n",
       "    <tr>\n",
       "      <th>15</th>\n",
       "      <td>0.0175</td>\n",
       "      <td>AARP Growth Trust: AARP International Stock Fund</td>\n",
       "      <td>AAISX</td>\n",
       "      <td>0.228</td>\n",
       "      <td>Y</td>\n",
       "      <td>2.14</td>\n",
       "      <td>active</td>\n",
       "    </tr>\n",
       "    <tr>\n",
       "      <th>61</th>\n",
       "      <td>0.0088</td>\n",
       "      <td>AARP Growth Trust: AARP Balanced Stock and Bon...</td>\n",
       "      <td>ABSBX</td>\n",
       "      <td>0.470</td>\n",
       "      <td>Y</td>\n",
       "      <td>0.48</td>\n",
       "      <td>active</td>\n",
       "    </tr>\n",
       "    <tr>\n",
       "      <th>245</th>\n",
       "      <td>0.0085</td>\n",
       "      <td>Mercantile Mutual Funds, Inc.: Equity Index Po...</td>\n",
       "      <td>AEPAX</td>\n",
       "      <td>0.400</td>\n",
       "      <td>Y</td>\n",
       "      <td>0.28</td>\n",
       "      <td>active</td>\n",
       "    </tr>\n",
       "  </tbody>\n",
       "</table>\n",
       "</div>"
      ],
      "text/plain": [
       "     Expense Ratio                                          Fund Name  \\\n",
       "2           0.0042       AARP Income Trust: AARP Bond Fund for Income   \n",
       "12          0.0200  ABN AMRO Funds: International Fixed Income Fun...   \n",
       "15          0.0175   AARP Growth Trust: AARP International Stock Fund   \n",
       "61          0.0088  AARP Growth Trust: AARP Balanced Stock and Bon...   \n",
       "245         0.0085  Mercantile Mutual Funds, Inc.: Equity Index Po...   \n",
       "\n",
       "    Fund Ticker  Management Fee Open to Investors  Turnover Ratio  \\\n",
       "2         AABIX           0.084                 Y            0.64   \n",
       "12        AAIFX           1.175                 Y            0.40   \n",
       "15        AAISX           0.228                 Y            2.14   \n",
       "61        ABSBX           0.470                 Y            0.48   \n",
       "245       AEPAX           0.400                 Y            0.28   \n",
       "\n",
       "    Active or Passive  \n",
       "2              active  \n",
       "12             active  \n",
       "15             active  \n",
       "61             active  \n",
       "245            active  "
      ]
     },
     "execution_count": 20,
     "metadata": {},
     "output_type": "execute_result"
    }
   ],
   "source": [
    "df.head(5)"
   ]
  },
  {
   "cell_type": "code",
   "execution_count": 21,
   "metadata": {},
   "outputs": [
    {
     "data": {
      "text/plain": [
       "active     30680\n",
       "passive     8973\n",
       "Name: Active or Passive, dtype: int64"
      ]
     },
     "execution_count": 21,
     "metadata": {},
     "output_type": "execute_result"
    },
    {
     "data": {
      "text/plain": [
       "active     30680\n",
       "passive     8973\n",
       "Name: Active or Passive, dtype: int64"
      ]
     },
     "execution_count": 21,
     "metadata": {},
     "output_type": "execute_result"
    }
   ],
   "source": [
    "df['Active or Passive'].value_counts()"
   ]
  },
  {
   "cell_type": "code",
   "execution_count": 22,
   "metadata": {
    "scrolled": true
   },
   "outputs": [],
   "source": [
    "df_active = df[df['Active or Passive'] == 'active']\n",
    "df_passive = df[df['Active or Passive'] != 'active']"
   ]
  },
  {
   "cell_type": "markdown",
   "metadata": {},
   "source": [
    "### Active/Passive Price Data"
   ]
  },
  {
   "cell_type": "code",
   "execution_count": 23,
   "metadata": {},
   "outputs": [
    {
     "data": {
      "text/html": [
       "<div>\n",
       "<style scoped>\n",
       "    .dataframe tbody tr th:only-of-type {\n",
       "        vertical-align: middle;\n",
       "    }\n",
       "\n",
       "    .dataframe tbody tr th {\n",
       "        vertical-align: top;\n",
       "    }\n",
       "\n",
       "    .dataframe thead th {\n",
       "        text-align: right;\n",
       "    }\n",
       "</style>\n",
       "<table border=\"1\" class=\"dataframe\">\n",
       "  <thead>\n",
       "    <tr style=\"text-align: right;\">\n",
       "      <th></th>\n",
       "      <th>Unnamed: 0</th>\n",
       "      <th>date</th>\n",
       "      <th>CEMDX</th>\n",
       "      <th>SDFIX</th>\n",
       "      <th>ICFCX</th>\n",
       "      <th>CGERX</th>\n",
       "      <th>HNSGX</th>\n",
       "      <th>ACLNX</th>\n",
       "      <th>MDDDX</th>\n",
       "      <th>IVHIX</th>\n",
       "      <th>...</th>\n",
       "      <th>XSD</th>\n",
       "      <th>MHITX</th>\n",
       "      <th>URTCX</th>\n",
       "      <th>PRENX</th>\n",
       "      <th>RINTX</th>\n",
       "      <th>TFXIX</th>\n",
       "      <th>IPOSX</th>\n",
       "      <th>MINYX</th>\n",
       "      <th>PAZCX</th>\n",
       "      <th>PMNPX</th>\n",
       "    </tr>\n",
       "  </thead>\n",
       "  <tbody>\n",
       "    <tr>\n",
       "      <th>0</th>\n",
       "      <td>0</td>\n",
       "      <td>1980-01-01</td>\n",
       "      <td>NaN</td>\n",
       "      <td>NaN</td>\n",
       "      <td>NaN</td>\n",
       "      <td>NaN</td>\n",
       "      <td>NaN</td>\n",
       "      <td>NaN</td>\n",
       "      <td>NaN</td>\n",
       "      <td>NaN</td>\n",
       "      <td>...</td>\n",
       "      <td>NaN</td>\n",
       "      <td>NaN</td>\n",
       "      <td>NaN</td>\n",
       "      <td>NaN</td>\n",
       "      <td>NaN</td>\n",
       "      <td>NaN</td>\n",
       "      <td>NaN</td>\n",
       "      <td>NaN</td>\n",
       "      <td>NaN</td>\n",
       "      <td>NaN</td>\n",
       "    </tr>\n",
       "    <tr>\n",
       "      <th>1</th>\n",
       "      <td>1</td>\n",
       "      <td>1980-01-02</td>\n",
       "      <td>NaN</td>\n",
       "      <td>NaN</td>\n",
       "      <td>NaN</td>\n",
       "      <td>NaN</td>\n",
       "      <td>NaN</td>\n",
       "      <td>NaN</td>\n",
       "      <td>NaN</td>\n",
       "      <td>NaN</td>\n",
       "      <td>...</td>\n",
       "      <td>NaN</td>\n",
       "      <td>NaN</td>\n",
       "      <td>NaN</td>\n",
       "      <td>NaN</td>\n",
       "      <td>NaN</td>\n",
       "      <td>NaN</td>\n",
       "      <td>NaN</td>\n",
       "      <td>NaN</td>\n",
       "      <td>NaN</td>\n",
       "      <td>NaN</td>\n",
       "    </tr>\n",
       "    <tr>\n",
       "      <th>2</th>\n",
       "      <td>2</td>\n",
       "      <td>1980-01-03</td>\n",
       "      <td>NaN</td>\n",
       "      <td>NaN</td>\n",
       "      <td>NaN</td>\n",
       "      <td>NaN</td>\n",
       "      <td>NaN</td>\n",
       "      <td>NaN</td>\n",
       "      <td>NaN</td>\n",
       "      <td>NaN</td>\n",
       "      <td>...</td>\n",
       "      <td>NaN</td>\n",
       "      <td>NaN</td>\n",
       "      <td>NaN</td>\n",
       "      <td>NaN</td>\n",
       "      <td>NaN</td>\n",
       "      <td>NaN</td>\n",
       "      <td>NaN</td>\n",
       "      <td>NaN</td>\n",
       "      <td>NaN</td>\n",
       "      <td>NaN</td>\n",
       "    </tr>\n",
       "    <tr>\n",
       "      <th>3</th>\n",
       "      <td>3</td>\n",
       "      <td>1980-01-04</td>\n",
       "      <td>NaN</td>\n",
       "      <td>NaN</td>\n",
       "      <td>NaN</td>\n",
       "      <td>NaN</td>\n",
       "      <td>NaN</td>\n",
       "      <td>NaN</td>\n",
       "      <td>NaN</td>\n",
       "      <td>NaN</td>\n",
       "      <td>...</td>\n",
       "      <td>NaN</td>\n",
       "      <td>NaN</td>\n",
       "      <td>NaN</td>\n",
       "      <td>NaN</td>\n",
       "      <td>NaN</td>\n",
       "      <td>NaN</td>\n",
       "      <td>NaN</td>\n",
       "      <td>NaN</td>\n",
       "      <td>NaN</td>\n",
       "      <td>NaN</td>\n",
       "    </tr>\n",
       "    <tr>\n",
       "      <th>4</th>\n",
       "      <td>4</td>\n",
       "      <td>1980-01-05</td>\n",
       "      <td>NaN</td>\n",
       "      <td>NaN</td>\n",
       "      <td>NaN</td>\n",
       "      <td>NaN</td>\n",
       "      <td>NaN</td>\n",
       "      <td>NaN</td>\n",
       "      <td>NaN</td>\n",
       "      <td>NaN</td>\n",
       "      <td>...</td>\n",
       "      <td>NaN</td>\n",
       "      <td>NaN</td>\n",
       "      <td>NaN</td>\n",
       "      <td>NaN</td>\n",
       "      <td>NaN</td>\n",
       "      <td>NaN</td>\n",
       "      <td>NaN</td>\n",
       "      <td>NaN</td>\n",
       "      <td>NaN</td>\n",
       "      <td>NaN</td>\n",
       "    </tr>\n",
       "  </tbody>\n",
       "</table>\n",
       "<p>5 rows × 350 columns</p>\n",
       "</div>"
      ],
      "text/plain": [
       "   Unnamed: 0        date  CEMDX  SDFIX  ICFCX  CGERX  HNSGX  ACLNX  MDDDX  \\\n",
       "0           0  1980-01-01    NaN    NaN    NaN    NaN    NaN    NaN    NaN   \n",
       "1           1  1980-01-02    NaN    NaN    NaN    NaN    NaN    NaN    NaN   \n",
       "2           2  1980-01-03    NaN    NaN    NaN    NaN    NaN    NaN    NaN   \n",
       "3           3  1980-01-04    NaN    NaN    NaN    NaN    NaN    NaN    NaN   \n",
       "4           4  1980-01-05    NaN    NaN    NaN    NaN    NaN    NaN    NaN   \n",
       "\n",
       "   IVHIX  ...    XSD  MHITX  URTCX  PRENX  RINTX  TFXIX  IPOSX  MINYX  PAZCX  \\\n",
       "0    NaN  ...    NaN    NaN    NaN    NaN    NaN    NaN    NaN    NaN    NaN   \n",
       "1    NaN  ...    NaN    NaN    NaN    NaN    NaN    NaN    NaN    NaN    NaN   \n",
       "2    NaN  ...    NaN    NaN    NaN    NaN    NaN    NaN    NaN    NaN    NaN   \n",
       "3    NaN  ...    NaN    NaN    NaN    NaN    NaN    NaN    NaN    NaN    NaN   \n",
       "4    NaN  ...    NaN    NaN    NaN    NaN    NaN    NaN    NaN    NaN    NaN   \n",
       "\n",
       "   PMNPX  \n",
       "0    NaN  \n",
       "1    NaN  \n",
       "2    NaN  \n",
       "3    NaN  \n",
       "4    NaN  \n",
       "\n",
       "[5 rows x 350 columns]"
      ]
     },
     "execution_count": 23,
     "metadata": {},
     "output_type": "execute_result"
    },
    {
     "data": {
      "text/html": [
       "<div>\n",
       "<style scoped>\n",
       "    .dataframe tbody tr th:only-of-type {\n",
       "        vertical-align: middle;\n",
       "    }\n",
       "\n",
       "    .dataframe tbody tr th {\n",
       "        vertical-align: top;\n",
       "    }\n",
       "\n",
       "    .dataframe thead th {\n",
       "        text-align: right;\n",
       "    }\n",
       "</style>\n",
       "<table border=\"1\" class=\"dataframe\">\n",
       "  <thead>\n",
       "    <tr style=\"text-align: right;\">\n",
       "      <th></th>\n",
       "      <th>Unnamed: 0</th>\n",
       "      <th>date</th>\n",
       "      <th>CEMDX</th>\n",
       "      <th>SDFIX</th>\n",
       "      <th>ICFCX</th>\n",
       "      <th>CGERX</th>\n",
       "      <th>HNSGX</th>\n",
       "      <th>ACLNX</th>\n",
       "      <th>MDDDX</th>\n",
       "      <th>IVHIX</th>\n",
       "      <th>...</th>\n",
       "      <th>XSD</th>\n",
       "      <th>MHITX</th>\n",
       "      <th>URTCX</th>\n",
       "      <th>PRENX</th>\n",
       "      <th>RINTX</th>\n",
       "      <th>TFXIX</th>\n",
       "      <th>IPOSX</th>\n",
       "      <th>MINYX</th>\n",
       "      <th>PAZCX</th>\n",
       "      <th>PMNPX</th>\n",
       "    </tr>\n",
       "  </thead>\n",
       "  <tbody>\n",
       "    <tr>\n",
       "      <th>0</th>\n",
       "      <td>0</td>\n",
       "      <td>1980-01-01</td>\n",
       "      <td>NaN</td>\n",
       "      <td>NaN</td>\n",
       "      <td>NaN</td>\n",
       "      <td>NaN</td>\n",
       "      <td>NaN</td>\n",
       "      <td>NaN</td>\n",
       "      <td>NaN</td>\n",
       "      <td>NaN</td>\n",
       "      <td>...</td>\n",
       "      <td>NaN</td>\n",
       "      <td>NaN</td>\n",
       "      <td>NaN</td>\n",
       "      <td>NaN</td>\n",
       "      <td>NaN</td>\n",
       "      <td>NaN</td>\n",
       "      <td>NaN</td>\n",
       "      <td>NaN</td>\n",
       "      <td>NaN</td>\n",
       "      <td>NaN</td>\n",
       "    </tr>\n",
       "    <tr>\n",
       "      <th>1</th>\n",
       "      <td>1</td>\n",
       "      <td>1980-01-02</td>\n",
       "      <td>NaN</td>\n",
       "      <td>NaN</td>\n",
       "      <td>NaN</td>\n",
       "      <td>NaN</td>\n",
       "      <td>NaN</td>\n",
       "      <td>NaN</td>\n",
       "      <td>NaN</td>\n",
       "      <td>NaN</td>\n",
       "      <td>...</td>\n",
       "      <td>NaN</td>\n",
       "      <td>NaN</td>\n",
       "      <td>NaN</td>\n",
       "      <td>NaN</td>\n",
       "      <td>NaN</td>\n",
       "      <td>NaN</td>\n",
       "      <td>NaN</td>\n",
       "      <td>NaN</td>\n",
       "      <td>NaN</td>\n",
       "      <td>NaN</td>\n",
       "    </tr>\n",
       "    <tr>\n",
       "      <th>2</th>\n",
       "      <td>2</td>\n",
       "      <td>1980-01-03</td>\n",
       "      <td>NaN</td>\n",
       "      <td>NaN</td>\n",
       "      <td>NaN</td>\n",
       "      <td>NaN</td>\n",
       "      <td>NaN</td>\n",
       "      <td>NaN</td>\n",
       "      <td>NaN</td>\n",
       "      <td>NaN</td>\n",
       "      <td>...</td>\n",
       "      <td>NaN</td>\n",
       "      <td>NaN</td>\n",
       "      <td>NaN</td>\n",
       "      <td>NaN</td>\n",
       "      <td>NaN</td>\n",
       "      <td>NaN</td>\n",
       "      <td>NaN</td>\n",
       "      <td>NaN</td>\n",
       "      <td>NaN</td>\n",
       "      <td>NaN</td>\n",
       "    </tr>\n",
       "    <tr>\n",
       "      <th>3</th>\n",
       "      <td>3</td>\n",
       "      <td>1980-01-04</td>\n",
       "      <td>NaN</td>\n",
       "      <td>NaN</td>\n",
       "      <td>NaN</td>\n",
       "      <td>NaN</td>\n",
       "      <td>NaN</td>\n",
       "      <td>NaN</td>\n",
       "      <td>NaN</td>\n",
       "      <td>NaN</td>\n",
       "      <td>...</td>\n",
       "      <td>NaN</td>\n",
       "      <td>NaN</td>\n",
       "      <td>NaN</td>\n",
       "      <td>NaN</td>\n",
       "      <td>NaN</td>\n",
       "      <td>NaN</td>\n",
       "      <td>NaN</td>\n",
       "      <td>NaN</td>\n",
       "      <td>NaN</td>\n",
       "      <td>NaN</td>\n",
       "    </tr>\n",
       "    <tr>\n",
       "      <th>4</th>\n",
       "      <td>4</td>\n",
       "      <td>1980-01-05</td>\n",
       "      <td>NaN</td>\n",
       "      <td>NaN</td>\n",
       "      <td>NaN</td>\n",
       "      <td>NaN</td>\n",
       "      <td>NaN</td>\n",
       "      <td>NaN</td>\n",
       "      <td>NaN</td>\n",
       "      <td>NaN</td>\n",
       "      <td>...</td>\n",
       "      <td>NaN</td>\n",
       "      <td>NaN</td>\n",
       "      <td>NaN</td>\n",
       "      <td>NaN</td>\n",
       "      <td>NaN</td>\n",
       "      <td>NaN</td>\n",
       "      <td>NaN</td>\n",
       "      <td>NaN</td>\n",
       "      <td>NaN</td>\n",
       "      <td>NaN</td>\n",
       "    </tr>\n",
       "  </tbody>\n",
       "</table>\n",
       "<p>5 rows × 350 columns</p>\n",
       "</div>"
      ],
      "text/plain": [
       "   Unnamed: 0        date  CEMDX  SDFIX  ICFCX  CGERX  HNSGX  ACLNX  MDDDX  \\\n",
       "0           0  1980-01-01    NaN    NaN    NaN    NaN    NaN    NaN    NaN   \n",
       "1           1  1980-01-02    NaN    NaN    NaN    NaN    NaN    NaN    NaN   \n",
       "2           2  1980-01-03    NaN    NaN    NaN    NaN    NaN    NaN    NaN   \n",
       "3           3  1980-01-04    NaN    NaN    NaN    NaN    NaN    NaN    NaN   \n",
       "4           4  1980-01-05    NaN    NaN    NaN    NaN    NaN    NaN    NaN   \n",
       "\n",
       "   IVHIX  ...    XSD  MHITX  URTCX  PRENX  RINTX  TFXIX  IPOSX  MINYX  PAZCX  \\\n",
       "0    NaN  ...    NaN    NaN    NaN    NaN    NaN    NaN    NaN    NaN    NaN   \n",
       "1    NaN  ...    NaN    NaN    NaN    NaN    NaN    NaN    NaN    NaN    NaN   \n",
       "2    NaN  ...    NaN    NaN    NaN    NaN    NaN    NaN    NaN    NaN    NaN   \n",
       "3    NaN  ...    NaN    NaN    NaN    NaN    NaN    NaN    NaN    NaN    NaN   \n",
       "4    NaN  ...    NaN    NaN    NaN    NaN    NaN    NaN    NaN    NaN    NaN   \n",
       "\n",
       "   PMNPX  \n",
       "0    NaN  \n",
       "1    NaN  \n",
       "2    NaN  \n",
       "3    NaN  \n",
       "4    NaN  \n",
       "\n",
       "[5 rows x 350 columns]"
      ]
     },
     "execution_count": 23,
     "metadata": {},
     "output_type": "execute_result"
    }
   ],
   "source": [
    "active_price.head()"
   ]
  },
  {
   "cell_type": "code",
   "execution_count": 24,
   "metadata": {},
   "outputs": [
    {
     "data": {
      "text/html": [
       "<div>\n",
       "<style scoped>\n",
       "    .dataframe tbody tr th:only-of-type {\n",
       "        vertical-align: middle;\n",
       "    }\n",
       "\n",
       "    .dataframe tbody tr th {\n",
       "        vertical-align: top;\n",
       "    }\n",
       "\n",
       "    .dataframe thead th {\n",
       "        text-align: right;\n",
       "    }\n",
       "</style>\n",
       "<table border=\"1\" class=\"dataframe\">\n",
       "  <thead>\n",
       "    <tr style=\"text-align: right;\">\n",
       "      <th></th>\n",
       "      <th>Unnamed: 0</th>\n",
       "      <th>date</th>\n",
       "      <th>USWGX</th>\n",
       "      <th>DXPS</th>\n",
       "      <th>IGV</th>\n",
       "      <th>CGCRX</th>\n",
       "      <th>NWUSX</th>\n",
       "      <th>FFGSX</th>\n",
       "      <th>MLPMX</th>\n",
       "      <th>ECHIX</th>\n",
       "      <th>...</th>\n",
       "      <th>GXSTX</th>\n",
       "      <th>COVWX</th>\n",
       "      <th>LTRDX</th>\n",
       "      <th>SPIBX</th>\n",
       "      <th>FBFFX</th>\n",
       "      <th>ACIGX</th>\n",
       "      <th>DWPP</th>\n",
       "      <th>ETSIX</th>\n",
       "      <th>SPXS</th>\n",
       "      <th>IYM</th>\n",
       "    </tr>\n",
       "  </thead>\n",
       "  <tbody>\n",
       "    <tr>\n",
       "      <th>0</th>\n",
       "      <td>0</td>\n",
       "      <td>1980-01-01</td>\n",
       "      <td>NaN</td>\n",
       "      <td>NaN</td>\n",
       "      <td>NaN</td>\n",
       "      <td>NaN</td>\n",
       "      <td>NaN</td>\n",
       "      <td>NaN</td>\n",
       "      <td>NaN</td>\n",
       "      <td>NaN</td>\n",
       "      <td>...</td>\n",
       "      <td>NaN</td>\n",
       "      <td>NaN</td>\n",
       "      <td>NaN</td>\n",
       "      <td>NaN</td>\n",
       "      <td>NaN</td>\n",
       "      <td>NaN</td>\n",
       "      <td>NaN</td>\n",
       "      <td>NaN</td>\n",
       "      <td>NaN</td>\n",
       "      <td>NaN</td>\n",
       "    </tr>\n",
       "    <tr>\n",
       "      <th>1</th>\n",
       "      <td>1</td>\n",
       "      <td>1980-01-02</td>\n",
       "      <td>NaN</td>\n",
       "      <td>NaN</td>\n",
       "      <td>NaN</td>\n",
       "      <td>NaN</td>\n",
       "      <td>NaN</td>\n",
       "      <td>NaN</td>\n",
       "      <td>NaN</td>\n",
       "      <td>NaN</td>\n",
       "      <td>...</td>\n",
       "      <td>NaN</td>\n",
       "      <td>NaN</td>\n",
       "      <td>NaN</td>\n",
       "      <td>NaN</td>\n",
       "      <td>NaN</td>\n",
       "      <td>NaN</td>\n",
       "      <td>NaN</td>\n",
       "      <td>NaN</td>\n",
       "      <td>NaN</td>\n",
       "      <td>NaN</td>\n",
       "    </tr>\n",
       "    <tr>\n",
       "      <th>2</th>\n",
       "      <td>2</td>\n",
       "      <td>1980-01-03</td>\n",
       "      <td>NaN</td>\n",
       "      <td>NaN</td>\n",
       "      <td>NaN</td>\n",
       "      <td>NaN</td>\n",
       "      <td>NaN</td>\n",
       "      <td>NaN</td>\n",
       "      <td>NaN</td>\n",
       "      <td>NaN</td>\n",
       "      <td>...</td>\n",
       "      <td>NaN</td>\n",
       "      <td>NaN</td>\n",
       "      <td>NaN</td>\n",
       "      <td>NaN</td>\n",
       "      <td>NaN</td>\n",
       "      <td>NaN</td>\n",
       "      <td>NaN</td>\n",
       "      <td>NaN</td>\n",
       "      <td>NaN</td>\n",
       "      <td>NaN</td>\n",
       "    </tr>\n",
       "    <tr>\n",
       "      <th>3</th>\n",
       "      <td>3</td>\n",
       "      <td>1980-01-04</td>\n",
       "      <td>NaN</td>\n",
       "      <td>NaN</td>\n",
       "      <td>NaN</td>\n",
       "      <td>NaN</td>\n",
       "      <td>NaN</td>\n",
       "      <td>NaN</td>\n",
       "      <td>NaN</td>\n",
       "      <td>NaN</td>\n",
       "      <td>...</td>\n",
       "      <td>NaN</td>\n",
       "      <td>NaN</td>\n",
       "      <td>NaN</td>\n",
       "      <td>NaN</td>\n",
       "      <td>NaN</td>\n",
       "      <td>NaN</td>\n",
       "      <td>NaN</td>\n",
       "      <td>NaN</td>\n",
       "      <td>NaN</td>\n",
       "      <td>NaN</td>\n",
       "    </tr>\n",
       "    <tr>\n",
       "      <th>4</th>\n",
       "      <td>4</td>\n",
       "      <td>1980-01-05</td>\n",
       "      <td>NaN</td>\n",
       "      <td>NaN</td>\n",
       "      <td>NaN</td>\n",
       "      <td>NaN</td>\n",
       "      <td>NaN</td>\n",
       "      <td>NaN</td>\n",
       "      <td>NaN</td>\n",
       "      <td>NaN</td>\n",
       "      <td>...</td>\n",
       "      <td>NaN</td>\n",
       "      <td>NaN</td>\n",
       "      <td>NaN</td>\n",
       "      <td>NaN</td>\n",
       "      <td>NaN</td>\n",
       "      <td>NaN</td>\n",
       "      <td>NaN</td>\n",
       "      <td>NaN</td>\n",
       "      <td>NaN</td>\n",
       "      <td>NaN</td>\n",
       "    </tr>\n",
       "  </tbody>\n",
       "</table>\n",
       "<p>5 rows × 350 columns</p>\n",
       "</div>"
      ],
      "text/plain": [
       "   Unnamed: 0        date  USWGX  DXPS  IGV  CGCRX  NWUSX  FFGSX  MLPMX  \\\n",
       "0           0  1980-01-01    NaN   NaN  NaN    NaN    NaN    NaN    NaN   \n",
       "1           1  1980-01-02    NaN   NaN  NaN    NaN    NaN    NaN    NaN   \n",
       "2           2  1980-01-03    NaN   NaN  NaN    NaN    NaN    NaN    NaN   \n",
       "3           3  1980-01-04    NaN   NaN  NaN    NaN    NaN    NaN    NaN   \n",
       "4           4  1980-01-05    NaN   NaN  NaN    NaN    NaN    NaN    NaN   \n",
       "\n",
       "   ECHIX ...   GXSTX  COVWX  LTRDX  SPIBX  FBFFX  ACIGX  DWPP  ETSIX  SPXS  \\\n",
       "0    NaN ...     NaN    NaN    NaN    NaN    NaN    NaN   NaN    NaN   NaN   \n",
       "1    NaN ...     NaN    NaN    NaN    NaN    NaN    NaN   NaN    NaN   NaN   \n",
       "2    NaN ...     NaN    NaN    NaN    NaN    NaN    NaN   NaN    NaN   NaN   \n",
       "3    NaN ...     NaN    NaN    NaN    NaN    NaN    NaN   NaN    NaN   NaN   \n",
       "4    NaN ...     NaN    NaN    NaN    NaN    NaN    NaN   NaN    NaN   NaN   \n",
       "\n",
       "   IYM  \n",
       "0  NaN  \n",
       "1  NaN  \n",
       "2  NaN  \n",
       "3  NaN  \n",
       "4  NaN  \n",
       "\n",
       "[5 rows x 350 columns]"
      ]
     },
     "execution_count": 24,
     "metadata": {},
     "output_type": "execute_result"
    },
    {
     "data": {
      "text/html": [
       "<div>\n",
       "<style scoped>\n",
       "    .dataframe tbody tr th:only-of-type {\n",
       "        vertical-align: middle;\n",
       "    }\n",
       "\n",
       "    .dataframe tbody tr th {\n",
       "        vertical-align: top;\n",
       "    }\n",
       "\n",
       "    .dataframe thead th {\n",
       "        text-align: right;\n",
       "    }\n",
       "</style>\n",
       "<table border=\"1\" class=\"dataframe\">\n",
       "  <thead>\n",
       "    <tr style=\"text-align: right;\">\n",
       "      <th></th>\n",
       "      <th>Unnamed: 0</th>\n",
       "      <th>date</th>\n",
       "      <th>USWGX</th>\n",
       "      <th>DXPS</th>\n",
       "      <th>IGV</th>\n",
       "      <th>CGCRX</th>\n",
       "      <th>NWUSX</th>\n",
       "      <th>FFGSX</th>\n",
       "      <th>MLPMX</th>\n",
       "      <th>ECHIX</th>\n",
       "      <th>...</th>\n",
       "      <th>GXSTX</th>\n",
       "      <th>COVWX</th>\n",
       "      <th>LTRDX</th>\n",
       "      <th>SPIBX</th>\n",
       "      <th>FBFFX</th>\n",
       "      <th>ACIGX</th>\n",
       "      <th>DWPP</th>\n",
       "      <th>ETSIX</th>\n",
       "      <th>SPXS</th>\n",
       "      <th>IYM</th>\n",
       "    </tr>\n",
       "  </thead>\n",
       "  <tbody>\n",
       "    <tr>\n",
       "      <th>0</th>\n",
       "      <td>0</td>\n",
       "      <td>1980-01-01</td>\n",
       "      <td>NaN</td>\n",
       "      <td>NaN</td>\n",
       "      <td>NaN</td>\n",
       "      <td>NaN</td>\n",
       "      <td>NaN</td>\n",
       "      <td>NaN</td>\n",
       "      <td>NaN</td>\n",
       "      <td>NaN</td>\n",
       "      <td>...</td>\n",
       "      <td>NaN</td>\n",
       "      <td>NaN</td>\n",
       "      <td>NaN</td>\n",
       "      <td>NaN</td>\n",
       "      <td>NaN</td>\n",
       "      <td>NaN</td>\n",
       "      <td>NaN</td>\n",
       "      <td>NaN</td>\n",
       "      <td>NaN</td>\n",
       "      <td>NaN</td>\n",
       "    </tr>\n",
       "    <tr>\n",
       "      <th>1</th>\n",
       "      <td>1</td>\n",
       "      <td>1980-01-02</td>\n",
       "      <td>NaN</td>\n",
       "      <td>NaN</td>\n",
       "      <td>NaN</td>\n",
       "      <td>NaN</td>\n",
       "      <td>NaN</td>\n",
       "      <td>NaN</td>\n",
       "      <td>NaN</td>\n",
       "      <td>NaN</td>\n",
       "      <td>...</td>\n",
       "      <td>NaN</td>\n",
       "      <td>NaN</td>\n",
       "      <td>NaN</td>\n",
       "      <td>NaN</td>\n",
       "      <td>NaN</td>\n",
       "      <td>NaN</td>\n",
       "      <td>NaN</td>\n",
       "      <td>NaN</td>\n",
       "      <td>NaN</td>\n",
       "      <td>NaN</td>\n",
       "    </tr>\n",
       "    <tr>\n",
       "      <th>2</th>\n",
       "      <td>2</td>\n",
       "      <td>1980-01-03</td>\n",
       "      <td>NaN</td>\n",
       "      <td>NaN</td>\n",
       "      <td>NaN</td>\n",
       "      <td>NaN</td>\n",
       "      <td>NaN</td>\n",
       "      <td>NaN</td>\n",
       "      <td>NaN</td>\n",
       "      <td>NaN</td>\n",
       "      <td>...</td>\n",
       "      <td>NaN</td>\n",
       "      <td>NaN</td>\n",
       "      <td>NaN</td>\n",
       "      <td>NaN</td>\n",
       "      <td>NaN</td>\n",
       "      <td>NaN</td>\n",
       "      <td>NaN</td>\n",
       "      <td>NaN</td>\n",
       "      <td>NaN</td>\n",
       "      <td>NaN</td>\n",
       "    </tr>\n",
       "    <tr>\n",
       "      <th>3</th>\n",
       "      <td>3</td>\n",
       "      <td>1980-01-04</td>\n",
       "      <td>NaN</td>\n",
       "      <td>NaN</td>\n",
       "      <td>NaN</td>\n",
       "      <td>NaN</td>\n",
       "      <td>NaN</td>\n",
       "      <td>NaN</td>\n",
       "      <td>NaN</td>\n",
       "      <td>NaN</td>\n",
       "      <td>...</td>\n",
       "      <td>NaN</td>\n",
       "      <td>NaN</td>\n",
       "      <td>NaN</td>\n",
       "      <td>NaN</td>\n",
       "      <td>NaN</td>\n",
       "      <td>NaN</td>\n",
       "      <td>NaN</td>\n",
       "      <td>NaN</td>\n",
       "      <td>NaN</td>\n",
       "      <td>NaN</td>\n",
       "    </tr>\n",
       "    <tr>\n",
       "      <th>4</th>\n",
       "      <td>4</td>\n",
       "      <td>1980-01-05</td>\n",
       "      <td>NaN</td>\n",
       "      <td>NaN</td>\n",
       "      <td>NaN</td>\n",
       "      <td>NaN</td>\n",
       "      <td>NaN</td>\n",
       "      <td>NaN</td>\n",
       "      <td>NaN</td>\n",
       "      <td>NaN</td>\n",
       "      <td>...</td>\n",
       "      <td>NaN</td>\n",
       "      <td>NaN</td>\n",
       "      <td>NaN</td>\n",
       "      <td>NaN</td>\n",
       "      <td>NaN</td>\n",
       "      <td>NaN</td>\n",
       "      <td>NaN</td>\n",
       "      <td>NaN</td>\n",
       "      <td>NaN</td>\n",
       "      <td>NaN</td>\n",
       "    </tr>\n",
       "  </tbody>\n",
       "</table>\n",
       "<p>5 rows × 350 columns</p>\n",
       "</div>"
      ],
      "text/plain": [
       "   Unnamed: 0        date  USWGX  DXPS  IGV  CGCRX  NWUSX  FFGSX  MLPMX  \\\n",
       "0           0  1980-01-01    NaN   NaN  NaN    NaN    NaN    NaN    NaN   \n",
       "1           1  1980-01-02    NaN   NaN  NaN    NaN    NaN    NaN    NaN   \n",
       "2           2  1980-01-03    NaN   NaN  NaN    NaN    NaN    NaN    NaN   \n",
       "3           3  1980-01-04    NaN   NaN  NaN    NaN    NaN    NaN    NaN   \n",
       "4           4  1980-01-05    NaN   NaN  NaN    NaN    NaN    NaN    NaN   \n",
       "\n",
       "   ECHIX ...   GXSTX  COVWX  LTRDX  SPIBX  FBFFX  ACIGX  DWPP  ETSIX  SPXS  \\\n",
       "0    NaN ...     NaN    NaN    NaN    NaN    NaN    NaN   NaN    NaN   NaN   \n",
       "1    NaN ...     NaN    NaN    NaN    NaN    NaN    NaN   NaN    NaN   NaN   \n",
       "2    NaN ...     NaN    NaN    NaN    NaN    NaN    NaN   NaN    NaN   NaN   \n",
       "3    NaN ...     NaN    NaN    NaN    NaN    NaN    NaN   NaN    NaN   NaN   \n",
       "4    NaN ...     NaN    NaN    NaN    NaN    NaN    NaN   NaN    NaN   NaN   \n",
       "\n",
       "   IYM  \n",
       "0  NaN  \n",
       "1  NaN  \n",
       "2  NaN  \n",
       "3  NaN  \n",
       "4  NaN  \n",
       "\n",
       "[5 rows x 350 columns]"
      ]
     },
     "execution_count": 24,
     "metadata": {},
     "output_type": "execute_result"
    }
   ],
   "source": [
    "passive_price.head()"
   ]
  },
  {
   "cell_type": "code",
   "execution_count": 25,
   "metadata": {},
   "outputs": [],
   "source": [
    "active_price = active_price.iloc[:, 1:]\n",
    "passive_price = passive_price.iloc[:, 1:]"
   ]
  },
  {
   "cell_type": "code",
   "execution_count": 26,
   "metadata": {},
   "outputs": [],
   "source": [
    "active_price.set_index('date', inplace= True)\n",
    "passive_price.set_index('date', inplace= True)"
   ]
  },
  {
   "cell_type": "code",
   "execution_count": 27,
   "metadata": {},
   "outputs": [],
   "source": [
    "active_price.dropna(thresh = 1, inplace= True)\n",
    "passive_price.dropna(thresh = 1, inplace= True)"
   ]
  },
  {
   "cell_type": "code",
   "execution_count": 28,
   "metadata": {},
   "outputs": [],
   "source": [
    "sp_data = sp_data.set_index('date')"
   ]
  },
  {
   "cell_type": "code",
   "execution_count": null,
   "metadata": {},
   "outputs": [],
   "source": []
  },
  {
   "cell_type": "code",
   "execution_count": null,
   "metadata": {},
   "outputs": [],
   "source": []
  },
  {
   "cell_type": "markdown",
   "metadata": {},
   "source": [
    "# DATA"
   ]
  },
  {
   "cell_type": "code",
   "execution_count": 29,
   "metadata": {},
   "outputs": [
    {
     "data": {
      "text/html": [
       "<div>\n",
       "<style scoped>\n",
       "    .dataframe tbody tr th:only-of-type {\n",
       "        vertical-align: middle;\n",
       "    }\n",
       "\n",
       "    .dataframe tbody tr th {\n",
       "        vertical-align: top;\n",
       "    }\n",
       "\n",
       "    .dataframe thead th {\n",
       "        text-align: right;\n",
       "    }\n",
       "</style>\n",
       "<table border=\"1\" class=\"dataframe\">\n",
       "  <thead>\n",
       "    <tr style=\"text-align: right;\">\n",
       "      <th></th>\n",
       "      <th>Expense Ratio</th>\n",
       "      <th>Fund Name</th>\n",
       "      <th>Fund Ticker</th>\n",
       "      <th>Management Fee</th>\n",
       "      <th>Open to Investors</th>\n",
       "      <th>Turnover Ratio</th>\n",
       "      <th>Active or Passive</th>\n",
       "    </tr>\n",
       "  </thead>\n",
       "  <tbody>\n",
       "    <tr>\n",
       "      <th>2</th>\n",
       "      <td>0.0042</td>\n",
       "      <td>AARP Income Trust: AARP Bond Fund for Income</td>\n",
       "      <td>AABIX</td>\n",
       "      <td>0.084</td>\n",
       "      <td>Y</td>\n",
       "      <td>0.64</td>\n",
       "      <td>active</td>\n",
       "    </tr>\n",
       "    <tr>\n",
       "      <th>12</th>\n",
       "      <td>0.0200</td>\n",
       "      <td>ABN AMRO Funds: International Fixed Income Fun...</td>\n",
       "      <td>AAIFX</td>\n",
       "      <td>1.175</td>\n",
       "      <td>Y</td>\n",
       "      <td>0.40</td>\n",
       "      <td>active</td>\n",
       "    </tr>\n",
       "    <tr>\n",
       "      <th>15</th>\n",
       "      <td>0.0175</td>\n",
       "      <td>AARP Growth Trust: AARP International Stock Fund</td>\n",
       "      <td>AAISX</td>\n",
       "      <td>0.228</td>\n",
       "      <td>Y</td>\n",
       "      <td>2.14</td>\n",
       "      <td>active</td>\n",
       "    </tr>\n",
       "  </tbody>\n",
       "</table>\n",
       "</div>"
      ],
      "text/plain": [
       "    Expense Ratio                                          Fund Name  \\\n",
       "2          0.0042       AARP Income Trust: AARP Bond Fund for Income   \n",
       "12         0.0200  ABN AMRO Funds: International Fixed Income Fun...   \n",
       "15         0.0175   AARP Growth Trust: AARP International Stock Fund   \n",
       "\n",
       "   Fund Ticker  Management Fee Open to Investors  Turnover Ratio  \\\n",
       "2        AABIX           0.084                 Y            0.64   \n",
       "12       AAIFX           1.175                 Y            0.40   \n",
       "15       AAISX           0.228                 Y            2.14   \n",
       "\n",
       "   Active or Passive  \n",
       "2             active  \n",
       "12            active  \n",
       "15            active  "
      ]
     },
     "execution_count": 29,
     "metadata": {},
     "output_type": "execute_result"
    },
    {
     "data": {
      "text/html": [
       "<div>\n",
       "<style scoped>\n",
       "    .dataframe tbody tr th:only-of-type {\n",
       "        vertical-align: middle;\n",
       "    }\n",
       "\n",
       "    .dataframe tbody tr th {\n",
       "        vertical-align: top;\n",
       "    }\n",
       "\n",
       "    .dataframe thead th {\n",
       "        text-align: right;\n",
       "    }\n",
       "</style>\n",
       "<table border=\"1\" class=\"dataframe\">\n",
       "  <thead>\n",
       "    <tr style=\"text-align: right;\">\n",
       "      <th></th>\n",
       "      <th>Expense Ratio</th>\n",
       "      <th>Fund Name</th>\n",
       "      <th>Fund Ticker</th>\n",
       "      <th>Management Fee</th>\n",
       "      <th>Open to Investors</th>\n",
       "      <th>Turnover Ratio</th>\n",
       "      <th>Active or Passive</th>\n",
       "    </tr>\n",
       "  </thead>\n",
       "  <tbody>\n",
       "    <tr>\n",
       "      <th>2</th>\n",
       "      <td>0.0042</td>\n",
       "      <td>AARP Income Trust: AARP Bond Fund for Income</td>\n",
       "      <td>AABIX</td>\n",
       "      <td>0.084</td>\n",
       "      <td>Y</td>\n",
       "      <td>0.64</td>\n",
       "      <td>active</td>\n",
       "    </tr>\n",
       "    <tr>\n",
       "      <th>12</th>\n",
       "      <td>0.0200</td>\n",
       "      <td>ABN AMRO Funds: International Fixed Income Fun...</td>\n",
       "      <td>AAIFX</td>\n",
       "      <td>1.175</td>\n",
       "      <td>Y</td>\n",
       "      <td>0.40</td>\n",
       "      <td>active</td>\n",
       "    </tr>\n",
       "    <tr>\n",
       "      <th>15</th>\n",
       "      <td>0.0175</td>\n",
       "      <td>AARP Growth Trust: AARP International Stock Fund</td>\n",
       "      <td>AAISX</td>\n",
       "      <td>0.228</td>\n",
       "      <td>Y</td>\n",
       "      <td>2.14</td>\n",
       "      <td>active</td>\n",
       "    </tr>\n",
       "  </tbody>\n",
       "</table>\n",
       "</div>"
      ],
      "text/plain": [
       "    Expense Ratio                                          Fund Name  \\\n",
       "2          0.0042       AARP Income Trust: AARP Bond Fund for Income   \n",
       "12         0.0200  ABN AMRO Funds: International Fixed Income Fun...   \n",
       "15         0.0175   AARP Growth Trust: AARP International Stock Fund   \n",
       "\n",
       "   Fund Ticker  Management Fee Open to Investors  Turnover Ratio  \\\n",
       "2        AABIX           0.084                 Y            0.64   \n",
       "12       AAIFX           1.175                 Y            0.40   \n",
       "15       AAISX           0.228                 Y            2.14   \n",
       "\n",
       "   Active or Passive  \n",
       "2             active  \n",
       "12            active  \n",
       "15            active  "
      ]
     },
     "execution_count": 29,
     "metadata": {},
     "output_type": "execute_result"
    }
   ],
   "source": [
    "df.head(3)"
   ]
  },
  {
   "cell_type": "code",
   "execution_count": 30,
   "metadata": {},
   "outputs": [
    {
     "data": {
      "text/html": [
       "<div>\n",
       "<style scoped>\n",
       "    .dataframe tbody tr th:only-of-type {\n",
       "        vertical-align: middle;\n",
       "    }\n",
       "\n",
       "    .dataframe tbody tr th {\n",
       "        vertical-align: top;\n",
       "    }\n",
       "\n",
       "    .dataframe thead th {\n",
       "        text-align: right;\n",
       "    }\n",
       "</style>\n",
       "<table border=\"1\" class=\"dataframe\">\n",
       "  <thead>\n",
       "    <tr style=\"text-align: right;\">\n",
       "      <th></th>\n",
       "      <th>Expense Ratio</th>\n",
       "      <th>Fund Name</th>\n",
       "      <th>Fund Ticker</th>\n",
       "      <th>Management Fee</th>\n",
       "      <th>Open to Investors</th>\n",
       "      <th>Turnover Ratio</th>\n",
       "      <th>Active or Passive</th>\n",
       "    </tr>\n",
       "  </thead>\n",
       "  <tbody>\n",
       "    <tr>\n",
       "      <th>2</th>\n",
       "      <td>0.0042</td>\n",
       "      <td>AARP Income Trust: AARP Bond Fund for Income</td>\n",
       "      <td>AABIX</td>\n",
       "      <td>0.084</td>\n",
       "      <td>Y</td>\n",
       "      <td>0.64</td>\n",
       "      <td>active</td>\n",
       "    </tr>\n",
       "    <tr>\n",
       "      <th>12</th>\n",
       "      <td>0.0200</td>\n",
       "      <td>ABN AMRO Funds: International Fixed Income Fun...</td>\n",
       "      <td>AAIFX</td>\n",
       "      <td>1.175</td>\n",
       "      <td>Y</td>\n",
       "      <td>0.40</td>\n",
       "      <td>active</td>\n",
       "    </tr>\n",
       "    <tr>\n",
       "      <th>15</th>\n",
       "      <td>0.0175</td>\n",
       "      <td>AARP Growth Trust: AARP International Stock Fund</td>\n",
       "      <td>AAISX</td>\n",
       "      <td>0.228</td>\n",
       "      <td>Y</td>\n",
       "      <td>2.14</td>\n",
       "      <td>active</td>\n",
       "    </tr>\n",
       "  </tbody>\n",
       "</table>\n",
       "</div>"
      ],
      "text/plain": [
       "    Expense Ratio                                          Fund Name  \\\n",
       "2          0.0042       AARP Income Trust: AARP Bond Fund for Income   \n",
       "12         0.0200  ABN AMRO Funds: International Fixed Income Fun...   \n",
       "15         0.0175   AARP Growth Trust: AARP International Stock Fund   \n",
       "\n",
       "   Fund Ticker  Management Fee Open to Investors  Turnover Ratio  \\\n",
       "2        AABIX           0.084                 Y            0.64   \n",
       "12       AAIFX           1.175                 Y            0.40   \n",
       "15       AAISX           0.228                 Y            2.14   \n",
       "\n",
       "   Active or Passive  \n",
       "2             active  \n",
       "12            active  \n",
       "15            active  "
      ]
     },
     "execution_count": 30,
     "metadata": {},
     "output_type": "execute_result"
    },
    {
     "data": {
      "text/html": [
       "<div>\n",
       "<style scoped>\n",
       "    .dataframe tbody tr th:only-of-type {\n",
       "        vertical-align: middle;\n",
       "    }\n",
       "\n",
       "    .dataframe tbody tr th {\n",
       "        vertical-align: top;\n",
       "    }\n",
       "\n",
       "    .dataframe thead th {\n",
       "        text-align: right;\n",
       "    }\n",
       "</style>\n",
       "<table border=\"1\" class=\"dataframe\">\n",
       "  <thead>\n",
       "    <tr style=\"text-align: right;\">\n",
       "      <th></th>\n",
       "      <th>Expense Ratio</th>\n",
       "      <th>Fund Name</th>\n",
       "      <th>Fund Ticker</th>\n",
       "      <th>Management Fee</th>\n",
       "      <th>Open to Investors</th>\n",
       "      <th>Turnover Ratio</th>\n",
       "      <th>Active or Passive</th>\n",
       "    </tr>\n",
       "  </thead>\n",
       "  <tbody>\n",
       "    <tr>\n",
       "      <th>2</th>\n",
       "      <td>0.0042</td>\n",
       "      <td>AARP Income Trust: AARP Bond Fund for Income</td>\n",
       "      <td>AABIX</td>\n",
       "      <td>0.084</td>\n",
       "      <td>Y</td>\n",
       "      <td>0.64</td>\n",
       "      <td>active</td>\n",
       "    </tr>\n",
       "    <tr>\n",
       "      <th>12</th>\n",
       "      <td>0.0200</td>\n",
       "      <td>ABN AMRO Funds: International Fixed Income Fun...</td>\n",
       "      <td>AAIFX</td>\n",
       "      <td>1.175</td>\n",
       "      <td>Y</td>\n",
       "      <td>0.40</td>\n",
       "      <td>active</td>\n",
       "    </tr>\n",
       "    <tr>\n",
       "      <th>15</th>\n",
       "      <td>0.0175</td>\n",
       "      <td>AARP Growth Trust: AARP International Stock Fund</td>\n",
       "      <td>AAISX</td>\n",
       "      <td>0.228</td>\n",
       "      <td>Y</td>\n",
       "      <td>2.14</td>\n",
       "      <td>active</td>\n",
       "    </tr>\n",
       "  </tbody>\n",
       "</table>\n",
       "</div>"
      ],
      "text/plain": [
       "    Expense Ratio                                          Fund Name  \\\n",
       "2          0.0042       AARP Income Trust: AARP Bond Fund for Income   \n",
       "12         0.0200  ABN AMRO Funds: International Fixed Income Fun...   \n",
       "15         0.0175   AARP Growth Trust: AARP International Stock Fund   \n",
       "\n",
       "   Fund Ticker  Management Fee Open to Investors  Turnover Ratio  \\\n",
       "2        AABIX           0.084                 Y            0.64   \n",
       "12       AAIFX           1.175                 Y            0.40   \n",
       "15       AAISX           0.228                 Y            2.14   \n",
       "\n",
       "   Active or Passive  \n",
       "2             active  \n",
       "12            active  \n",
       "15            active  "
      ]
     },
     "execution_count": 30,
     "metadata": {},
     "output_type": "execute_result"
    }
   ],
   "source": [
    "df_active.head(3)"
   ]
  },
  {
   "cell_type": "code",
   "execution_count": 31,
   "metadata": {},
   "outputs": [
    {
     "data": {
      "text/html": [
       "<div>\n",
       "<style scoped>\n",
       "    .dataframe tbody tr th:only-of-type {\n",
       "        vertical-align: middle;\n",
       "    }\n",
       "\n",
       "    .dataframe tbody tr th {\n",
       "        vertical-align: top;\n",
       "    }\n",
       "\n",
       "    .dataframe thead th {\n",
       "        text-align: right;\n",
       "    }\n",
       "</style>\n",
       "<table border=\"1\" class=\"dataframe\">\n",
       "  <thead>\n",
       "    <tr style=\"text-align: right;\">\n",
       "      <th></th>\n",
       "      <th>Expense Ratio</th>\n",
       "      <th>Fund Name</th>\n",
       "      <th>Fund Ticker</th>\n",
       "      <th>Management Fee</th>\n",
       "      <th>Open to Investors</th>\n",
       "      <th>Turnover Ratio</th>\n",
       "      <th>Active or Passive</th>\n",
       "    </tr>\n",
       "  </thead>\n",
       "  <tbody>\n",
       "    <tr>\n",
       "      <th>416</th>\n",
       "      <td>0.0067</td>\n",
       "      <td>AARP Tax Free Income Trust: AARP Insured Tax F...</td>\n",
       "      <td>AITGX</td>\n",
       "      <td>0.470</td>\n",
       "      <td>Y</td>\n",
       "      <td>0.08</td>\n",
       "      <td>passive</td>\n",
       "    </tr>\n",
       "    <tr>\n",
       "      <th>551</th>\n",
       "      <td>0.0220</td>\n",
       "      <td>Anchor International Bond Trust</td>\n",
       "      <td>ANITX</td>\n",
       "      <td>0.749</td>\n",
       "      <td>Y</td>\n",
       "      <td>-99.00</td>\n",
       "      <td>passive</td>\n",
       "    </tr>\n",
       "    <tr>\n",
       "      <th>559</th>\n",
       "      <td>0.0409</td>\n",
       "      <td>Anchor Resource &amp; Commodity Trust</td>\n",
       "      <td>ANRCX</td>\n",
       "      <td>0.342</td>\n",
       "      <td>Y</td>\n",
       "      <td>0.02</td>\n",
       "      <td>passive</td>\n",
       "    </tr>\n",
       "  </tbody>\n",
       "</table>\n",
       "</div>"
      ],
      "text/plain": [
       "     Expense Ratio                                          Fund Name  \\\n",
       "416         0.0067  AARP Tax Free Income Trust: AARP Insured Tax F...   \n",
       "551         0.0220                    Anchor International Bond Trust   \n",
       "559         0.0409                  Anchor Resource & Commodity Trust   \n",
       "\n",
       "    Fund Ticker  Management Fee Open to Investors  Turnover Ratio  \\\n",
       "416       AITGX           0.470                 Y            0.08   \n",
       "551       ANITX           0.749                 Y          -99.00   \n",
       "559       ANRCX           0.342                 Y            0.02   \n",
       "\n",
       "    Active or Passive  \n",
       "416           passive  \n",
       "551           passive  \n",
       "559           passive  "
      ]
     },
     "execution_count": 31,
     "metadata": {},
     "output_type": "execute_result"
    },
    {
     "data": {
      "text/html": [
       "<div>\n",
       "<style scoped>\n",
       "    .dataframe tbody tr th:only-of-type {\n",
       "        vertical-align: middle;\n",
       "    }\n",
       "\n",
       "    .dataframe tbody tr th {\n",
       "        vertical-align: top;\n",
       "    }\n",
       "\n",
       "    .dataframe thead th {\n",
       "        text-align: right;\n",
       "    }\n",
       "</style>\n",
       "<table border=\"1\" class=\"dataframe\">\n",
       "  <thead>\n",
       "    <tr style=\"text-align: right;\">\n",
       "      <th></th>\n",
       "      <th>Expense Ratio</th>\n",
       "      <th>Fund Name</th>\n",
       "      <th>Fund Ticker</th>\n",
       "      <th>Management Fee</th>\n",
       "      <th>Open to Investors</th>\n",
       "      <th>Turnover Ratio</th>\n",
       "      <th>Active or Passive</th>\n",
       "    </tr>\n",
       "  </thead>\n",
       "  <tbody>\n",
       "    <tr>\n",
       "      <th>416</th>\n",
       "      <td>0.0067</td>\n",
       "      <td>AARP Tax Free Income Trust: AARP Insured Tax F...</td>\n",
       "      <td>AITGX</td>\n",
       "      <td>0.470</td>\n",
       "      <td>Y</td>\n",
       "      <td>0.08</td>\n",
       "      <td>passive</td>\n",
       "    </tr>\n",
       "    <tr>\n",
       "      <th>551</th>\n",
       "      <td>0.0220</td>\n",
       "      <td>Anchor International Bond Trust</td>\n",
       "      <td>ANITX</td>\n",
       "      <td>0.749</td>\n",
       "      <td>Y</td>\n",
       "      <td>-99.00</td>\n",
       "      <td>passive</td>\n",
       "    </tr>\n",
       "    <tr>\n",
       "      <th>559</th>\n",
       "      <td>0.0409</td>\n",
       "      <td>Anchor Resource &amp; Commodity Trust</td>\n",
       "      <td>ANRCX</td>\n",
       "      <td>0.342</td>\n",
       "      <td>Y</td>\n",
       "      <td>0.02</td>\n",
       "      <td>passive</td>\n",
       "    </tr>\n",
       "  </tbody>\n",
       "</table>\n",
       "</div>"
      ],
      "text/plain": [
       "     Expense Ratio                                          Fund Name  \\\n",
       "416         0.0067  AARP Tax Free Income Trust: AARP Insured Tax F...   \n",
       "551         0.0220                    Anchor International Bond Trust   \n",
       "559         0.0409                  Anchor Resource & Commodity Trust   \n",
       "\n",
       "    Fund Ticker  Management Fee Open to Investors  Turnover Ratio  \\\n",
       "416       AITGX           0.470                 Y            0.08   \n",
       "551       ANITX           0.749                 Y          -99.00   \n",
       "559       ANRCX           0.342                 Y            0.02   \n",
       "\n",
       "    Active or Passive  \n",
       "416           passive  \n",
       "551           passive  \n",
       "559           passive  "
      ]
     },
     "execution_count": 31,
     "metadata": {},
     "output_type": "execute_result"
    }
   ],
   "source": [
    "df_passive.head(3)"
   ]
  },
  {
   "cell_type": "code",
   "execution_count": 32,
   "metadata": {},
   "outputs": [
    {
     "data": {
      "text/html": [
       "<div>\n",
       "<style scoped>\n",
       "    .dataframe tbody tr th:only-of-type {\n",
       "        vertical-align: middle;\n",
       "    }\n",
       "\n",
       "    .dataframe tbody tr th {\n",
       "        vertical-align: top;\n",
       "    }\n",
       "\n",
       "    .dataframe thead th {\n",
       "        text-align: right;\n",
       "    }\n",
       "</style>\n",
       "<table border=\"1\" class=\"dataframe\">\n",
       "  <thead>\n",
       "    <tr style=\"text-align: right;\">\n",
       "      <th></th>\n",
       "      <th>adjclose</th>\n",
       "    </tr>\n",
       "    <tr>\n",
       "      <th>date</th>\n",
       "      <th></th>\n",
       "    </tr>\n",
       "  </thead>\n",
       "  <tbody>\n",
       "    <tr>\n",
       "      <th>1988-01-04</th>\n",
       "      <td>255.940002</td>\n",
       "    </tr>\n",
       "    <tr>\n",
       "      <th>1988-01-05</th>\n",
       "      <td>258.630005</td>\n",
       "    </tr>\n",
       "    <tr>\n",
       "      <th>1988-01-06</th>\n",
       "      <td>258.890015</td>\n",
       "    </tr>\n",
       "  </tbody>\n",
       "</table>\n",
       "</div>"
      ],
      "text/plain": [
       "              adjclose\n",
       "date                  \n",
       "1988-01-04  255.940002\n",
       "1988-01-05  258.630005\n",
       "1988-01-06  258.890015"
      ]
     },
     "execution_count": 32,
     "metadata": {},
     "output_type": "execute_result"
    },
    {
     "data": {
      "text/html": [
       "<div>\n",
       "<style scoped>\n",
       "    .dataframe tbody tr th:only-of-type {\n",
       "        vertical-align: middle;\n",
       "    }\n",
       "\n",
       "    .dataframe tbody tr th {\n",
       "        vertical-align: top;\n",
       "    }\n",
       "\n",
       "    .dataframe thead th {\n",
       "        text-align: right;\n",
       "    }\n",
       "</style>\n",
       "<table border=\"1\" class=\"dataframe\">\n",
       "  <thead>\n",
       "    <tr style=\"text-align: right;\">\n",
       "      <th></th>\n",
       "      <th>adjclose</th>\n",
       "    </tr>\n",
       "    <tr>\n",
       "      <th>date</th>\n",
       "      <th></th>\n",
       "    </tr>\n",
       "  </thead>\n",
       "  <tbody>\n",
       "    <tr>\n",
       "      <th>1988-01-04</th>\n",
       "      <td>255.940002</td>\n",
       "    </tr>\n",
       "    <tr>\n",
       "      <th>1988-01-05</th>\n",
       "      <td>258.630005</td>\n",
       "    </tr>\n",
       "    <tr>\n",
       "      <th>1988-01-06</th>\n",
       "      <td>258.890015</td>\n",
       "    </tr>\n",
       "  </tbody>\n",
       "</table>\n",
       "</div>"
      ],
      "text/plain": [
       "              adjclose\n",
       "date                  \n",
       "1988-01-04  255.940002\n",
       "1988-01-05  258.630005\n",
       "1988-01-06  258.890015"
      ]
     },
     "execution_count": 32,
     "metadata": {},
     "output_type": "execute_result"
    }
   ],
   "source": [
    "sp_data.head(3)"
   ]
  },
  {
   "cell_type": "code",
   "execution_count": 33,
   "metadata": {},
   "outputs": [
    {
     "data": {
      "text/html": [
       "<div>\n",
       "<style scoped>\n",
       "    .dataframe tbody tr th:only-of-type {\n",
       "        vertical-align: middle;\n",
       "    }\n",
       "\n",
       "    .dataframe tbody tr th {\n",
       "        vertical-align: top;\n",
       "    }\n",
       "\n",
       "    .dataframe thead th {\n",
       "        text-align: right;\n",
       "    }\n",
       "</style>\n",
       "<table border=\"1\" class=\"dataframe\">\n",
       "  <thead>\n",
       "    <tr style=\"text-align: right;\">\n",
       "      <th></th>\n",
       "      <th>CEMDX</th>\n",
       "      <th>SDFIX</th>\n",
       "      <th>ICFCX</th>\n",
       "      <th>CGERX</th>\n",
       "      <th>HNSGX</th>\n",
       "      <th>ACLNX</th>\n",
       "      <th>MDDDX</th>\n",
       "      <th>IVHIX</th>\n",
       "      <th>MGCIX</th>\n",
       "      <th>ILLLX</th>\n",
       "      <th>...</th>\n",
       "      <th>XSD</th>\n",
       "      <th>MHITX</th>\n",
       "      <th>URTCX</th>\n",
       "      <th>PRENX</th>\n",
       "      <th>RINTX</th>\n",
       "      <th>TFXIX</th>\n",
       "      <th>IPOSX</th>\n",
       "      <th>MINYX</th>\n",
       "      <th>PAZCX</th>\n",
       "      <th>PMNPX</th>\n",
       "    </tr>\n",
       "    <tr>\n",
       "      <th>date</th>\n",
       "      <th></th>\n",
       "      <th></th>\n",
       "      <th></th>\n",
       "      <th></th>\n",
       "      <th></th>\n",
       "      <th></th>\n",
       "      <th></th>\n",
       "      <th></th>\n",
       "      <th></th>\n",
       "      <th></th>\n",
       "      <th></th>\n",
       "      <th></th>\n",
       "      <th></th>\n",
       "      <th></th>\n",
       "      <th></th>\n",
       "      <th></th>\n",
       "      <th></th>\n",
       "      <th></th>\n",
       "      <th></th>\n",
       "      <th></th>\n",
       "      <th></th>\n",
       "    </tr>\n",
       "  </thead>\n",
       "  <tbody>\n",
       "    <tr>\n",
       "      <th>1988-01-04</th>\n",
       "      <td>NaN</td>\n",
       "      <td>NaN</td>\n",
       "      <td>NaN</td>\n",
       "      <td>NaN</td>\n",
       "      <td>NaN</td>\n",
       "      <td>NaN</td>\n",
       "      <td>NaN</td>\n",
       "      <td>NaN</td>\n",
       "      <td>NaN</td>\n",
       "      <td>NaN</td>\n",
       "      <td>...</td>\n",
       "      <td>NaN</td>\n",
       "      <td>6.02</td>\n",
       "      <td>NaN</td>\n",
       "      <td>NaN</td>\n",
       "      <td>NaN</td>\n",
       "      <td>NaN</td>\n",
       "      <td>NaN</td>\n",
       "      <td>NaN</td>\n",
       "      <td>NaN</td>\n",
       "      <td>NaN</td>\n",
       "    </tr>\n",
       "    <tr>\n",
       "      <th>1988-01-05</th>\n",
       "      <td>NaN</td>\n",
       "      <td>NaN</td>\n",
       "      <td>NaN</td>\n",
       "      <td>NaN</td>\n",
       "      <td>NaN</td>\n",
       "      <td>NaN</td>\n",
       "      <td>NaN</td>\n",
       "      <td>NaN</td>\n",
       "      <td>NaN</td>\n",
       "      <td>NaN</td>\n",
       "      <td>...</td>\n",
       "      <td>NaN</td>\n",
       "      <td>6.03</td>\n",
       "      <td>NaN</td>\n",
       "      <td>NaN</td>\n",
       "      <td>NaN</td>\n",
       "      <td>NaN</td>\n",
       "      <td>NaN</td>\n",
       "      <td>NaN</td>\n",
       "      <td>NaN</td>\n",
       "      <td>NaN</td>\n",
       "    </tr>\n",
       "    <tr>\n",
       "      <th>1988-01-06</th>\n",
       "      <td>NaN</td>\n",
       "      <td>NaN</td>\n",
       "      <td>NaN</td>\n",
       "      <td>NaN</td>\n",
       "      <td>NaN</td>\n",
       "      <td>NaN</td>\n",
       "      <td>NaN</td>\n",
       "      <td>NaN</td>\n",
       "      <td>NaN</td>\n",
       "      <td>NaN</td>\n",
       "      <td>...</td>\n",
       "      <td>NaN</td>\n",
       "      <td>6.03</td>\n",
       "      <td>NaN</td>\n",
       "      <td>NaN</td>\n",
       "      <td>NaN</td>\n",
       "      <td>NaN</td>\n",
       "      <td>NaN</td>\n",
       "      <td>NaN</td>\n",
       "      <td>NaN</td>\n",
       "      <td>NaN</td>\n",
       "    </tr>\n",
       "  </tbody>\n",
       "</table>\n",
       "<p>3 rows × 348 columns</p>\n",
       "</div>"
      ],
      "text/plain": [
       "            CEMDX  SDFIX  ICFCX  CGERX  HNSGX  ACLNX  MDDDX  IVHIX  MGCIX  \\\n",
       "date                                                                        \n",
       "1988-01-04    NaN    NaN    NaN    NaN    NaN    NaN    NaN    NaN    NaN   \n",
       "1988-01-05    NaN    NaN    NaN    NaN    NaN    NaN    NaN    NaN    NaN   \n",
       "1988-01-06    NaN    NaN    NaN    NaN    NaN    NaN    NaN    NaN    NaN   \n",
       "\n",
       "            ILLLX  ...    XSD  MHITX  URTCX  PRENX  RINTX  TFXIX  IPOSX  \\\n",
       "date               ...                                                    \n",
       "1988-01-04    NaN  ...    NaN   6.02    NaN    NaN    NaN    NaN    NaN   \n",
       "1988-01-05    NaN  ...    NaN   6.03    NaN    NaN    NaN    NaN    NaN   \n",
       "1988-01-06    NaN  ...    NaN   6.03    NaN    NaN    NaN    NaN    NaN   \n",
       "\n",
       "            MINYX  PAZCX  PMNPX  \n",
       "date                             \n",
       "1988-01-04    NaN    NaN    NaN  \n",
       "1988-01-05    NaN    NaN    NaN  \n",
       "1988-01-06    NaN    NaN    NaN  \n",
       "\n",
       "[3 rows x 348 columns]"
      ]
     },
     "execution_count": 33,
     "metadata": {},
     "output_type": "execute_result"
    },
    {
     "data": {
      "text/html": [
       "<div>\n",
       "<style scoped>\n",
       "    .dataframe tbody tr th:only-of-type {\n",
       "        vertical-align: middle;\n",
       "    }\n",
       "\n",
       "    .dataframe tbody tr th {\n",
       "        vertical-align: top;\n",
       "    }\n",
       "\n",
       "    .dataframe thead th {\n",
       "        text-align: right;\n",
       "    }\n",
       "</style>\n",
       "<table border=\"1\" class=\"dataframe\">\n",
       "  <thead>\n",
       "    <tr style=\"text-align: right;\">\n",
       "      <th></th>\n",
       "      <th>CEMDX</th>\n",
       "      <th>SDFIX</th>\n",
       "      <th>ICFCX</th>\n",
       "      <th>CGERX</th>\n",
       "      <th>HNSGX</th>\n",
       "      <th>ACLNX</th>\n",
       "      <th>MDDDX</th>\n",
       "      <th>IVHIX</th>\n",
       "      <th>MGCIX</th>\n",
       "      <th>ILLLX</th>\n",
       "      <th>...</th>\n",
       "      <th>XSD</th>\n",
       "      <th>MHITX</th>\n",
       "      <th>URTCX</th>\n",
       "      <th>PRENX</th>\n",
       "      <th>RINTX</th>\n",
       "      <th>TFXIX</th>\n",
       "      <th>IPOSX</th>\n",
       "      <th>MINYX</th>\n",
       "      <th>PAZCX</th>\n",
       "      <th>PMNPX</th>\n",
       "    </tr>\n",
       "    <tr>\n",
       "      <th>date</th>\n",
       "      <th></th>\n",
       "      <th></th>\n",
       "      <th></th>\n",
       "      <th></th>\n",
       "      <th></th>\n",
       "      <th></th>\n",
       "      <th></th>\n",
       "      <th></th>\n",
       "      <th></th>\n",
       "      <th></th>\n",
       "      <th></th>\n",
       "      <th></th>\n",
       "      <th></th>\n",
       "      <th></th>\n",
       "      <th></th>\n",
       "      <th></th>\n",
       "      <th></th>\n",
       "      <th></th>\n",
       "      <th></th>\n",
       "      <th></th>\n",
       "      <th></th>\n",
       "    </tr>\n",
       "  </thead>\n",
       "  <tbody>\n",
       "    <tr>\n",
       "      <th>1988-01-04</th>\n",
       "      <td>NaN</td>\n",
       "      <td>NaN</td>\n",
       "      <td>NaN</td>\n",
       "      <td>NaN</td>\n",
       "      <td>NaN</td>\n",
       "      <td>NaN</td>\n",
       "      <td>NaN</td>\n",
       "      <td>NaN</td>\n",
       "      <td>NaN</td>\n",
       "      <td>NaN</td>\n",
       "      <td>...</td>\n",
       "      <td>NaN</td>\n",
       "      <td>6.02</td>\n",
       "      <td>NaN</td>\n",
       "      <td>NaN</td>\n",
       "      <td>NaN</td>\n",
       "      <td>NaN</td>\n",
       "      <td>NaN</td>\n",
       "      <td>NaN</td>\n",
       "      <td>NaN</td>\n",
       "      <td>NaN</td>\n",
       "    </tr>\n",
       "    <tr>\n",
       "      <th>1988-01-05</th>\n",
       "      <td>NaN</td>\n",
       "      <td>NaN</td>\n",
       "      <td>NaN</td>\n",
       "      <td>NaN</td>\n",
       "      <td>NaN</td>\n",
       "      <td>NaN</td>\n",
       "      <td>NaN</td>\n",
       "      <td>NaN</td>\n",
       "      <td>NaN</td>\n",
       "      <td>NaN</td>\n",
       "      <td>...</td>\n",
       "      <td>NaN</td>\n",
       "      <td>6.03</td>\n",
       "      <td>NaN</td>\n",
       "      <td>NaN</td>\n",
       "      <td>NaN</td>\n",
       "      <td>NaN</td>\n",
       "      <td>NaN</td>\n",
       "      <td>NaN</td>\n",
       "      <td>NaN</td>\n",
       "      <td>NaN</td>\n",
       "    </tr>\n",
       "    <tr>\n",
       "      <th>1988-01-06</th>\n",
       "      <td>NaN</td>\n",
       "      <td>NaN</td>\n",
       "      <td>NaN</td>\n",
       "      <td>NaN</td>\n",
       "      <td>NaN</td>\n",
       "      <td>NaN</td>\n",
       "      <td>NaN</td>\n",
       "      <td>NaN</td>\n",
       "      <td>NaN</td>\n",
       "      <td>NaN</td>\n",
       "      <td>...</td>\n",
       "      <td>NaN</td>\n",
       "      <td>6.03</td>\n",
       "      <td>NaN</td>\n",
       "      <td>NaN</td>\n",
       "      <td>NaN</td>\n",
       "      <td>NaN</td>\n",
       "      <td>NaN</td>\n",
       "      <td>NaN</td>\n",
       "      <td>NaN</td>\n",
       "      <td>NaN</td>\n",
       "    </tr>\n",
       "  </tbody>\n",
       "</table>\n",
       "<p>3 rows × 348 columns</p>\n",
       "</div>"
      ],
      "text/plain": [
       "            CEMDX  SDFIX  ICFCX  CGERX  HNSGX  ACLNX  MDDDX  IVHIX  MGCIX  \\\n",
       "date                                                                        \n",
       "1988-01-04    NaN    NaN    NaN    NaN    NaN    NaN    NaN    NaN    NaN   \n",
       "1988-01-05    NaN    NaN    NaN    NaN    NaN    NaN    NaN    NaN    NaN   \n",
       "1988-01-06    NaN    NaN    NaN    NaN    NaN    NaN    NaN    NaN    NaN   \n",
       "\n",
       "            ILLLX  ...    XSD  MHITX  URTCX  PRENX  RINTX  TFXIX  IPOSX  \\\n",
       "date               ...                                                    \n",
       "1988-01-04    NaN  ...    NaN   6.02    NaN    NaN    NaN    NaN    NaN   \n",
       "1988-01-05    NaN  ...    NaN   6.03    NaN    NaN    NaN    NaN    NaN   \n",
       "1988-01-06    NaN  ...    NaN   6.03    NaN    NaN    NaN    NaN    NaN   \n",
       "\n",
       "            MINYX  PAZCX  PMNPX  \n",
       "date                             \n",
       "1988-01-04    NaN    NaN    NaN  \n",
       "1988-01-05    NaN    NaN    NaN  \n",
       "1988-01-06    NaN    NaN    NaN  \n",
       "\n",
       "[3 rows x 348 columns]"
      ]
     },
     "execution_count": 33,
     "metadata": {},
     "output_type": "execute_result"
    }
   ],
   "source": [
    "active_price.head(3)"
   ]
  },
  {
   "cell_type": "code",
   "execution_count": 34,
   "metadata": {},
   "outputs": [
    {
     "data": {
      "text/html": [
       "<div>\n",
       "<style scoped>\n",
       "    .dataframe tbody tr th:only-of-type {\n",
       "        vertical-align: middle;\n",
       "    }\n",
       "\n",
       "    .dataframe tbody tr th {\n",
       "        vertical-align: top;\n",
       "    }\n",
       "\n",
       "    .dataframe thead th {\n",
       "        text-align: right;\n",
       "    }\n",
       "</style>\n",
       "<table border=\"1\" class=\"dataframe\">\n",
       "  <thead>\n",
       "    <tr style=\"text-align: right;\">\n",
       "      <th></th>\n",
       "      <th>USWGX</th>\n",
       "      <th>DXPS</th>\n",
       "      <th>IGV</th>\n",
       "      <th>CGCRX</th>\n",
       "      <th>NWUSX</th>\n",
       "      <th>FFGSX</th>\n",
       "      <th>MLPMX</th>\n",
       "      <th>ECHIX</th>\n",
       "      <th>CSF</th>\n",
       "      <th>HLMRX</th>\n",
       "      <th>...</th>\n",
       "      <th>GXSTX</th>\n",
       "      <th>COVWX</th>\n",
       "      <th>LTRDX</th>\n",
       "      <th>SPIBX</th>\n",
       "      <th>FBFFX</th>\n",
       "      <th>ACIGX</th>\n",
       "      <th>DWPP</th>\n",
       "      <th>ETSIX</th>\n",
       "      <th>SPXS</th>\n",
       "      <th>IYM</th>\n",
       "    </tr>\n",
       "    <tr>\n",
       "      <th>date</th>\n",
       "      <th></th>\n",
       "      <th></th>\n",
       "      <th></th>\n",
       "      <th></th>\n",
       "      <th></th>\n",
       "      <th></th>\n",
       "      <th></th>\n",
       "      <th></th>\n",
       "      <th></th>\n",
       "      <th></th>\n",
       "      <th></th>\n",
       "      <th></th>\n",
       "      <th></th>\n",
       "      <th></th>\n",
       "      <th></th>\n",
       "      <th></th>\n",
       "      <th></th>\n",
       "      <th></th>\n",
       "      <th></th>\n",
       "      <th></th>\n",
       "      <th></th>\n",
       "    </tr>\n",
       "  </thead>\n",
       "  <tbody>\n",
       "    <tr>\n",
       "      <th>1988-01-04</th>\n",
       "      <td>NaN</td>\n",
       "      <td>NaN</td>\n",
       "      <td>NaN</td>\n",
       "      <td>NaN</td>\n",
       "      <td>NaN</td>\n",
       "      <td>NaN</td>\n",
       "      <td>NaN</td>\n",
       "      <td>NaN</td>\n",
       "      <td>NaN</td>\n",
       "      <td>NaN</td>\n",
       "      <td>...</td>\n",
       "      <td>NaN</td>\n",
       "      <td>NaN</td>\n",
       "      <td>NaN</td>\n",
       "      <td>NaN</td>\n",
       "      <td>NaN</td>\n",
       "      <td>NaN</td>\n",
       "      <td>NaN</td>\n",
       "      <td>NaN</td>\n",
       "      <td>NaN</td>\n",
       "      <td>NaN</td>\n",
       "    </tr>\n",
       "    <tr>\n",
       "      <th>1988-01-05</th>\n",
       "      <td>NaN</td>\n",
       "      <td>NaN</td>\n",
       "      <td>NaN</td>\n",
       "      <td>NaN</td>\n",
       "      <td>NaN</td>\n",
       "      <td>NaN</td>\n",
       "      <td>NaN</td>\n",
       "      <td>NaN</td>\n",
       "      <td>NaN</td>\n",
       "      <td>NaN</td>\n",
       "      <td>...</td>\n",
       "      <td>NaN</td>\n",
       "      <td>NaN</td>\n",
       "      <td>NaN</td>\n",
       "      <td>NaN</td>\n",
       "      <td>NaN</td>\n",
       "      <td>NaN</td>\n",
       "      <td>NaN</td>\n",
       "      <td>NaN</td>\n",
       "      <td>NaN</td>\n",
       "      <td>NaN</td>\n",
       "    </tr>\n",
       "    <tr>\n",
       "      <th>1988-01-06</th>\n",
       "      <td>NaN</td>\n",
       "      <td>NaN</td>\n",
       "      <td>NaN</td>\n",
       "      <td>NaN</td>\n",
       "      <td>NaN</td>\n",
       "      <td>NaN</td>\n",
       "      <td>NaN</td>\n",
       "      <td>NaN</td>\n",
       "      <td>NaN</td>\n",
       "      <td>NaN</td>\n",
       "      <td>...</td>\n",
       "      <td>NaN</td>\n",
       "      <td>NaN</td>\n",
       "      <td>NaN</td>\n",
       "      <td>NaN</td>\n",
       "      <td>NaN</td>\n",
       "      <td>NaN</td>\n",
       "      <td>NaN</td>\n",
       "      <td>NaN</td>\n",
       "      <td>NaN</td>\n",
       "      <td>NaN</td>\n",
       "    </tr>\n",
       "  </tbody>\n",
       "</table>\n",
       "<p>3 rows × 348 columns</p>\n",
       "</div>"
      ],
      "text/plain": [
       "            USWGX  DXPS  IGV  CGCRX  NWUSX  FFGSX  MLPMX  ECHIX  CSF  HLMRX  \\\n",
       "date                                                                          \n",
       "1988-01-04    NaN   NaN  NaN    NaN    NaN    NaN    NaN    NaN  NaN    NaN   \n",
       "1988-01-05    NaN   NaN  NaN    NaN    NaN    NaN    NaN    NaN  NaN    NaN   \n",
       "1988-01-06    NaN   NaN  NaN    NaN    NaN    NaN    NaN    NaN  NaN    NaN   \n",
       "\n",
       "           ...   GXSTX  COVWX  LTRDX  SPIBX  FBFFX  ACIGX  DWPP  ETSIX  SPXS  \\\n",
       "date       ...                                                                 \n",
       "1988-01-04 ...     NaN    NaN    NaN    NaN    NaN    NaN   NaN    NaN   NaN   \n",
       "1988-01-05 ...     NaN    NaN    NaN    NaN    NaN    NaN   NaN    NaN   NaN   \n",
       "1988-01-06 ...     NaN    NaN    NaN    NaN    NaN    NaN   NaN    NaN   NaN   \n",
       "\n",
       "            IYM  \n",
       "date             \n",
       "1988-01-04  NaN  \n",
       "1988-01-05  NaN  \n",
       "1988-01-06  NaN  \n",
       "\n",
       "[3 rows x 348 columns]"
      ]
     },
     "execution_count": 34,
     "metadata": {},
     "output_type": "execute_result"
    },
    {
     "data": {
      "text/html": [
       "<div>\n",
       "<style scoped>\n",
       "    .dataframe tbody tr th:only-of-type {\n",
       "        vertical-align: middle;\n",
       "    }\n",
       "\n",
       "    .dataframe tbody tr th {\n",
       "        vertical-align: top;\n",
       "    }\n",
       "\n",
       "    .dataframe thead th {\n",
       "        text-align: right;\n",
       "    }\n",
       "</style>\n",
       "<table border=\"1\" class=\"dataframe\">\n",
       "  <thead>\n",
       "    <tr style=\"text-align: right;\">\n",
       "      <th></th>\n",
       "      <th>USWGX</th>\n",
       "      <th>DXPS</th>\n",
       "      <th>IGV</th>\n",
       "      <th>CGCRX</th>\n",
       "      <th>NWUSX</th>\n",
       "      <th>FFGSX</th>\n",
       "      <th>MLPMX</th>\n",
       "      <th>ECHIX</th>\n",
       "      <th>CSF</th>\n",
       "      <th>HLMRX</th>\n",
       "      <th>...</th>\n",
       "      <th>GXSTX</th>\n",
       "      <th>COVWX</th>\n",
       "      <th>LTRDX</th>\n",
       "      <th>SPIBX</th>\n",
       "      <th>FBFFX</th>\n",
       "      <th>ACIGX</th>\n",
       "      <th>DWPP</th>\n",
       "      <th>ETSIX</th>\n",
       "      <th>SPXS</th>\n",
       "      <th>IYM</th>\n",
       "    </tr>\n",
       "    <tr>\n",
       "      <th>date</th>\n",
       "      <th></th>\n",
       "      <th></th>\n",
       "      <th></th>\n",
       "      <th></th>\n",
       "      <th></th>\n",
       "      <th></th>\n",
       "      <th></th>\n",
       "      <th></th>\n",
       "      <th></th>\n",
       "      <th></th>\n",
       "      <th></th>\n",
       "      <th></th>\n",
       "      <th></th>\n",
       "      <th></th>\n",
       "      <th></th>\n",
       "      <th></th>\n",
       "      <th></th>\n",
       "      <th></th>\n",
       "      <th></th>\n",
       "      <th></th>\n",
       "      <th></th>\n",
       "    </tr>\n",
       "  </thead>\n",
       "  <tbody>\n",
       "    <tr>\n",
       "      <th>1988-01-04</th>\n",
       "      <td>NaN</td>\n",
       "      <td>NaN</td>\n",
       "      <td>NaN</td>\n",
       "      <td>NaN</td>\n",
       "      <td>NaN</td>\n",
       "      <td>NaN</td>\n",
       "      <td>NaN</td>\n",
       "      <td>NaN</td>\n",
       "      <td>NaN</td>\n",
       "      <td>NaN</td>\n",
       "      <td>...</td>\n",
       "      <td>NaN</td>\n",
       "      <td>NaN</td>\n",
       "      <td>NaN</td>\n",
       "      <td>NaN</td>\n",
       "      <td>NaN</td>\n",
       "      <td>NaN</td>\n",
       "      <td>NaN</td>\n",
       "      <td>NaN</td>\n",
       "      <td>NaN</td>\n",
       "      <td>NaN</td>\n",
       "    </tr>\n",
       "    <tr>\n",
       "      <th>1988-01-05</th>\n",
       "      <td>NaN</td>\n",
       "      <td>NaN</td>\n",
       "      <td>NaN</td>\n",
       "      <td>NaN</td>\n",
       "      <td>NaN</td>\n",
       "      <td>NaN</td>\n",
       "      <td>NaN</td>\n",
       "      <td>NaN</td>\n",
       "      <td>NaN</td>\n",
       "      <td>NaN</td>\n",
       "      <td>...</td>\n",
       "      <td>NaN</td>\n",
       "      <td>NaN</td>\n",
       "      <td>NaN</td>\n",
       "      <td>NaN</td>\n",
       "      <td>NaN</td>\n",
       "      <td>NaN</td>\n",
       "      <td>NaN</td>\n",
       "      <td>NaN</td>\n",
       "      <td>NaN</td>\n",
       "      <td>NaN</td>\n",
       "    </tr>\n",
       "    <tr>\n",
       "      <th>1988-01-06</th>\n",
       "      <td>NaN</td>\n",
       "      <td>NaN</td>\n",
       "      <td>NaN</td>\n",
       "      <td>NaN</td>\n",
       "      <td>NaN</td>\n",
       "      <td>NaN</td>\n",
       "      <td>NaN</td>\n",
       "      <td>NaN</td>\n",
       "      <td>NaN</td>\n",
       "      <td>NaN</td>\n",
       "      <td>...</td>\n",
       "      <td>NaN</td>\n",
       "      <td>NaN</td>\n",
       "      <td>NaN</td>\n",
       "      <td>NaN</td>\n",
       "      <td>NaN</td>\n",
       "      <td>NaN</td>\n",
       "      <td>NaN</td>\n",
       "      <td>NaN</td>\n",
       "      <td>NaN</td>\n",
       "      <td>NaN</td>\n",
       "    </tr>\n",
       "  </tbody>\n",
       "</table>\n",
       "<p>3 rows × 348 columns</p>\n",
       "</div>"
      ],
      "text/plain": [
       "            USWGX  DXPS  IGV  CGCRX  NWUSX  FFGSX  MLPMX  ECHIX  CSF  HLMRX  \\\n",
       "date                                                                          \n",
       "1988-01-04    NaN   NaN  NaN    NaN    NaN    NaN    NaN    NaN  NaN    NaN   \n",
       "1988-01-05    NaN   NaN  NaN    NaN    NaN    NaN    NaN    NaN  NaN    NaN   \n",
       "1988-01-06    NaN   NaN  NaN    NaN    NaN    NaN    NaN    NaN  NaN    NaN   \n",
       "\n",
       "           ...   GXSTX  COVWX  LTRDX  SPIBX  FBFFX  ACIGX  DWPP  ETSIX  SPXS  \\\n",
       "date       ...                                                                 \n",
       "1988-01-04 ...     NaN    NaN    NaN    NaN    NaN    NaN   NaN    NaN   NaN   \n",
       "1988-01-05 ...     NaN    NaN    NaN    NaN    NaN    NaN   NaN    NaN   NaN   \n",
       "1988-01-06 ...     NaN    NaN    NaN    NaN    NaN    NaN   NaN    NaN   NaN   \n",
       "\n",
       "            IYM  \n",
       "date             \n",
       "1988-01-04  NaN  \n",
       "1988-01-05  NaN  \n",
       "1988-01-06  NaN  \n",
       "\n",
       "[3 rows x 348 columns]"
      ]
     },
     "execution_count": 34,
     "metadata": {},
     "output_type": "execute_result"
    }
   ],
   "source": [
    "passive_price.head(3)"
   ]
  },
  {
   "cell_type": "markdown",
   "metadata": {},
   "source": [
    "# Analysis"
   ]
  },
  {
   "cell_type": "markdown",
   "metadata": {},
   "source": [
    "### Returns"
   ]
  },
  {
   "cell_type": "code",
   "execution_count": 35,
   "metadata": {},
   "outputs": [],
   "source": [
    "sp_rets = pd.DataFrame(sp_data['adjclose'].pct_change())\n",
    "active_rets = active_price.pct_change()\n",
    "passive_rets = passive_price.pct_change()"
   ]
  },
  {
   "cell_type": "code",
   "execution_count": null,
   "metadata": {},
   "outputs": [],
   "source": []
  },
  {
   "cell_type": "code",
   "execution_count": null,
   "metadata": {},
   "outputs": [],
   "source": []
  },
  {
   "cell_type": "code",
   "execution_count": 36,
   "metadata": {},
   "outputs": [],
   "source": [
    "active_rets['sp_data'] = sp_rets['adjclose']\n",
    "passive_rets['sp_data'] = sp_rets['adjclose']"
   ]
  },
  {
   "cell_type": "code",
   "execution_count": null,
   "metadata": {},
   "outputs": [],
   "source": []
  },
  {
   "cell_type": "code",
   "execution_count": 37,
   "metadata": {},
   "outputs": [],
   "source": [
    "for col in active_rets.columns:\n",
    "    try:\n",
    "        active_rets[col] = active_rets[col] - active_rets['sp_data']    \n",
    "    except:\n",
    "        active_rets.drop(col, inplace = True)"
   ]
  },
  {
   "cell_type": "code",
   "execution_count": 38,
   "metadata": {},
   "outputs": [],
   "source": [
    "for col in passive_rets.columns:\n",
    "    try:\n",
    "        passive_rets[col] = passive_rets[col] - passive_rets['sp_data']    \n",
    "    except:\n",
    "        passive_rets.drop(col, inplace = True)"
   ]
  },
  {
   "cell_type": "code",
   "execution_count": 39,
   "metadata": {},
   "outputs": [],
   "source": [
    "active_rets.drop('sp_data', axis = 1, inplace = True)\n",
    "passive_rets.drop('sp_data', axis = 1, inplace = True)"
   ]
  },
  {
   "cell_type": "code",
   "execution_count": 40,
   "metadata": {},
   "outputs": [],
   "source": [
    "active_rets['average'] = active_rets.mean(axis = 1)\n",
    "passive_rets['average'] = passive_rets.mean(axis = 1)\n"
   ]
  },
  {
   "cell_type": "code",
   "execution_count": null,
   "metadata": {},
   "outputs": [],
   "source": []
  },
  {
   "cell_type": "code",
   "execution_count": null,
   "metadata": {},
   "outputs": [],
   "source": []
  },
  {
   "cell_type": "code",
   "execution_count": null,
   "metadata": {},
   "outputs": [],
   "source": []
  },
  {
   "cell_type": "code",
   "execution_count": null,
   "metadata": {},
   "outputs": [],
   "source": []
  },
  {
   "cell_type": "code",
   "execution_count": null,
   "metadata": {},
   "outputs": [],
   "source": []
  },
  {
   "cell_type": "code",
   "execution_count": null,
   "metadata": {},
   "outputs": [],
   "source": []
  },
  {
   "cell_type": "code",
   "execution_count": null,
   "metadata": {},
   "outputs": [],
   "source": []
  },
  {
   "cell_type": "code",
   "execution_count": 41,
   "metadata": {},
   "outputs": [],
   "source": [
    "sp_std = sp_rets.rolling(252).std()\n",
    "sp_rets = sp_rets.rolling(252).mean()\n",
    "\n",
    "act_std = active_rets['average'].rolling(252).std()\n",
    "act_rets = active_rets['average'].rolling(252).mean()\n",
    "\n",
    "pas_std = passive_rets['average'].rolling(252).std()\n",
    "pas_rets = passive_rets['average'].rolling(252).mean()"
   ]
  },
  {
   "cell_type": "code",
   "execution_count": 42,
   "metadata": {},
   "outputs": [],
   "source": [
    "act_rets.dropna(how = 'all', inplace= True)"
   ]
  },
  {
   "cell_type": "code",
   "execution_count": 43,
   "metadata": {},
   "outputs": [],
   "source": [
    "pas_rets.dropna(how = 'all', inplace= True)"
   ]
  },
  {
   "cell_type": "code",
   "execution_count": null,
   "metadata": {},
   "outputs": [],
   "source": []
  },
  {
   "cell_type": "code",
   "execution_count": null,
   "metadata": {},
   "outputs": [],
   "source": []
  },
  {
   "cell_type": "code",
   "execution_count": null,
   "metadata": {},
   "outputs": [],
   "source": []
  },
  {
   "cell_type": "code",
   "execution_count": null,
   "metadata": {},
   "outputs": [],
   "source": []
  },
  {
   "cell_type": "code",
   "execution_count": null,
   "metadata": {},
   "outputs": [],
   "source": []
  },
  {
   "cell_type": "code",
   "execution_count": null,
   "metadata": {},
   "outputs": [],
   "source": []
  },
  {
   "cell_type": "code",
   "execution_count": null,
   "metadata": {},
   "outputs": [],
   "source": []
  },
  {
   "cell_type": "markdown",
   "metadata": {},
   "source": [
    "### Number of Active vs Passive Funds"
   ]
  },
  {
   "cell_type": "code",
   "execution_count": 45,
   "metadata": {},
   "outputs": [],
   "source": [
    "active = len(df_passive)\n",
    "passive = len(df_active)\n",
    "\n",
    "total = active + passive\n",
    "act = round(100*(active/total),2)\n",
    "pas = round(100*(passive/total),2)"
   ]
  },
  {
   "cell_type": "markdown",
   "metadata": {},
   "source": [
    "### Management fees - Active vs Passive Funds"
   ]
  },
  {
   "cell_type": "code",
   "execution_count": 46,
   "metadata": {},
   "outputs": [],
   "source": [
    "avg_active = round(df_active['Management Fee'].mean(),3)\n",
    "avg_passive = round(df_passive['Management Fee'].mean(),3)\n"
   ]
  },
  {
   "cell_type": "markdown",
   "metadata": {},
   "source": [
    "### Expense Ratio - Active vs Passive"
   ]
  },
  {
   "cell_type": "code",
   "execution_count": 47,
   "metadata": {},
   "outputs": [],
   "source": [
    "avg_active_exp = round(df_active['Expense Ratio'].mean(),3)\n",
    "avg_passive_exp = round(df_passive['Expense Ratio'].mean(),3)"
   ]
  },
  {
   "cell_type": "markdown",
   "metadata": {},
   "source": [
    "### Top Active Mutual Funds"
   ]
  },
  {
   "cell_type": "code",
   "execution_count": 48,
   "metadata": {},
   "outputs": [
    {
     "data": {
      "text/plain": [
       "GPIOX    0.024394\n",
       "PSTIX    0.007948\n",
       "GMCDX    0.007183\n",
       "UOPSX    0.000595\n",
       "RGCBX    0.000398\n",
       "dtype: float64"
      ]
     },
     "execution_count": 48,
     "metadata": {},
     "output_type": "execute_result"
    },
    {
     "data": {
      "text/plain": [
       "GPIOX    0.024394\n",
       "PSTIX    0.007948\n",
       "GMCDX    0.007183\n",
       "UOPSX    0.000595\n",
       "RGCBX    0.000398\n",
       "dtype: float64"
      ]
     },
     "execution_count": 48,
     "metadata": {},
     "output_type": "execute_result"
    }
   ],
   "source": [
    "r = active_rets.drop('average', axis = 1).mean()\n",
    "r.nlargest(5)"
   ]
  },
  {
   "cell_type": "markdown",
   "metadata": {},
   "source": [
    "### Top Passive Mutual Funds"
   ]
  },
  {
   "cell_type": "code",
   "execution_count": 49,
   "metadata": {},
   "outputs": [
    {
     "data": {
      "text/plain": [
       "GML      150.947682\n",
       "CSF        0.438311\n",
       "RYWDX      0.062321\n",
       "UUPIX      0.055599\n",
       "RYIYX      0.039045\n",
       "dtype: float64"
      ]
     },
     "execution_count": 49,
     "metadata": {},
     "output_type": "execute_result"
    },
    {
     "data": {
      "text/plain": [
       "GML      150.947682\n",
       "CSF        0.438311\n",
       "RYWDX      0.062321\n",
       "UUPIX      0.055599\n",
       "RYIYX      0.039045\n",
       "dtype: float64"
      ]
     },
     "execution_count": 49,
     "metadata": {},
     "output_type": "execute_result"
    }
   ],
   "source": [
    "g = passive_rets.drop('average', axis = 1).mean()\n",
    "g.nlargest(5)"
   ]
  },
  {
   "cell_type": "markdown",
   "metadata": {},
   "source": [
    "# Visualization"
   ]
  },
  {
   "cell_type": "code",
   "execution_count": 50,
   "metadata": {},
   "outputs": [],
   "source": [
    "active_mgmt = df_active['Management Fee']\n",
    "pass_mgmt = df_passive['Management Fee']\n",
    "active_exp = df_active['Expense Ratio']\n",
    "pass_exp = df_passive['Expense Ratio']"
   ]
  },
  {
   "cell_type": "code",
   "execution_count": 51,
   "metadata": {},
   "outputs": [
    {
     "name": "stderr",
     "output_type": "stream",
     "text": [
      "/anaconda3/lib/python3.6/site-packages/pandas/core/indexing.py:537: SettingWithCopyWarning: \n",
      "A value is trying to be set on a copy of a slice from a DataFrame.\n",
      "Try using .loc[row_indexer,col_indexer] = value instead\n",
      "\n",
      "See the caveats in the documentation: http://pandas.pydata.org/pandas-docs/stable/indexing.html#indexing-view-versus-copy\n",
      "  self.obj[item] = s\n",
      "/anaconda3/lib/python3.6/site-packages/pandas/core/indexing.py:537: SettingWithCopyWarning: \n",
      "A value is trying to be set on a copy of a slice from a DataFrame.\n",
      "Try using .loc[row_indexer,col_indexer] = value instead\n",
      "\n",
      "See the caveats in the documentation: http://pandas.pydata.org/pandas-docs/stable/indexing.html#indexing-view-versus-copy\n",
      "  self.obj[item] = s\n"
     ]
    }
   ],
   "source": [
    "df_active.loc[:,'Expense Ratio'] *= 100\n",
    "df_passive.loc[:,'Expense Ratio'] *= 100"
   ]
  },
  {
   "cell_type": "markdown",
   "metadata": {},
   "source": [
    "### Distribution of Fund Management Fee's"
   ]
  },
  {
   "cell_type": "code",
   "execution_count": 52,
   "metadata": {},
   "outputs": [
    {
     "data": {
      "image/png": "[encoded data removed]",
      "text/plain": [
       "<matplotlib.figure.Figure at 0x1a155d4400>"
      ]
     },
     "metadata": {},
     "output_type": "display_data"
    },
    {
     "data": {
      "image/png": "[encoded data removed]",
      "text/plain": [
       "<matplotlib.figure.Figure at 0x1a155d4400>"
      ]
     },
     "metadata": {},
     "output_type": "display_data"
    }
   ],
   "source": [
    "plt.hist(active_mgmt, bins = 500, label='active')\n",
    "plt.hist(pass_mgmt, bins = 500, label='passive')\n",
    "plt.xlabel('Management Fee')\n",
    "plt.ylabel('Number of Funds')\n",
    "plt.legend(loc='upper right')\n",
    "plt.xlim(0,3)\n",
    "plt.show()"
   ]
  },
  {
   "cell_type": "markdown",
   "metadata": {},
   "source": [
    "### Distribution of Fund Expense Ratio's"
   ]
  },
  {
   "cell_type": "code",
   "execution_count": 53,
   "metadata": {
    "scrolled": true
   },
   "outputs": [
    {
     "data": {
      "image/png": "[encoded data removed]",
      "text/plain": [
       "<matplotlib.figure.Figure at 0x1a155d49e8>"
      ]
     },
     "metadata": {},
     "output_type": "display_data"
    },
    {
     "data": {
      "image/png": "[encoded data removed]",
      "text/plain": [
       "<matplotlib.figure.Figure at 0x1a155d49e8>"
      ]
     },
     "metadata": {},
     "output_type": "display_data"
    }
   ],
   "source": [
    "plt.hist(active_exp, bins = 700, label='active')\n",
    "plt.hist(pass_exp, bins = 50, label='passive')\n",
    "plt.xlabel('Expense Ratio')\n",
    "plt.ylabel('Number of Funds')\n",
    "plt.legend(loc='upper right')\n",
    "plt.xlim(0,7)\n",
    "plt.show()"
   ]
  },
  {
   "cell_type": "markdown",
   "metadata": {},
   "source": [
    "### Active Mutual Fund Returns Over Time"
   ]
  },
  {
   "cell_type": "code",
   "execution_count": 55,
   "metadata": {},
   "outputs": [
    {
     "data": {
      "text/plain": [
       "[<matplotlib.lines.Line2D at 0x1a181d5048>]"
      ]
     },
     "execution_count": 55,
     "metadata": {},
     "output_type": "execute_result"
    },
    {
     "data": {
      "text/plain": [
       "[<matplotlib.lines.Line2D at 0x1a181d5048>]"
      ]
     },
     "execution_count": 55,
     "metadata": {},
     "output_type": "execute_result"
    },
    {
     "data": {
      "image/png": "[encoded data removed]",
      "text/plain": [
       "<matplotlib.figure.Figure at 0x1a155bd7b8>"
      ]
     },
     "metadata": {},
     "output_type": "display_data"
    },
    {
     "data": {
      "image/png": "[encoded data removed]",
      "text/plain": [
       "<matplotlib.figure.Figure at 0x1a155bd7b8>"
      ]
     },
     "metadata": {},
     "output_type": "display_data"
    }
   ],
   "source": [
    "plt.plot(act_rets)"
   ]
  },
  {
   "cell_type": "markdown",
   "metadata": {},
   "source": [
    "### Passive Mutual Fund Returns Over Time"
   ]
  },
  {
   "cell_type": "code",
   "execution_count": null,
   "metadata": {},
   "outputs": [
    {
     "data": {
      "text/plain": [
       "[<matplotlib.lines.Line2D at 0x1a47c74080>]"
      ]
     },
     "execution_count": 62,
     "metadata": {},
     "output_type": "execute_result"
    },
    {
     "data": {
      "text/plain": [
       "[<matplotlib.lines.Line2D at 0x1a47c74080>]"
      ]
     },
     "execution_count": 62,
     "metadata": {},
     "output_type": "execute_result"
    }
   ],
   "source": [
    "plt.plot(pas_rets)"
   ]
  },
  {
   "cell_type": "code",
   "execution_count": null,
   "metadata": {},
   "outputs": [],
   "source": [
    "pas_rets"
   ]
  },
  {
   "cell_type": "markdown",
   "metadata": {},
   "source": [
    "# Conclusion"
   ]
  },
  {
   "cell_type": "code",
   "execution_count": 59,
   "metadata": {},
   "outputs": [
    {
     "name": "stdout",
     "output_type": "stream",
     "text": [
      "Average management fee for actively managed funds: 0.611%\n",
      "Average management fee for passively managed funds: 0.414%\n",
      "Average management fee for actively managed funds: 0.611%\n",
      "Average management fee for passively managed funds: 0.414%\n"
     ]
    }
   ],
   "source": [
    "print('Average management fee for actively managed funds: {}%'.format(avg_active))\n",
    "print('Average management fee for passively managed funds: {}%'.format(avg_passive))"
   ]
  },
  {
   "cell_type": "code",
   "execution_count": 60,
   "metadata": {},
   "outputs": [
    {
     "name": "stdout",
     "output_type": "stream",
     "text": [
      "There are 8973 (22.63%) actively managed mutual funds\n",
      "There are 30680 (77.37%) passively managed mutual funds\n",
      "There are 8973 (22.63%) actively managed mutual funds\n",
      "There are 30680 (77.37%) passively managed mutual funds\n"
     ]
    }
   ],
   "source": [
    "print('There are {} ({}%) actively managed mutual funds'.format(active, act))\n",
    "print('There are {} ({}%) passively managed mutual funds'.format(passive, pas))"
   ]
  },
  {
   "cell_type": "code",
   "execution_count": 61,
   "metadata": {},
   "outputs": [
    {
     "name": "stdout",
     "output_type": "stream",
     "text": [
      "Average expense ratio for actively managed funds: 0.013%\n",
      "Average expense ratio for passively managed funds: 0.009%\n",
      "Average expense ratio for actively managed funds: 0.013%\n",
      "Average expense ratio for passively managed funds: 0.009%\n"
     ]
    }
   ],
   "source": [
    "print('Average expense ratio for actively managed funds: {}%'.format(avg_active_exp))\n",
    "print('Average expense ratio for passively managed funds: {}%'.format(avg_passive_exp))"
   ]
  },
  {
   "cell_type": "code",
   "execution_count": null,
   "metadata": {},
   "outputs": [],
   "source": []
  }
 ],
 "metadata": {
  "kernelspec": {
   "display_name": "Python 3",
   "language": "python",
   "name": "python3"
  },
  "language_info": {
   "codemirror_mode": {
    "name": "ipython",
    "version": 3
   },
   "file_extension": ".py",
   "mimetype": "text/x-python",
   "name": "python",
   "nbconvert_exporter": "python",
   "pygments_lexer": "ipython3",
   "version": "3.6.4"
  }
 },
 "nbformat": 4,
 "nbformat_minor": 2
}
