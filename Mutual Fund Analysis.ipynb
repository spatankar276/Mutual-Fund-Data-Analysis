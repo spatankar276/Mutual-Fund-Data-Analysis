{
 "cells": [
  {
   "cell_type": "markdown",
   "metadata": {},
   "source": [
    "# Question: Are actively managed mutual funds a better investment than passively managed mutual funds?"
   ]
  },
  {
   "cell_type": "markdown",
   "metadata": {},
   "source": [
    "# Project Outline\n",
    "\n",
    "    - Pull Data\n",
    "     - Describe Data"
   ]
  },
  {
   "cell_type": "markdown",
   "metadata": {},
   "source": [
    "# Important Links:\n",
    "\n",
    "## CRSP Data Definitions\n",
    "## http://www.crsp.com/products/documentation/data-definitions-2\n",
    "\n",
    "\n",
    "## JP Morgan - Active vs Passive Funds\n",
    "## https://www.morganstanley.com/spc/knowledge/managing-wealth/wealth-management-for-stock-plan-participants/active-vs--passive-funds--its-more-than-just-fees.html\n",
    "\n",
    "## Mutual Fund Performance Measures\n",
    "## https://web.stanford.edu/~wfsharpe/art/mfpm/mfpm.htm"
   ]
  },
  {
   "cell_type": "markdown",
   "metadata": {},
   "source": [
    "**********************************************************************************************************************"
   ]
  },
  {
   "cell_type": "markdown",
   "metadata": {},
   "source": [
    "# NOTE: To see results, please go to the Visualization/Conclusion Section"
   ]
  },
  {
   "cell_type": "markdown",
   "metadata": {},
   "source": [
    "**********************************************************************************************************************"
   ]
  },
  {
   "cell_type": "markdown",
   "metadata": {},
   "source": [
    "# Import Modules"
   ]
  },
  {
   "cell_type": "code",
   "execution_count": 1,
   "metadata": {},
   "outputs": [],
   "source": [
    "import pandas as pd\n",
    "import numpy as np\n",
    "import requests\n",
    "import json\n",
    "import re\n",
    "import seaborn as sns\n",
    "import time\n",
    "from scipy.stats import norm\n",
    "from matplotlib import pyplot as plt\n",
    "import random\n",
    "import datetime\n",
    "from fund_analysis import *\n",
    "\n",
    "\n",
    "\n",
    "\n"
   ]
  },
  {
   "cell_type": "markdown",
   "metadata": {},
   "source": [
    "# Import Data"
   ]
  },
  {
   "cell_type": "code",
   "execution_count": 2,
   "metadata": {},
   "outputs": [],
   "source": [
    "start = pd.to_datetime('01/01/1988')\n",
    "end = pd.to_datetime('04/16/2018')"
   ]
  },
  {
   "cell_type": "code",
   "execution_count": 3,
   "metadata": {},
   "outputs": [
    {
     "name": "stderr",
     "output_type": "stream",
     "text": [
      "/anaconda3/lib/python3.6/site-packages/IPython/core/interactiveshell.py:2728: DtypeWarning: Columns (5,12,49,50,51,62,65,66) have mixed types. Specify dtype option on import or set low_memory=False.\n",
      "  interactivity=interactivity, compiler=compiler, result=result)\n"
     ]
    }
   ],
   "source": [
    "data = pd.read_csv('CRSP.csv')"
   ]
  },
  {
   "cell_type": "code",
   "execution_count": 4,
   "metadata": {},
   "outputs": [],
   "source": [
    "sp_data = get_yahoo_prices('^GSPC', start, end)"
   ]
  },
  {
   "cell_type": "code",
   "execution_count": 5,
   "metadata": {},
   "outputs": [],
   "source": [
    "sp_data = sp_data.reset_index()"
   ]
  },
  {
   "cell_type": "code",
   "execution_count": 6,
   "metadata": {},
   "outputs": [],
   "source": [
    "sp_data = sp_data[['date', 'adjclose']]"
   ]
  },
  {
   "cell_type": "code",
   "execution_count": 7,
   "metadata": {},
   "outputs": [],
   "source": [
    "active_price = pd.read_csv('active_price_data.csv')\n",
    "passive_price = pd.read_csv('passive_price_data.csv')"
   ]
  },
  {
   "cell_type": "markdown",
   "metadata": {},
   "source": [
    "# Cleaning/Preparation"
   ]
  },
  {
   "cell_type": "markdown",
   "metadata": {},
   "source": [
    "### CRSP Data"
   ]
  },
  {
   "cell_type": "code",
   "execution_count": 8,
   "metadata": {},
   "outputs": [
    {
     "data": {
      "text/plain": [
       "(550596, 73)"
      ]
     },
     "execution_count": 8,
     "metadata": {},
     "output_type": "execute_result"
    }
   ],
   "source": [
    "data.shape"
   ]
  },
  {
   "cell_type": "code",
   "execution_count": 9,
   "metadata": {},
   "outputs": [
    {
     "data": {
      "text/plain": [
       "Index(['summary_period2', 'crsp_fundno', 'caldt', 'nav_latest',\n",
       "       'nav_latest_dt', 'tna_latest', 'tna_latest_dt', 'yield', 'div_ytd',\n",
       "       'cap_gains_ytd', 'nav_52w_h', 'nav_52w_h_dt', 'nav_52w_l',\n",
       "       'nav_52w_l_dt', 'unrealized_app_dep', 'unrealized_app_dt', 'asset_dt',\n",
       "       'per_com', 'per_pref', 'per_conv', 'per_corp', 'per_muni', 'per_govt',\n",
       "       'per_oth', 'per_cash', 'per_bond', 'per_abs', 'per_mbs', 'per_eq_oth',\n",
       "       'per_fi_oth', 'maturity', 'maturity_dt', 'cusip8', 'crsp_portno',\n",
       "       'crsp_cl_grp', 'fund_name', 'ticker', 'ncusip', 'mgmt_name', 'mgmt_cd',\n",
       "       'mgr_name', 'mgr_dt', 'adv_name', 'open_to_inv', 'retail_fund',\n",
       "       'inst_fund', 'm_fund', 'index_fund_flag', 'vau_fund', 'et_flag',\n",
       "       'delist_cd', 'first_offer_dt', 'end_dt', 'dead_flag', 'merge_fundno',\n",
       "       'actual_12b1', 'max_12b1', 'exp_ratio', 'mgmt_fee', 'turn_ratio',\n",
       "       'fiscal_yearend', 'crsp_obj_cd', 'si_obj_cd', 'accrual_fund',\n",
       "       'sales_restrict', 'wbrger_obj_cd', 'policy', 'lipper_class',\n",
       "       'lipper_class_name', 'lipper_obj_cd', 'lipper_obj_name',\n",
       "       'lipper_asset_cd', 'lipper_tax_cd'],\n",
       "      dtype='object')"
      ]
     },
     "execution_count": 9,
     "metadata": {},
     "output_type": "execute_result"
    }
   ],
   "source": [
    "data.columns"
   ]
  },
  {
   "cell_type": "code",
   "execution_count": 10,
   "metadata": {},
   "outputs": [],
   "source": [
    "df = pd.DataFrame({'Fund Name' : data['fund_name'], 'Fund Ticker' : data['ticker'], \n",
    "                   'Open to Investors' : data['open_to_inv'], 'Expense Ratio' : data['exp_ratio'],\n",
    "                  'Management Fee' : data['mgmt_fee'], 'Turnover Ratio' : data['turn_ratio']})"
   ]
  },
  {
   "cell_type": "code",
   "execution_count": 11,
   "metadata": {},
   "outputs": [
    {
     "data": {
      "text/plain": [
       "Expense Ratio         77314\n",
       "Fund Name              7823\n",
       "Fund Ticker           86503\n",
       "Management Fee       144968\n",
       "Open to Investors     81168\n",
       "Turnover Ratio        77314\n",
       "dtype: int64"
      ]
     },
     "execution_count": 11,
     "metadata": {},
     "output_type": "execute_result"
    }
   ],
   "source": [
    "df.isnull().sum()"
   ]
  },
  {
   "cell_type": "code",
   "execution_count": 12,
   "metadata": {},
   "outputs": [],
   "source": [
    "df.dropna(inplace = True)"
   ]
  },
  {
   "cell_type": "code",
   "execution_count": 13,
   "metadata": {},
   "outputs": [
    {
     "data": {
      "text/plain": [
       "count    371785.000000\n",
       "mean         -5.379646\n",
       "std         182.354466\n",
       "min         -99.000000\n",
       "25%           0.210000\n",
       "50%           0.490000\n",
       "75%           0.990000\n",
       "max      110120.080000\n",
       "Name: Turnover Ratio, dtype: float64"
      ]
     },
     "execution_count": 13,
     "metadata": {},
     "output_type": "execute_result"
    }
   ],
   "source": [
    "df['Turnover Ratio'].describe()"
   ]
  },
  {
   "cell_type": "code",
   "execution_count": 14,
   "metadata": {},
   "outputs": [],
   "source": [
    "df['Active or Passive'] = df['Expense Ratio'].apply(managed)\n",
    "df['Active or Passive'] = df['Turnover Ratio'].apply(managed_turn)"
   ]
  },
  {
   "cell_type": "code",
   "execution_count": 15,
   "metadata": {},
   "outputs": [],
   "source": [
    "df = df[df['Open to Investors'] == 'Y']"
   ]
  },
  {
   "cell_type": "code",
   "execution_count": 16,
   "metadata": {},
   "outputs": [],
   "source": [
    "df = df[df['Management Fee'] > 0]"
   ]
  },
  {
   "cell_type": "code",
   "execution_count": 17,
   "metadata": {},
   "outputs": [],
   "source": [
    "df = df[df['Expense Ratio'] > 0]"
   ]
  },
  {
   "cell_type": "code",
   "execution_count": 18,
   "metadata": {},
   "outputs": [],
   "source": [
    "df.drop_duplicates(subset = ['Fund Ticker'], inplace = True)"
   ]
  },
  {
   "cell_type": "code",
   "execution_count": 19,
   "metadata": {},
   "outputs": [
    {
     "data": {
      "text/plain": [
       "(39653, 7)"
      ]
     },
     "execution_count": 19,
     "metadata": {},
     "output_type": "execute_result"
    }
   ],
   "source": [
    "df.shape"
   ]
  },
  {
   "cell_type": "code",
   "execution_count": 20,
   "metadata": {},
   "outputs": [
    {
     "data": {
      "text/plain": [
       "active     30680\n",
       "passive     8973\n",
       "Name: Active or Passive, dtype: int64"
      ]
     },
     "execution_count": 20,
     "metadata": {},
     "output_type": "execute_result"
    }
   ],
   "source": [
    "df['Active or Passive'].value_counts()"
   ]
  },
  {
   "cell_type": "code",
   "execution_count": 21,
   "metadata": {
    "scrolled": true
   },
   "outputs": [],
   "source": [
    "df_active = df[df['Active or Passive'] == 'active']\n",
    "df_passive = df[df['Active or Passive'] != 'active']"
   ]
  },
  {
   "cell_type": "markdown",
   "metadata": {},
   "source": [
    "### Active/Passive Price Data"
   ]
  },
  {
   "cell_type": "code",
   "execution_count": 22,
   "metadata": {},
   "outputs": [],
   "source": [
    "active_price = active_price.iloc[:, 1:]\n",
    "passive_price = passive_price.iloc[:, 1:]"
   ]
  },
  {
   "cell_type": "code",
   "execution_count": 23,
   "metadata": {},
   "outputs": [],
   "source": [
    "active_price.set_index('date', inplace= True)\n",
    "passive_price.set_index('date', inplace= True)"
   ]
  },
  {
   "cell_type": "code",
   "execution_count": 24,
   "metadata": {},
   "outputs": [],
   "source": [
    "active_price.dropna(thresh = 1, inplace= True)\n",
    "passive_price.dropna(thresh = 1, inplace= True)"
   ]
  },
  {
   "cell_type": "code",
   "execution_count": 25,
   "metadata": {},
   "outputs": [],
   "source": [
    "sp_data = sp_data.set_index('date')"
   ]
  },
  {
   "cell_type": "code",
   "execution_count": null,
   "metadata": {},
   "outputs": [],
   "source": []
  },
  {
   "cell_type": "code",
   "execution_count": null,
   "metadata": {},
   "outputs": [],
   "source": []
  },
  {
   "cell_type": "markdown",
   "metadata": {},
   "source": [
    "# Analysis"
   ]
  },
  {
   "cell_type": "markdown",
   "metadata": {},
   "source": [
    "### Returns"
   ]
  },
  {
   "cell_type": "code",
   "execution_count": 26,
   "metadata": {},
   "outputs": [],
   "source": [
    "sp_rets = pd.DataFrame(sp_data['adjclose'].pct_change())\n",
    "active_rets = active_price.pct_change()\n",
    "passive_rets = passive_price.pct_change()"
   ]
  },
  {
   "cell_type": "code",
   "execution_count": 27,
   "metadata": {},
   "outputs": [],
   "source": [
    "active_rets['sp_data'] = sp_rets['adjclose']\n",
    "passive_rets['sp_data'] = sp_rets['adjclose']"
   ]
  },
  {
   "cell_type": "code",
   "execution_count": 28,
   "metadata": {},
   "outputs": [],
   "source": [
    "for col in active_rets.columns:\n",
    "    try:\n",
    "        active_rets[col] = active_rets[col] - active_rets['sp_data']    \n",
    "    except:\n",
    "        active_rets.drop(col, inplace = True)"
   ]
  },
  {
   "cell_type": "code",
   "execution_count": 29,
   "metadata": {},
   "outputs": [],
   "source": [
    "for col in passive_rets.columns:\n",
    "    try:\n",
    "        passive_rets[col] = passive_rets[col] - passive_rets['sp_data']    \n",
    "    except:\n",
    "        passive_rets.drop(col, inplace = True)"
   ]
  },
  {
   "cell_type": "code",
   "execution_count": 30,
   "metadata": {},
   "outputs": [],
   "source": [
    "active_rets.drop('sp_data', axis = 1, inplace = True)\n",
    "passive_rets.drop('sp_data', axis = 1, inplace = True)"
   ]
  },
  {
   "cell_type": "code",
   "execution_count": 31,
   "metadata": {},
   "outputs": [],
   "source": [
    "active_rets['average'] = active_rets.mean(axis = 1)\n",
    "passive_rets['average'] = passive_rets.mean(axis = 1)\n"
   ]
  },
  {
   "cell_type": "code",
   "execution_count": 32,
   "metadata": {},
   "outputs": [],
   "source": [
    "sp_std = sp_rets.rolling(252).std()\n",
    "sp_rets = sp_rets.rolling(252).mean()\n",
    "\n",
    "act_std = active_rets['average'].rolling(252).std()\n",
    "act_rets = active_rets['average'].rolling(252).mean()\n",
    "\n",
    "pas_std = passive_rets['average'].rolling(252).std()\n",
    "pas_rets = passive_rets['average'].rolling(252).mean()"
   ]
  },
  {
   "cell_type": "code",
   "execution_count": 33,
   "metadata": {},
   "outputs": [],
   "source": [
    "act_rets.dropna(how = 'all', inplace= True)"
   ]
  },
  {
   "cell_type": "code",
   "execution_count": 34,
   "metadata": {},
   "outputs": [],
   "source": [
    "pas_rets.dropna(how = 'all', inplace= True)"
   ]
  },
  {
   "cell_type": "code",
   "execution_count": 35,
   "metadata": {},
   "outputs": [],
   "source": [
    "act_rets_all = active_rets.rolling(252).mean()\n",
    "pas_rets_all = passive_rets.rolling(252).mean()"
   ]
  },
  {
   "cell_type": "code",
   "execution_count": 36,
   "metadata": {},
   "outputs": [],
   "source": [
    "act_rets*= 1000\n",
    "pas_rets*= 1000\n",
    "sp_rets['adjclose']*= 1000"
   ]
  },
  {
   "cell_type": "markdown",
   "metadata": {},
   "source": [
    "### Number of Active vs Passive Funds"
   ]
  },
  {
   "cell_type": "code",
   "execution_count": 37,
   "metadata": {},
   "outputs": [],
   "source": [
    "active = len(df_passive)\n",
    "passive = len(df_active)\n",
    "\n",
    "total = active + passive\n",
    "act = round(100*(active/total),2)\n",
    "pas = round(100*(passive/total),2)"
   ]
  },
  {
   "cell_type": "markdown",
   "metadata": {},
   "source": [
    "### Management fees - Active vs Passive Funds"
   ]
  },
  {
   "cell_type": "code",
   "execution_count": 38,
   "metadata": {},
   "outputs": [],
   "source": [
    "avg_active = round(df_active['Management Fee'].mean(),3)\n",
    "avg_passive = round(df_passive['Management Fee'].mean(),3)\n"
   ]
  },
  {
   "cell_type": "markdown",
   "metadata": {},
   "source": [
    "### Expense Ratio - Active vs Passive"
   ]
  },
  {
   "cell_type": "code",
   "execution_count": 39,
   "metadata": {},
   "outputs": [],
   "source": [
    "avg_active_exp = round(df_active['Expense Ratio'].mean(),3)\n",
    "avg_passive_exp = round(df_passive['Expense Ratio'].mean(),3)"
   ]
  },
  {
   "cell_type": "markdown",
   "metadata": {},
   "source": [
    "### Top Active Mutual Funds"
   ]
  },
  {
   "cell_type": "code",
   "execution_count": 40,
   "metadata": {},
   "outputs": [],
   "source": [
    "r = active_rets.drop('average', axis = 1).mean(axis = 0)\n",
    "r = r.nlargest(10)\n",
    "r *= 100"
   ]
  },
  {
   "cell_type": "markdown",
   "metadata": {},
   "source": [
    "### Top Passive Mutual Funds"
   ]
  },
  {
   "cell_type": "code",
   "execution_count": 41,
   "metadata": {},
   "outputs": [],
   "source": [
    "g = passive_rets.drop('average', axis = 1).mean(axis = 0)\n",
    "g = g.nlargest(10)\n",
    "g *= 100"
   ]
  },
  {
   "cell_type": "markdown",
   "metadata": {},
   "source": [
    "# Visualization"
   ]
  },
  {
   "cell_type": "code",
   "execution_count": 42,
   "metadata": {},
   "outputs": [],
   "source": [
    "active_mgmt = df_active['Management Fee']\n",
    "pass_mgmt = df_passive['Management Fee']\n",
    "active_exp = df_active['Expense Ratio']\n",
    "pass_exp = df_passive['Expense Ratio']"
   ]
  },
  {
   "cell_type": "code",
   "execution_count": 43,
   "metadata": {},
   "outputs": [
    {
     "name": "stderr",
     "output_type": "stream",
     "text": [
      "/anaconda3/lib/python3.6/site-packages/pandas/core/indexing.py:537: SettingWithCopyWarning: \n",
      "A value is trying to be set on a copy of a slice from a DataFrame.\n",
      "Try using .loc[row_indexer,col_indexer] = value instead\n",
      "\n",
      "See the caveats in the documentation: http://pandas.pydata.org/pandas-docs/stable/indexing.html#indexing-view-versus-copy\n",
      "  self.obj[item] = s\n"
     ]
    }
   ],
   "source": [
    "df_active.loc[:,'Expense Ratio'] *= 100\n",
    "df_passive.loc[:,'Expense Ratio'] *= 100"
   ]
  },
  {
   "cell_type": "markdown",
   "metadata": {},
   "source": [
    "### Distribution of Fund Management Fee's"
   ]
  },
  {
   "cell_type": "code",
   "execution_count": 44,
   "metadata": {},
   "outputs": [
    {
     "data": {
      "image/png": "[encoded data removed]",
      "text/plain": [
       "<matplotlib.figure.Figure at 0x10aa9ff60>"
      ]
     },
     "metadata": {},
     "output_type": "display_data"
    }
   ],
   "source": [
    "plt.hist(active_mgmt, bins = 500, label='active')\n",
    "plt.hist(pass_mgmt, bins = 500, label='passive')\n",
    "plt.xlabel('Management Fee')\n",
    "plt.ylabel('Number of Funds')\n",
    "plt.legend(loc='upper right')\n",
    "plt.xlim(0,3)\n",
    "plt.show()"
   ]
  },
  {
   "cell_type": "markdown",
   "metadata": {},
   "source": [
    "### Distribution of Fund Expense Ratio's"
   ]
  },
  {
   "cell_type": "code",
   "execution_count": 45,
   "metadata": {
    "scrolled": true
   },
   "outputs": [
    {
     "data": {
      "image/png": "[encoded data removed]",
      "text/plain": [
       "<matplotlib.figure.Figure at 0x110f9bc50>"
      ]
     },
     "metadata": {},
     "output_type": "display_data"
    }
   ],
   "source": [
    "plt.hist(active_exp, bins = 700, label='active')\n",
    "plt.hist(pass_exp, bins = 50, label='passive')\n",
    "plt.xlabel('Expense Ratio')\n",
    "plt.ylabel('Number of Funds')\n",
    "plt.legend(loc='upper right')\n",
    "plt.xlim(0,7)\n",
    "plt.show()"
   ]
  },
  {
   "cell_type": "markdown",
   "metadata": {},
   "source": [
    "### Active VS Passive Mutual Fund Returns Over Time"
   ]
  },
  {
   "cell_type": "code",
   "execution_count": 57,
   "metadata": {},
   "outputs": [],
   "source": [
    "act_rets.index = pd.to_datetime(act_rets.index)\n",
    "pas_rets.index = pd.to_datetime(pas_rets.index)"
   ]
  },
  {
   "cell_type": "code",
   "execution_count": 61,
   "metadata": {},
   "outputs": [
    {
     "data": {
      "text/plain": [
       "[<matplotlib.lines.Line2D at 0x1a199fc7f0>]"
      ]
     },
     "execution_count": 61,
     "metadata": {},
     "output_type": "execute_result"
    },
    {
     "data": {
      "image/png": "[encoded data removed]",
      "text/plain": [
       "<matplotlib.figure.Figure at 0x1a19f8a860>"
      ]
     },
     "metadata": {},
     "output_type": "display_data"
    }
   ],
   "source": [
    "plt.plot(act_rets, color = 'r')\n",
    "plt.plot(pas_rets, color = 'b')\n",
    "plt.plot(sp_rets, color = 'g')"
   ]
  },
  {
   "cell_type": "markdown",
   "metadata": {},
   "source": [
    "# Conclusion"
   ]
  },
  {
   "cell_type": "code",
   "execution_count": 48,
   "metadata": {},
   "outputs": [
    {
     "name": "stdout",
     "output_type": "stream",
     "text": [
      "Average management fee for actively managed funds: 0.611%\n",
      "Average management fee for passively managed funds: 0.414%\n"
     ]
    }
   ],
   "source": [
    "# NOTE : THIS IS FOR THE WHOLE DATASET\n",
    "\n",
    "print('Average management fee for actively managed funds: {}%'.format(avg_active))\n",
    "print('Average management fee for passively managed funds: {}%'.format(avg_passive))"
   ]
  },
  {
   "cell_type": "code",
   "execution_count": 49,
   "metadata": {},
   "outputs": [
    {
     "name": "stdout",
     "output_type": "stream",
     "text": [
      "There are 8973 (22.63%) actively managed mutual funds\n",
      "There are 30680 (77.37%) passively managed mutual funds\n"
     ]
    }
   ],
   "source": [
    "# NOTE : THIS IS FOR THE WHOLE DATASET\n",
    "\n",
    "print('There are {} ({}%) actively managed mutual funds'.format(active, act))\n",
    "print('There are {} ({}%) passively managed mutual funds'.format(passive, pas))"
   ]
  },
  {
   "cell_type": "code",
   "execution_count": 50,
   "metadata": {},
   "outputs": [
    {
     "name": "stdout",
     "output_type": "stream",
     "text": [
      "Average expense ratio for actively managed funds: 0.013%\n",
      "Average expense ratio for passively managed funds: 0.009%\n"
     ]
    }
   ],
   "source": [
    "# NOTE : THIS IS FOR THE WHOLE DATASET\n",
    "\n",
    "print('Average expense ratio for actively managed funds: {}%'.format(avg_active_exp))\n",
    "print('Average expense ratio for passively managed funds: {}%'.format(avg_passive_exp))"
   ]
  },
  {
   "cell_type": "code",
   "execution_count": 51,
   "metadata": {
    "scrolled": true
   },
   "outputs": [
    {
     "name": "stdout",
     "output_type": "stream",
     "text": [
      "The top 10 active mutual funds and their average annual returns are:\n",
      "UBIO     4.142635\n",
      "FVC      0.791529\n",
      "PSDKX    0.621025\n",
      "PFAPX    0.611398\n",
      "PFATX    0.456357\n",
      "PQICX    0.182619\n",
      "CSQIX    0.168508\n",
      "TNA      0.140785\n",
      "BEMSX    0.131291\n",
      "SMAVX    0.091094\n",
      "dtype: float64\n"
     ]
    }
   ],
   "source": [
    "print('The top 10 active mutual funds and their average annual returns are:')\n",
    "print(r)"
   ]
  },
  {
   "cell_type": "code",
   "execution_count": 52,
   "metadata": {},
   "outputs": [
    {
     "data": {
      "text/plain": [
       "date\n",
       "2016-01-27    17.73\n",
       "2016-07-26    24.07\n",
       "Name: RSW, dtype: float64"
      ]
     },
     "execution_count": 52,
     "metadata": {},
     "output_type": "execute_result"
    }
   ],
   "source": [
    "# NOTE: There are data quality issues with yahoo finance\n",
    "# ex. yahoo finance shows that the ticker 'RSW' which we classified as passive has no data on it\n",
    "# But if we look at the data we have on it:\n",
    "\n",
    "passive_price['RSW'].dropna()\n",
    "\n",
    "# We see that yahoo finance has data for two days"
   ]
  },
  {
   "cell_type": "code",
   "execution_count": 53,
   "metadata": {},
   "outputs": [
    {
     "name": "stdout",
     "output_type": "stream",
     "text": [
      "The top 10 passive mutual funds and their average annual returns are:\n",
      "RSW      35.726325\n",
      "SKK       9.272849\n",
      "UWPSX     9.080606\n",
      "UUPSX     5.558224\n",
      "IFV       5.186953\n",
      "AFBSX     5.016365\n",
      "GMRPX     3.957304\n",
      "GDXX      3.075339\n",
      "RYCBX     2.472081\n",
      "IPK       2.416357\n",
      "dtype: float64\n"
     ]
    }
   ],
   "source": [
    "print('The top 10 passive mutual funds and their average annual returns are:')\n",
    "print(g)"
   ]
  }
 ],
 "metadata": {
  "kernelspec": {
   "display_name": "Python 3",
   "language": "python",
   "name": "python3"
  },
  "language_info": {
   "codemirror_mode": {
    "name": "ipython",
    "version": 3
   },
   "file_extension": ".py",
   "mimetype": "text/x-python",
   "name": "python",
   "nbconvert_exporter": "python",
   "pygments_lexer": "ipython3",
   "version": "3.6.4"
  }
 },
 "nbformat": 4,
 "nbformat_minor": 2
}
