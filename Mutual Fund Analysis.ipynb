{
 "cells": [
  {
   "cell_type": "raw",
   "metadata": {},
   "source": [
    "Question: Are actively managed mutual funds a better investment than passively managed mutual funds?"
   ]
  },
  {
   "cell_type": "raw",
   "metadata": {},
   "source": [
    "Project Outline\n",
    "\n",
    "    - Pull Data\n",
    "     - Describe Data"
   ]
  },
  {
   "cell_type": "raw",
   "metadata": {},
   "source": [
    "Important Links:\n",
    "\n",
    "CRSP Data Definitions\n",
    "http://www.crsp.com/products/documentation/data-definitions-2\n",
    "\n",
    "\n",
    "JP Morgan - Active vs Passive Funds\n",
    "https://www.morganstanley.com/spc/knowledge/managing-wealth/wealth-management-for-stock-plan-participants/active-vs--passive-funds--its-more-than-just-fees.html\n",
    "\n",
    "Mutual Fund Performance Measures\n",
    "https://web.stanford.edu/~wfsharpe/art/mfpm/mfpm.htm"
   ]
  },
  {
   "cell_type": "markdown",
   "metadata": {},
   "source": [
    "# Import Modules"
   ]
  },
  {
   "cell_type": "code",
   "execution_count": 60,
   "metadata": {},
   "outputs": [],
   "source": [
    "import pandas as pd\n",
    "import numpy as np\n",
    "import requests\n",
    "import json\n",
    "import re\n",
    "import seaborn as sns\n",
    "import time\n",
    "from scipy.stats import norm\n",
    "from matplotlib import pyplot as plt\n",
    "import random\n",
    "import datetime\n",
    "from fund_analysis import *\n",
    "\n",
    "\n",
    "\n",
    "\n"
   ]
  },
  {
   "cell_type": "markdown",
   "metadata": {},
   "source": [
    "# Import Data"
   ]
  },
  {
   "cell_type": "code",
   "execution_count": 61,
   "metadata": {},
   "outputs": [],
   "source": [
    "start = pd.to_datetime('01/01/1988')\n",
    "end = pd.to_datetime('04/16/2018')"
   ]
  },
  {
   "cell_type": "code",
   "execution_count": 62,
   "metadata": {},
   "outputs": [
    {
     "name": "stderr",
     "output_type": "stream",
     "text": [
      "/anaconda3/lib/python3.6/site-packages/IPython/core/interactiveshell.py:2728: DtypeWarning: Columns (5,12,49,50,51,62,65,66) have mixed types. Specify dtype option on import or set low_memory=False.\n",
      "  interactivity=interactivity, compiler=compiler, result=result)\n"
     ]
    }
   ],
   "source": [
    "data = pd.read_csv('CRSP.csv')"
   ]
  },
  {
   "cell_type": "code",
   "execution_count": 63,
   "metadata": {},
   "outputs": [],
   "source": [
    "sp_data = get_yahoo_prices('^GSPC', start, end)"
   ]
  },
  {
   "cell_type": "code",
   "execution_count": 64,
   "metadata": {},
   "outputs": [],
   "source": [
    "active_price = pd.read_csv('active_price_data.csv')\n",
    "passive_price = pd.read_csv('passive_price_data.csv')"
   ]
  },
  {
   "cell_type": "markdown",
   "metadata": {},
   "source": [
    "# Cleaning/Preparation"
   ]
  },
  {
   "cell_type": "markdown",
   "metadata": {},
   "source": [
    "### CRSP Data"
   ]
  },
  {
   "cell_type": "code",
   "execution_count": 65,
   "metadata": {},
   "outputs": [
    {
     "data": {
      "text/plain": [
       "(550596, 73)"
      ]
     },
     "execution_count": 65,
     "metadata": {},
     "output_type": "execute_result"
    }
   ],
   "source": [
    "data.shape"
   ]
  },
  {
   "cell_type": "code",
   "execution_count": 66,
   "metadata": {},
   "outputs": [
    {
     "data": {
      "text/plain": [
       "Index(['summary_period2', 'crsp_fundno', 'caldt', 'nav_latest',\n",
       "       'nav_latest_dt', 'tna_latest', 'tna_latest_dt', 'yield', 'div_ytd',\n",
       "       'cap_gains_ytd', 'nav_52w_h', 'nav_52w_h_dt', 'nav_52w_l',\n",
       "       'nav_52w_l_dt', 'unrealized_app_dep', 'unrealized_app_dt', 'asset_dt',\n",
       "       'per_com', 'per_pref', 'per_conv', 'per_corp', 'per_muni', 'per_govt',\n",
       "       'per_oth', 'per_cash', 'per_bond', 'per_abs', 'per_mbs', 'per_eq_oth',\n",
       "       'per_fi_oth', 'maturity', 'maturity_dt', 'cusip8', 'crsp_portno',\n",
       "       'crsp_cl_grp', 'fund_name', 'ticker', 'ncusip', 'mgmt_name', 'mgmt_cd',\n",
       "       'mgr_name', 'mgr_dt', 'adv_name', 'open_to_inv', 'retail_fund',\n",
       "       'inst_fund', 'm_fund', 'index_fund_flag', 'vau_fund', 'et_flag',\n",
       "       'delist_cd', 'first_offer_dt', 'end_dt', 'dead_flag', 'merge_fundno',\n",
       "       'actual_12b1', 'max_12b1', 'exp_ratio', 'mgmt_fee', 'turn_ratio',\n",
       "       'fiscal_yearend', 'crsp_obj_cd', 'si_obj_cd', 'accrual_fund',\n",
       "       'sales_restrict', 'wbrger_obj_cd', 'policy', 'lipper_class',\n",
       "       'lipper_class_name', 'lipper_obj_cd', 'lipper_obj_name',\n",
       "       'lipper_asset_cd', 'lipper_tax_cd'],\n",
       "      dtype='object')"
      ]
     },
     "execution_count": 66,
     "metadata": {},
     "output_type": "execute_result"
    }
   ],
   "source": [
    "data.columns"
   ]
  },
  {
   "cell_type": "code",
   "execution_count": 67,
   "metadata": {},
   "outputs": [],
   "source": [
    "df = pd.DataFrame({'Fund Name' : data['fund_name'], 'Fund Ticker' : data['ticker'], \n",
    "                   'Open to Investors' : data['open_to_inv'], 'Expense Ratio' : data['exp_ratio'],\n",
    "                  'Management Fee' : data['mgmt_fee'], 'Turnover Ratio' : data['turn_ratio']})"
   ]
  },
  {
   "cell_type": "code",
   "execution_count": 68,
   "metadata": {},
   "outputs": [
    {
     "data": {
      "text/plain": [
       "Expense Ratio         77314\n",
       "Fund Name              7823\n",
       "Fund Ticker           86503\n",
       "Management Fee       144968\n",
       "Open to Investors     81168\n",
       "Turnover Ratio        77314\n",
       "dtype: int64"
      ]
     },
     "execution_count": 68,
     "metadata": {},
     "output_type": "execute_result"
    }
   ],
   "source": [
    "df.isnull().sum()"
   ]
  },
  {
   "cell_type": "code",
   "execution_count": 69,
   "metadata": {},
   "outputs": [],
   "source": [
    "df.dropna(inplace = True)"
   ]
  },
  {
   "cell_type": "code",
   "execution_count": 70,
   "metadata": {},
   "outputs": [
    {
     "data": {
      "text/plain": [
       "count    371785.000000\n",
       "mean         -5.379646\n",
       "std         182.354466\n",
       "min         -99.000000\n",
       "25%           0.210000\n",
       "50%           0.490000\n",
       "75%           0.990000\n",
       "max      110120.080000\n",
       "Name: Turnover Ratio, dtype: float64"
      ]
     },
     "execution_count": 70,
     "metadata": {},
     "output_type": "execute_result"
    }
   ],
   "source": [
    "df['Turnover Ratio'].describe()"
   ]
  },
  {
   "cell_type": "code",
   "execution_count": 71,
   "metadata": {},
   "outputs": [],
   "source": [
    "df['Active or Passive'] = df['Expense Ratio'].apply(managed)\n",
    "df['Active or Passive'] = df['Turnover Ratio'].apply(managed_turn)"
   ]
  },
  {
   "cell_type": "code",
   "execution_count": 72,
   "metadata": {},
   "outputs": [],
   "source": [
    "df = df[df['Open to Investors'] == 'Y']"
   ]
  },
  {
   "cell_type": "code",
   "execution_count": 73,
   "metadata": {},
   "outputs": [],
   "source": [
    "df = df[df['Management Fee'] > 0]"
   ]
  },
  {
   "cell_type": "code",
   "execution_count": 74,
   "metadata": {},
   "outputs": [],
   "source": [
    "df = df[df['Expense Ratio'] > 0]"
   ]
  },
  {
   "cell_type": "code",
   "execution_count": 75,
   "metadata": {},
   "outputs": [],
   "source": [
    "df.drop_duplicates(subset = ['Fund Ticker'], inplace = True)"
   ]
  },
  {
   "cell_type": "code",
   "execution_count": 76,
   "metadata": {},
   "outputs": [
    {
     "data": {
      "text/plain": [
       "(39653, 7)"
      ]
     },
     "execution_count": 76,
     "metadata": {},
     "output_type": "execute_result"
    }
   ],
   "source": [
    "df.shape"
   ]
  },
  {
   "cell_type": "code",
   "execution_count": 77,
   "metadata": {},
   "outputs": [
    {
     "data": {
      "text/html": [
       "<div>\n",
       "<style scoped>\n",
       "    .dataframe tbody tr th:only-of-type {\n",
       "        vertical-align: middle;\n",
       "    }\n",
       "\n",
       "    .dataframe tbody tr th {\n",
       "        vertical-align: top;\n",
       "    }\n",
       "\n",
       "    .dataframe thead th {\n",
       "        text-align: right;\n",
       "    }\n",
       "</style>\n",
       "<table border=\"1\" class=\"dataframe\">\n",
       "  <thead>\n",
       "    <tr style=\"text-align: right;\">\n",
       "      <th></th>\n",
       "      <th>Expense Ratio</th>\n",
       "      <th>Fund Name</th>\n",
       "      <th>Fund Ticker</th>\n",
       "      <th>Management Fee</th>\n",
       "      <th>Open to Investors</th>\n",
       "      <th>Turnover Ratio</th>\n",
       "      <th>Active or Passive</th>\n",
       "    </tr>\n",
       "  </thead>\n",
       "  <tbody>\n",
       "    <tr>\n",
       "      <th>2</th>\n",
       "      <td>0.0042</td>\n",
       "      <td>AARP Income Trust: AARP Bond Fund for Income</td>\n",
       "      <td>AABIX</td>\n",
       "      <td>0.084</td>\n",
       "      <td>Y</td>\n",
       "      <td>0.64</td>\n",
       "      <td>active</td>\n",
       "    </tr>\n",
       "    <tr>\n",
       "      <th>12</th>\n",
       "      <td>0.0200</td>\n",
       "      <td>ABN AMRO Funds: International Fixed Income Fun...</td>\n",
       "      <td>AAIFX</td>\n",
       "      <td>1.175</td>\n",
       "      <td>Y</td>\n",
       "      <td>0.40</td>\n",
       "      <td>active</td>\n",
       "    </tr>\n",
       "    <tr>\n",
       "      <th>15</th>\n",
       "      <td>0.0175</td>\n",
       "      <td>AARP Growth Trust: AARP International Stock Fund</td>\n",
       "      <td>AAISX</td>\n",
       "      <td>0.228</td>\n",
       "      <td>Y</td>\n",
       "      <td>2.14</td>\n",
       "      <td>active</td>\n",
       "    </tr>\n",
       "    <tr>\n",
       "      <th>61</th>\n",
       "      <td>0.0088</td>\n",
       "      <td>AARP Growth Trust: AARP Balanced Stock and Bon...</td>\n",
       "      <td>ABSBX</td>\n",
       "      <td>0.470</td>\n",
       "      <td>Y</td>\n",
       "      <td>0.48</td>\n",
       "      <td>active</td>\n",
       "    </tr>\n",
       "    <tr>\n",
       "      <th>245</th>\n",
       "      <td>0.0085</td>\n",
       "      <td>Mercantile Mutual Funds, Inc.: Equity Index Po...</td>\n",
       "      <td>AEPAX</td>\n",
       "      <td>0.400</td>\n",
       "      <td>Y</td>\n",
       "      <td>0.28</td>\n",
       "      <td>active</td>\n",
       "    </tr>\n",
       "  </tbody>\n",
       "</table>\n",
       "</div>"
      ],
      "text/plain": [
       "     Expense Ratio                                          Fund Name  \\\n",
       "2           0.0042       AARP Income Trust: AARP Bond Fund for Income   \n",
       "12          0.0200  ABN AMRO Funds: International Fixed Income Fun...   \n",
       "15          0.0175   AARP Growth Trust: AARP International Stock Fund   \n",
       "61          0.0088  AARP Growth Trust: AARP Balanced Stock and Bon...   \n",
       "245         0.0085  Mercantile Mutual Funds, Inc.: Equity Index Po...   \n",
       "\n",
       "    Fund Ticker  Management Fee Open to Investors  Turnover Ratio  \\\n",
       "2         AABIX           0.084                 Y            0.64   \n",
       "12        AAIFX           1.175                 Y            0.40   \n",
       "15        AAISX           0.228                 Y            2.14   \n",
       "61        ABSBX           0.470                 Y            0.48   \n",
       "245       AEPAX           0.400                 Y            0.28   \n",
       "\n",
       "    Active or Passive  \n",
       "2              active  \n",
       "12             active  \n",
       "15             active  \n",
       "61             active  \n",
       "245            active  "
      ]
     },
     "execution_count": 77,
     "metadata": {},
     "output_type": "execute_result"
    }
   ],
   "source": [
    "df.head(5)"
   ]
  },
  {
   "cell_type": "code",
   "execution_count": 78,
   "metadata": {},
   "outputs": [
    {
     "data": {
      "text/plain": [
       "active     30680\n",
       "passive     8973\n",
       "Name: Active or Passive, dtype: int64"
      ]
     },
     "execution_count": 78,
     "metadata": {},
     "output_type": "execute_result"
    }
   ],
   "source": [
    "df['Active or Passive'].value_counts()"
   ]
  },
  {
   "cell_type": "code",
   "execution_count": 79,
   "metadata": {
    "scrolled": true
   },
   "outputs": [],
   "source": [
    "df_active = df[df['Active or Passive'] == 'active']\n",
    "df_passive = df[df['Active or Passive'] != 'active']"
   ]
  },
  {
   "cell_type": "markdown",
   "metadata": {},
   "source": [
    "### Active/Passive Price Data"
   ]
  },
  {
   "cell_type": "code",
   "execution_count": 80,
   "metadata": {},
   "outputs": [
    {
     "data": {
      "text/html": [
       "<div>\n",
       "<style scoped>\n",
       "    .dataframe tbody tr th:only-of-type {\n",
       "        vertical-align: middle;\n",
       "    }\n",
       "\n",
       "    .dataframe tbody tr th {\n",
       "        vertical-align: top;\n",
       "    }\n",
       "\n",
       "    .dataframe thead th {\n",
       "        text-align: right;\n",
       "    }\n",
       "</style>\n",
       "<table border=\"1\" class=\"dataframe\">\n",
       "  <thead>\n",
       "    <tr style=\"text-align: right;\">\n",
       "      <th></th>\n",
       "      <th>Unnamed: 0</th>\n",
       "      <th>date</th>\n",
       "      <th>SSHVX</th>\n",
       "      <th>ICNCX</th>\n",
       "      <th>MSPHX</th>\n",
       "      <th>CPSHX</th>\n",
       "      <th>HSFAX</th>\n",
       "      <th>FMFMX</th>\n",
       "      <th>WGLIX</th>\n",
       "      <th>IYPOX</th>\n",
       "      <th>CPAWX</th>\n",
       "      <th>SDIVX</th>\n",
       "      <th>NWGJX</th>\n",
       "      <th>FGHCX</th>\n",
       "    </tr>\n",
       "  </thead>\n",
       "  <tbody>\n",
       "    <tr>\n",
       "      <th>0</th>\n",
       "      <td>0</td>\n",
       "      <td>1980-01-01</td>\n",
       "      <td>NaN</td>\n",
       "      <td>NaN</td>\n",
       "      <td>NaN</td>\n",
       "      <td>NaN</td>\n",
       "      <td>NaN</td>\n",
       "      <td>NaN</td>\n",
       "      <td>NaN</td>\n",
       "      <td>NaN</td>\n",
       "      <td>NaN</td>\n",
       "      <td>NaN</td>\n",
       "      <td>NaN</td>\n",
       "      <td>NaN</td>\n",
       "    </tr>\n",
       "    <tr>\n",
       "      <th>1</th>\n",
       "      <td>1</td>\n",
       "      <td>1980-01-02</td>\n",
       "      <td>NaN</td>\n",
       "      <td>NaN</td>\n",
       "      <td>NaN</td>\n",
       "      <td>NaN</td>\n",
       "      <td>NaN</td>\n",
       "      <td>NaN</td>\n",
       "      <td>NaN</td>\n",
       "      <td>NaN</td>\n",
       "      <td>NaN</td>\n",
       "      <td>NaN</td>\n",
       "      <td>NaN</td>\n",
       "      <td>NaN</td>\n",
       "    </tr>\n",
       "    <tr>\n",
       "      <th>2</th>\n",
       "      <td>2</td>\n",
       "      <td>1980-01-03</td>\n",
       "      <td>NaN</td>\n",
       "      <td>NaN</td>\n",
       "      <td>NaN</td>\n",
       "      <td>NaN</td>\n",
       "      <td>NaN</td>\n",
       "      <td>NaN</td>\n",
       "      <td>NaN</td>\n",
       "      <td>NaN</td>\n",
       "      <td>NaN</td>\n",
       "      <td>NaN</td>\n",
       "      <td>NaN</td>\n",
       "      <td>NaN</td>\n",
       "    </tr>\n",
       "    <tr>\n",
       "      <th>3</th>\n",
       "      <td>3</td>\n",
       "      <td>1980-01-04</td>\n",
       "      <td>NaN</td>\n",
       "      <td>NaN</td>\n",
       "      <td>NaN</td>\n",
       "      <td>NaN</td>\n",
       "      <td>NaN</td>\n",
       "      <td>NaN</td>\n",
       "      <td>NaN</td>\n",
       "      <td>NaN</td>\n",
       "      <td>NaN</td>\n",
       "      <td>NaN</td>\n",
       "      <td>NaN</td>\n",
       "      <td>NaN</td>\n",
       "    </tr>\n",
       "    <tr>\n",
       "      <th>4</th>\n",
       "      <td>4</td>\n",
       "      <td>1980-01-05</td>\n",
       "      <td>NaN</td>\n",
       "      <td>NaN</td>\n",
       "      <td>NaN</td>\n",
       "      <td>NaN</td>\n",
       "      <td>NaN</td>\n",
       "      <td>NaN</td>\n",
       "      <td>NaN</td>\n",
       "      <td>NaN</td>\n",
       "      <td>NaN</td>\n",
       "      <td>NaN</td>\n",
       "      <td>NaN</td>\n",
       "      <td>NaN</td>\n",
       "    </tr>\n",
       "  </tbody>\n",
       "</table>\n",
       "</div>"
      ],
      "text/plain": [
       "   Unnamed: 0        date  SSHVX  ICNCX  MSPHX  CPSHX  HSFAX  FMFMX  WGLIX  \\\n",
       "0           0  1980-01-01    NaN    NaN    NaN    NaN    NaN    NaN    NaN   \n",
       "1           1  1980-01-02    NaN    NaN    NaN    NaN    NaN    NaN    NaN   \n",
       "2           2  1980-01-03    NaN    NaN    NaN    NaN    NaN    NaN    NaN   \n",
       "3           3  1980-01-04    NaN    NaN    NaN    NaN    NaN    NaN    NaN   \n",
       "4           4  1980-01-05    NaN    NaN    NaN    NaN    NaN    NaN    NaN   \n",
       "\n",
       "   IYPOX  CPAWX  SDIVX  NWGJX  FGHCX  \n",
       "0    NaN    NaN    NaN    NaN    NaN  \n",
       "1    NaN    NaN    NaN    NaN    NaN  \n",
       "2    NaN    NaN    NaN    NaN    NaN  \n",
       "3    NaN    NaN    NaN    NaN    NaN  \n",
       "4    NaN    NaN    NaN    NaN    NaN  "
      ]
     },
     "execution_count": 80,
     "metadata": {},
     "output_type": "execute_result"
    }
   ],
   "source": [
    "active_price.head()"
   ]
  },
  {
   "cell_type": "code",
   "execution_count": 81,
   "metadata": {},
   "outputs": [
    {
     "data": {
      "text/html": [
       "<div>\n",
       "<style scoped>\n",
       "    .dataframe tbody tr th:only-of-type {\n",
       "        vertical-align: middle;\n",
       "    }\n",
       "\n",
       "    .dataframe tbody tr th {\n",
       "        vertical-align: top;\n",
       "    }\n",
       "\n",
       "    .dataframe thead th {\n",
       "        text-align: right;\n",
       "    }\n",
       "</style>\n",
       "<table border=\"1\" class=\"dataframe\">\n",
       "  <thead>\n",
       "    <tr style=\"text-align: right;\">\n",
       "      <th></th>\n",
       "      <th>Unnamed: 0</th>\n",
       "      <th>date</th>\n",
       "      <th>SH</th>\n",
       "      <th>MDIDX</th>\n",
       "      <th>CUTDX</th>\n",
       "      <th>MRYYX</th>\n",
       "      <th>EAIFX</th>\n",
       "      <th>JULGX</th>\n",
       "      <th>QCAN</th>\n",
       "      <th>FALEX</th>\n",
       "      <th>LOTAX</th>\n",
       "      <th>EITMX</th>\n",
       "      <th>BRCCX</th>\n",
       "      <th>VALAX</th>\n",
       "    </tr>\n",
       "  </thead>\n",
       "  <tbody>\n",
       "    <tr>\n",
       "      <th>0</th>\n",
       "      <td>0</td>\n",
       "      <td>1980-01-01</td>\n",
       "      <td>NaN</td>\n",
       "      <td>NaN</td>\n",
       "      <td>NaN</td>\n",
       "      <td>NaN</td>\n",
       "      <td>NaN</td>\n",
       "      <td>NaN</td>\n",
       "      <td>NaN</td>\n",
       "      <td>NaN</td>\n",
       "      <td>NaN</td>\n",
       "      <td>NaN</td>\n",
       "      <td>NaN</td>\n",
       "      <td>NaN</td>\n",
       "    </tr>\n",
       "    <tr>\n",
       "      <th>1</th>\n",
       "      <td>1</td>\n",
       "      <td>1980-01-02</td>\n",
       "      <td>NaN</td>\n",
       "      <td>NaN</td>\n",
       "      <td>NaN</td>\n",
       "      <td>NaN</td>\n",
       "      <td>NaN</td>\n",
       "      <td>NaN</td>\n",
       "      <td>NaN</td>\n",
       "      <td>NaN</td>\n",
       "      <td>NaN</td>\n",
       "      <td>NaN</td>\n",
       "      <td>NaN</td>\n",
       "      <td>NaN</td>\n",
       "    </tr>\n",
       "    <tr>\n",
       "      <th>2</th>\n",
       "      <td>2</td>\n",
       "      <td>1980-01-03</td>\n",
       "      <td>NaN</td>\n",
       "      <td>NaN</td>\n",
       "      <td>NaN</td>\n",
       "      <td>NaN</td>\n",
       "      <td>NaN</td>\n",
       "      <td>NaN</td>\n",
       "      <td>NaN</td>\n",
       "      <td>NaN</td>\n",
       "      <td>NaN</td>\n",
       "      <td>NaN</td>\n",
       "      <td>NaN</td>\n",
       "      <td>NaN</td>\n",
       "    </tr>\n",
       "    <tr>\n",
       "      <th>3</th>\n",
       "      <td>3</td>\n",
       "      <td>1980-01-04</td>\n",
       "      <td>NaN</td>\n",
       "      <td>NaN</td>\n",
       "      <td>NaN</td>\n",
       "      <td>NaN</td>\n",
       "      <td>NaN</td>\n",
       "      <td>NaN</td>\n",
       "      <td>NaN</td>\n",
       "      <td>NaN</td>\n",
       "      <td>NaN</td>\n",
       "      <td>NaN</td>\n",
       "      <td>NaN</td>\n",
       "      <td>NaN</td>\n",
       "    </tr>\n",
       "    <tr>\n",
       "      <th>4</th>\n",
       "      <td>4</td>\n",
       "      <td>1980-01-05</td>\n",
       "      <td>NaN</td>\n",
       "      <td>NaN</td>\n",
       "      <td>NaN</td>\n",
       "      <td>NaN</td>\n",
       "      <td>NaN</td>\n",
       "      <td>NaN</td>\n",
       "      <td>NaN</td>\n",
       "      <td>NaN</td>\n",
       "      <td>NaN</td>\n",
       "      <td>NaN</td>\n",
       "      <td>NaN</td>\n",
       "      <td>NaN</td>\n",
       "    </tr>\n",
       "  </tbody>\n",
       "</table>\n",
       "</div>"
      ],
      "text/plain": [
       "   Unnamed: 0        date  SH  MDIDX  CUTDX  MRYYX  EAIFX  JULGX  QCAN  FALEX  \\\n",
       "0           0  1980-01-01 NaN    NaN    NaN    NaN    NaN    NaN   NaN    NaN   \n",
       "1           1  1980-01-02 NaN    NaN    NaN    NaN    NaN    NaN   NaN    NaN   \n",
       "2           2  1980-01-03 NaN    NaN    NaN    NaN    NaN    NaN   NaN    NaN   \n",
       "3           3  1980-01-04 NaN    NaN    NaN    NaN    NaN    NaN   NaN    NaN   \n",
       "4           4  1980-01-05 NaN    NaN    NaN    NaN    NaN    NaN   NaN    NaN   \n",
       "\n",
       "   LOTAX  EITMX  BRCCX  VALAX  \n",
       "0    NaN    NaN    NaN    NaN  \n",
       "1    NaN    NaN    NaN    NaN  \n",
       "2    NaN    NaN    NaN    NaN  \n",
       "3    NaN    NaN    NaN    NaN  \n",
       "4    NaN    NaN    NaN    NaN  "
      ]
     },
     "execution_count": 81,
     "metadata": {},
     "output_type": "execute_result"
    }
   ],
   "source": [
    "passive_price.head()"
   ]
  },
  {
   "cell_type": "code",
   "execution_count": 82,
   "metadata": {},
   "outputs": [],
   "source": [
    "active_price = active_price.iloc[:, 1:]"
   ]
  },
  {
   "cell_type": "code",
   "execution_count": 83,
   "metadata": {},
   "outputs": [],
   "source": [
    "passive_price = passive_price.iloc[:, 1:]"
   ]
  },
  {
   "cell_type": "code",
   "execution_count": null,
   "metadata": {},
   "outputs": [],
   "source": []
  },
  {
   "cell_type": "markdown",
   "metadata": {},
   "source": [
    "# Analysis"
   ]
  },
  {
   "cell_type": "markdown",
   "metadata": {},
   "source": [
    "### Returns"
   ]
  },
  {
   "cell_type": "code",
   "execution_count": 84,
   "metadata": {},
   "outputs": [],
   "source": [
    "#rets = pd.DataFrame({'date' : pd.date_range(start, end), 'S&P 500' : sp_data.pct_change()})"
   ]
  },
  {
   "cell_type": "code",
   "execution_count": null,
   "metadata": {},
   "outputs": [],
   "source": []
  },
  {
   "cell_type": "code",
   "execution_count": null,
   "metadata": {},
   "outputs": [],
   "source": []
  },
  {
   "cell_type": "markdown",
   "metadata": {},
   "source": [
    "### Number of Active vs Passive Funds"
   ]
  },
  {
   "cell_type": "code",
   "execution_count": 85,
   "metadata": {},
   "outputs": [],
   "source": [
    "active = len(df_passive)\n",
    "passive = len(df_active)\n",
    "\n",
    "total = active + passive\n",
    "act = round(100*(active/total),2)\n",
    "pas = round(100*(passive/total),2)"
   ]
  },
  {
   "cell_type": "markdown",
   "metadata": {},
   "source": [
    "### Management fees - Active vs Passive Funds"
   ]
  },
  {
   "cell_type": "code",
   "execution_count": 86,
   "metadata": {},
   "outputs": [],
   "source": [
    "avg_active = round(df_active['Management Fee'].mean(),3)\n",
    "avg_passive = round(df_passive['Management Fee'].mean(),3)\n"
   ]
  },
  {
   "cell_type": "markdown",
   "metadata": {},
   "source": [
    "### Expense Ratio - Active vs Passive"
   ]
  },
  {
   "cell_type": "code",
   "execution_count": 87,
   "metadata": {},
   "outputs": [],
   "source": [
    "avg_active_exp = round(df_active['Expense Ratio'].mean(),3)\n",
    "avg_passive_exp = round(df_passive['Expense Ratio'].mean(),3)"
   ]
  },
  {
   "cell_type": "markdown",
   "metadata": {},
   "source": [
    "# Visualization"
   ]
  },
  {
   "cell_type": "code",
   "execution_count": 88,
   "metadata": {},
   "outputs": [],
   "source": [
    "active_mgmt = df_active['Management Fee']\n",
    "pass_mgmt = df_passive['Management Fee']\n",
    "active_exp = df_active['Expense Ratio']\n",
    "pass_exp = df_passive['Expense Ratio']"
   ]
  },
  {
   "cell_type": "code",
   "execution_count": 89,
   "metadata": {},
   "outputs": [
    {
     "name": "stderr",
     "output_type": "stream",
     "text": [
      "/anaconda3/lib/python3.6/site-packages/pandas/core/indexing.py:537: SettingWithCopyWarning: \n",
      "A value is trying to be set on a copy of a slice from a DataFrame.\n",
      "Try using .loc[row_indexer,col_indexer] = value instead\n",
      "\n",
      "See the caveats in the documentation: http://pandas.pydata.org/pandas-docs/stable/indexing.html#indexing-view-versus-copy\n",
      "  self.obj[item] = s\n"
     ]
    }
   ],
   "source": [
    "df_active.loc[:,'Expense Ratio'] *= 100\n",
    "df_passive.loc[:,'Expense Ratio'] *= 100"
   ]
  },
  {
   "cell_type": "markdown",
   "metadata": {},
   "source": [
    "### Distribution of Management Fee's"
   ]
  },
  {
   "cell_type": "code",
   "execution_count": 90,
   "metadata": {},
   "outputs": [
    {
     "data": {
      "image/png": "[encoded data removed]",
      "text/plain": [
       "<matplotlib.figure.Figure at 0x1a1235b748>"
      ]
     },
     "metadata": {},
     "output_type": "display_data"
    }
   ],
   "source": [
    "plt.hist(active_mgmt, bins = 500, label='active')\n",
    "plt.hist(pass_mgmt, bins = 500, label='passive')\n",
    "plt.xlabel('Management Fee')\n",
    "plt.ylabel('Number of Funds')\n",
    "plt.legend(loc='upper right')\n",
    "plt.xlim(0,3)\n",
    "plt.show()"
   ]
  },
  {
   "cell_type": "markdown",
   "metadata": {},
   "source": [
    "### Distribution of Management Fee's"
   ]
  },
  {
   "cell_type": "code",
   "execution_count": 91,
   "metadata": {
    "scrolled": false
   },
   "outputs": [
    {
     "data": {
      "image/png": "[encoded data removed]",
      "text/plain": [
       "<matplotlib.figure.Figure at 0x1a231985c0>"
      ]
     },
     "metadata": {},
     "output_type": "display_data"
    }
   ],
   "source": [
    "plt.hist(active_exp, bins = 700, label='active')\n",
    "plt.hist(pass_exp, bins = 50, label='passive')\n",
    "plt.xlabel('Expense Ratio')\n",
    "plt.ylabel('Number of Funds')\n",
    "plt.legend(loc='upper right')\n",
    "plt.xlim(0,7)\n",
    "plt.show()"
   ]
  },
  {
   "cell_type": "markdown",
   "metadata": {},
   "source": [
    "# Conclusions"
   ]
  },
  {
   "cell_type": "code",
   "execution_count": 92,
   "metadata": {},
   "outputs": [
    {
     "name": "stdout",
     "output_type": "stream",
     "text": [
      "Average management fee for actively managed funds: 0.611%\n",
      "Average management fee for passively managed funds: 0.414%\n"
     ]
    }
   ],
   "source": [
    "print('Average management fee for actively managed funds: {}%'.format(avg_active))\n",
    "print('Average management fee for passively managed funds: {}%'.format(avg_passive))"
   ]
  },
  {
   "cell_type": "code",
   "execution_count": 93,
   "metadata": {},
   "outputs": [
    {
     "name": "stdout",
     "output_type": "stream",
     "text": [
      "There are 8973 (22.63%) actively managed mutual funds\n",
      "There are 30680 (77.37%) passively managed mutual funds\n"
     ]
    }
   ],
   "source": [
    "print('There are {} ({}%) actively managed mutual funds'.format(active, act))\n",
    "print('There are {} ({}%) passively managed mutual funds'.format(passive, pas))"
   ]
  },
  {
   "cell_type": "code",
   "execution_count": 94,
   "metadata": {},
   "outputs": [
    {
     "name": "stdout",
     "output_type": "stream",
     "text": [
      "Average expense ratio for actively managed funds: 0.013%\n",
      "Average expense ratio for passively managed funds: 0.009%\n"
     ]
    }
   ],
   "source": [
    "print('Average expense ratio for actively managed funds: {}%'.format(avg_active_exp))\n",
    "print('Average expense ratio for passively managed funds: {}%'.format(avg_passive_exp))"
   ]
  },
  {
   "cell_type": "code",
   "execution_count": null,
   "metadata": {},
   "outputs": [],
   "source": []
  }
 ],
 "metadata": {
  "kernelspec": {
   "display_name": "Python 3",
   "language": "python",
   "name": "python3"
  },
  "language_info": {
   "codemirror_mode": {
    "name": "ipython",
    "version": 3
   },
   "file_extension": ".py",
   "mimetype": "text/x-python",
   "name": "python",
   "nbconvert_exporter": "python",
   "pygments_lexer": "ipython3",
   "version": "3.6.4"
  }
 },
 "nbformat": 4,
 "nbformat_minor": 2
}
